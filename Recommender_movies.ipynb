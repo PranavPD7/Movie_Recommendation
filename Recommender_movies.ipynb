{
  "nbformat": 4,
  "nbformat_minor": 0,
  "metadata": {
    "colab": {
      "provenance": [],
      "mount_file_id": "10Zmgogp7CMTo4-6DDLvmSLpELx13STgZ",
      "authorship_tag": "ABX9TyPu7DEbyS47gd0YoHFs84hw",
      "include_colab_link": true
    },
    "kernelspec": {
      "name": "python3",
      "display_name": "Python 3"
    },
    "language_info": {
      "name": "python"
    }
  },
  "cells": [
    {
      "cell_type": "markdown",
      "metadata": {
        "id": "view-in-github",
        "colab_type": "text"
      },
      "source": [
        "<a href=\"https://colab.research.google.com/github/PranavPD7/Movie_Recommendation/blob/main/Recommender_movies.ipynb\" target=\"_parent\"><img src=\"https://colab.research.google.com/assets/colab-badge.svg\" alt=\"Open In Colab\"/></a>"
      ]
    },
    {
      "cell_type": "code",
      "execution_count": null,
      "metadata": {
        "id": "byLB0kHJCEeu"
      },
      "outputs": [],
      "source": [
        "import numpy as np\n",
        "import pandas as pd\n",
        "import nltk\n",
        "from nltk.stem.porter import PorterStemmer"
      ]
    },
    {
      "cell_type": "code",
      "source": [
        "from sklearn.feature_extraction.text import TfidfVectorizer\n",
        "from nltk.corpus import stopwords\n"
      ],
      "metadata": {
        "id": "-RxAImqnDbH6"
      },
      "execution_count": null,
      "outputs": []
    },
    {
      "cell_type": "code",
      "source": [
        "nltk.download('stopwords')\n"
      ],
      "metadata": {
        "colab": {
          "base_uri": "https://localhost:8080/"
        },
        "id": "BF1t1BAmDrrT",
        "outputId": "4c912c81-5eca-4e3b-b37f-3c6bd7c23c60"
      },
      "execution_count": null,
      "outputs": [
        {
          "output_type": "stream",
          "name": "stderr",
          "text": [
            "[nltk_data] Downloading package stopwords to /root/nltk_data...\n",
            "[nltk_data]   Unzipping corpora/stopwords.zip.\n"
          ]
        },
        {
          "output_type": "execute_result",
          "data": {
            "text/plain": [
              "True"
            ]
          },
          "metadata": {},
          "execution_count": 3
        }
      ]
    },
    {
      "cell_type": "code",
      "source": [
        "import difflib\n",
        "import re\n",
        "import os"
      ],
      "metadata": {
        "id": "15cqNeEAEbvj"
      },
      "execution_count": null,
      "outputs": []
    },
    {
      "cell_type": "code",
      "source": [
        "print(stopwords.words('english'))"
      ],
      "metadata": {
        "colab": {
          "base_uri": "https://localhost:8080/"
        },
        "id": "QSsRL7S4EpRO",
        "outputId": "a039bc57-4569-49f0-bf75-d48dd8e38f4d"
      },
      "execution_count": null,
      "outputs": [
        {
          "output_type": "stream",
          "name": "stdout",
          "text": [
            "['i', 'me', 'my', 'myself', 'we', 'our', 'ours', 'ourselves', 'you', \"you're\", \"you've\", \"you'll\", \"you'd\", 'your', 'yours', 'yourself', 'yourselves', 'he', 'him', 'his', 'himself', 'she', \"she's\", 'her', 'hers', 'herself', 'it', \"it's\", 'its', 'itself', 'they', 'them', 'their', 'theirs', 'themselves', 'what', 'which', 'who', 'whom', 'this', 'that', \"that'll\", 'these', 'those', 'am', 'is', 'are', 'was', 'were', 'be', 'been', 'being', 'have', 'has', 'had', 'having', 'do', 'does', 'did', 'doing', 'a', 'an', 'the', 'and', 'but', 'if', 'or', 'because', 'as', 'until', 'while', 'of', 'at', 'by', 'for', 'with', 'about', 'against', 'between', 'into', 'through', 'during', 'before', 'after', 'above', 'below', 'to', 'from', 'up', 'down', 'in', 'out', 'on', 'off', 'over', 'under', 'again', 'further', 'then', 'once', 'here', 'there', 'when', 'where', 'why', 'how', 'all', 'any', 'both', 'each', 'few', 'more', 'most', 'other', 'some', 'such', 'no', 'nor', 'not', 'only', 'own', 'same', 'so', 'than', 'too', 'very', 's', 't', 'can', 'will', 'just', 'don', \"don't\", 'should', \"should've\", 'now', 'd', 'll', 'm', 'o', 're', 've', 'y', 'ain', 'aren', \"aren't\", 'couldn', \"couldn't\", 'didn', \"didn't\", 'doesn', \"doesn't\", 'hadn', \"hadn't\", 'hasn', \"hasn't\", 'haven', \"haven't\", 'isn', \"isn't\", 'ma', 'mightn', \"mightn't\", 'mustn', \"mustn't\", 'needn', \"needn't\", 'shan', \"shan't\", 'shouldn', \"shouldn't\", 'wasn', \"wasn't\", 'weren', \"weren't\", 'won', \"won't\", 'wouldn', \"wouldn't\"]\n"
          ]
        }
      ]
    },
    {
      "cell_type": "code",
      "source": [
        "dataset=pd.read_csv('/content/drive/MyDrive/Copy of movies.csv')\n",
        "dataset.head()"
      ],
      "metadata": {
        "colab": {
          "base_uri": "https://localhost:8080/",
          "height": 793
        },
        "id": "ZrrdgH9yFgLg",
        "outputId": "df8d6492-38da-4cd9-d0e4-54a2fc2699d1"
      },
      "execution_count": null,
      "outputs": [
        {
          "output_type": "execute_result",
          "data": {
            "text/plain": [
              "   index     budget                                    genres  \\\n",
              "0      0  237000000  Action Adventure Fantasy Science Fiction   \n",
              "1      1  300000000                  Adventure Fantasy Action   \n",
              "2      2  245000000                    Action Adventure Crime   \n",
              "3      3  250000000               Action Crime Drama Thriller   \n",
              "4      4  260000000          Action Adventure Science Fiction   \n",
              "\n",
              "                                       homepage      id  \\\n",
              "0                   http://www.avatarmovie.com/   19995   \n",
              "1  http://disney.go.com/disneypictures/pirates/     285   \n",
              "2   http://www.sonypictures.com/movies/spectre/  206647   \n",
              "3            http://www.thedarkknightrises.com/   49026   \n",
              "4          http://movies.disney.com/john-carter   49529   \n",
              "\n",
              "                                            keywords original_language  \\\n",
              "0  culture clash future space war space colony so...                en   \n",
              "1  ocean drug abuse exotic island east india trad...                en   \n",
              "2         spy based on novel secret agent sequel mi6                en   \n",
              "3  dc comics crime fighter terrorist secret ident...                en   \n",
              "4  based on novel mars medallion space travel pri...                en   \n",
              "\n",
              "                             original_title  \\\n",
              "0                                    Avatar   \n",
              "1  Pirates of the Caribbean: At World's End   \n",
              "2                                   Spectre   \n",
              "3                     The Dark Knight Rises   \n",
              "4                               John Carter   \n",
              "\n",
              "                                            overview  popularity  ... runtime  \\\n",
              "0  In the 22nd century, a paraplegic Marine is di...  150.437577  ...   162.0   \n",
              "1  Captain Barbossa, long believed to be dead, ha...  139.082615  ...   169.0   \n",
              "2  A cryptic message from Bond’s past sends him o...  107.376788  ...   148.0   \n",
              "3  Following the death of District Attorney Harve...  112.312950  ...   165.0   \n",
              "4  John Carter is a war-weary, former military ca...   43.926995  ...   132.0   \n",
              "\n",
              "                                    spoken_languages    status  \\\n",
              "0  [{\"iso_639_1\": \"en\", \"name\": \"English\"}, {\"iso...  Released   \n",
              "1           [{\"iso_639_1\": \"en\", \"name\": \"English\"}]  Released   \n",
              "2  [{\"iso_639_1\": \"fr\", \"name\": \"Fran\\u00e7ais\"},...  Released   \n",
              "3           [{\"iso_639_1\": \"en\", \"name\": \"English\"}]  Released   \n",
              "4           [{\"iso_639_1\": \"en\", \"name\": \"English\"}]  Released   \n",
              "\n",
              "                                          tagline  \\\n",
              "0                     Enter the World of Pandora.   \n",
              "1  At the end of the world, the adventure begins.   \n",
              "2                           A Plan No One Escapes   \n",
              "3                                 The Legend Ends   \n",
              "4            Lost in our world, found in another.   \n",
              "\n",
              "                                      title vote_average vote_count  \\\n",
              "0                                    Avatar          7.2      11800   \n",
              "1  Pirates of the Caribbean: At World's End          6.9       4500   \n",
              "2                                   Spectre          6.3       4466   \n",
              "3                     The Dark Knight Rises          7.6       9106   \n",
              "4                               John Carter          6.1       2124   \n",
              "\n",
              "                                                cast  \\\n",
              "0  Sam Worthington Zoe Saldana Sigourney Weaver S...   \n",
              "1  Johnny Depp Orlando Bloom Keira Knightley Stel...   \n",
              "2  Daniel Craig Christoph Waltz L\\u00e9a Seydoux ...   \n",
              "3  Christian Bale Michael Caine Gary Oldman Anne ...   \n",
              "4  Taylor Kitsch Lynn Collins Samantha Morton Wil...   \n",
              "\n",
              "                                                crew           director  \n",
              "0  [{'name': 'Stephen E. Rivkin', 'gender': 0, 'd...      James Cameron  \n",
              "1  [{'name': 'Dariusz Wolski', 'gender': 2, 'depa...     Gore Verbinski  \n",
              "2  [{'name': 'Thomas Newman', 'gender': 2, 'depar...         Sam Mendes  \n",
              "3  [{'name': 'Hans Zimmer', 'gender': 2, 'departm...  Christopher Nolan  \n",
              "4  [{'name': 'Andrew Stanton', 'gender': 2, 'depa...     Andrew Stanton  \n",
              "\n",
              "[5 rows x 24 columns]"
            ],
            "text/html": [
              "\n",
              "  <div id=\"df-679f7807-a116-44c7-89bf-73930fd01535\" class=\"colab-df-container\">\n",
              "    <div>\n",
              "<style scoped>\n",
              "    .dataframe tbody tr th:only-of-type {\n",
              "        vertical-align: middle;\n",
              "    }\n",
              "\n",
              "    .dataframe tbody tr th {\n",
              "        vertical-align: top;\n",
              "    }\n",
              "\n",
              "    .dataframe thead th {\n",
              "        text-align: right;\n",
              "    }\n",
              "</style>\n",
              "<table border=\"1\" class=\"dataframe\">\n",
              "  <thead>\n",
              "    <tr style=\"text-align: right;\">\n",
              "      <th></th>\n",
              "      <th>index</th>\n",
              "      <th>budget</th>\n",
              "      <th>genres</th>\n",
              "      <th>homepage</th>\n",
              "      <th>id</th>\n",
              "      <th>keywords</th>\n",
              "      <th>original_language</th>\n",
              "      <th>original_title</th>\n",
              "      <th>overview</th>\n",
              "      <th>popularity</th>\n",
              "      <th>...</th>\n",
              "      <th>runtime</th>\n",
              "      <th>spoken_languages</th>\n",
              "      <th>status</th>\n",
              "      <th>tagline</th>\n",
              "      <th>title</th>\n",
              "      <th>vote_average</th>\n",
              "      <th>vote_count</th>\n",
              "      <th>cast</th>\n",
              "      <th>crew</th>\n",
              "      <th>director</th>\n",
              "    </tr>\n",
              "  </thead>\n",
              "  <tbody>\n",
              "    <tr>\n",
              "      <th>0</th>\n",
              "      <td>0</td>\n",
              "      <td>237000000</td>\n",
              "      <td>Action Adventure Fantasy Science Fiction</td>\n",
              "      <td>http://www.avatarmovie.com/</td>\n",
              "      <td>19995</td>\n",
              "      <td>culture clash future space war space colony so...</td>\n",
              "      <td>en</td>\n",
              "      <td>Avatar</td>\n",
              "      <td>In the 22nd century, a paraplegic Marine is di...</td>\n",
              "      <td>150.437577</td>\n",
              "      <td>...</td>\n",
              "      <td>162.0</td>\n",
              "      <td>[{\"iso_639_1\": \"en\", \"name\": \"English\"}, {\"iso...</td>\n",
              "      <td>Released</td>\n",
              "      <td>Enter the World of Pandora.</td>\n",
              "      <td>Avatar</td>\n",
              "      <td>7.2</td>\n",
              "      <td>11800</td>\n",
              "      <td>Sam Worthington Zoe Saldana Sigourney Weaver S...</td>\n",
              "      <td>[{'name': 'Stephen E. Rivkin', 'gender': 0, 'd...</td>\n",
              "      <td>James Cameron</td>\n",
              "    </tr>\n",
              "    <tr>\n",
              "      <th>1</th>\n",
              "      <td>1</td>\n",
              "      <td>300000000</td>\n",
              "      <td>Adventure Fantasy Action</td>\n",
              "      <td>http://disney.go.com/disneypictures/pirates/</td>\n",
              "      <td>285</td>\n",
              "      <td>ocean drug abuse exotic island east india trad...</td>\n",
              "      <td>en</td>\n",
              "      <td>Pirates of the Caribbean: At World's End</td>\n",
              "      <td>Captain Barbossa, long believed to be dead, ha...</td>\n",
              "      <td>139.082615</td>\n",
              "      <td>...</td>\n",
              "      <td>169.0</td>\n",
              "      <td>[{\"iso_639_1\": \"en\", \"name\": \"English\"}]</td>\n",
              "      <td>Released</td>\n",
              "      <td>At the end of the world, the adventure begins.</td>\n",
              "      <td>Pirates of the Caribbean: At World's End</td>\n",
              "      <td>6.9</td>\n",
              "      <td>4500</td>\n",
              "      <td>Johnny Depp Orlando Bloom Keira Knightley Stel...</td>\n",
              "      <td>[{'name': 'Dariusz Wolski', 'gender': 2, 'depa...</td>\n",
              "      <td>Gore Verbinski</td>\n",
              "    </tr>\n",
              "    <tr>\n",
              "      <th>2</th>\n",
              "      <td>2</td>\n",
              "      <td>245000000</td>\n",
              "      <td>Action Adventure Crime</td>\n",
              "      <td>http://www.sonypictures.com/movies/spectre/</td>\n",
              "      <td>206647</td>\n",
              "      <td>spy based on novel secret agent sequel mi6</td>\n",
              "      <td>en</td>\n",
              "      <td>Spectre</td>\n",
              "      <td>A cryptic message from Bond’s past sends him o...</td>\n",
              "      <td>107.376788</td>\n",
              "      <td>...</td>\n",
              "      <td>148.0</td>\n",
              "      <td>[{\"iso_639_1\": \"fr\", \"name\": \"Fran\\u00e7ais\"},...</td>\n",
              "      <td>Released</td>\n",
              "      <td>A Plan No One Escapes</td>\n",
              "      <td>Spectre</td>\n",
              "      <td>6.3</td>\n",
              "      <td>4466</td>\n",
              "      <td>Daniel Craig Christoph Waltz L\\u00e9a Seydoux ...</td>\n",
              "      <td>[{'name': 'Thomas Newman', 'gender': 2, 'depar...</td>\n",
              "      <td>Sam Mendes</td>\n",
              "    </tr>\n",
              "    <tr>\n",
              "      <th>3</th>\n",
              "      <td>3</td>\n",
              "      <td>250000000</td>\n",
              "      <td>Action Crime Drama Thriller</td>\n",
              "      <td>http://www.thedarkknightrises.com/</td>\n",
              "      <td>49026</td>\n",
              "      <td>dc comics crime fighter terrorist secret ident...</td>\n",
              "      <td>en</td>\n",
              "      <td>The Dark Knight Rises</td>\n",
              "      <td>Following the death of District Attorney Harve...</td>\n",
              "      <td>112.312950</td>\n",
              "      <td>...</td>\n",
              "      <td>165.0</td>\n",
              "      <td>[{\"iso_639_1\": \"en\", \"name\": \"English\"}]</td>\n",
              "      <td>Released</td>\n",
              "      <td>The Legend Ends</td>\n",
              "      <td>The Dark Knight Rises</td>\n",
              "      <td>7.6</td>\n",
              "      <td>9106</td>\n",
              "      <td>Christian Bale Michael Caine Gary Oldman Anne ...</td>\n",
              "      <td>[{'name': 'Hans Zimmer', 'gender': 2, 'departm...</td>\n",
              "      <td>Christopher Nolan</td>\n",
              "    </tr>\n",
              "    <tr>\n",
              "      <th>4</th>\n",
              "      <td>4</td>\n",
              "      <td>260000000</td>\n",
              "      <td>Action Adventure Science Fiction</td>\n",
              "      <td>http://movies.disney.com/john-carter</td>\n",
              "      <td>49529</td>\n",
              "      <td>based on novel mars medallion space travel pri...</td>\n",
              "      <td>en</td>\n",
              "      <td>John Carter</td>\n",
              "      <td>John Carter is a war-weary, former military ca...</td>\n",
              "      <td>43.926995</td>\n",
              "      <td>...</td>\n",
              "      <td>132.0</td>\n",
              "      <td>[{\"iso_639_1\": \"en\", \"name\": \"English\"}]</td>\n",
              "      <td>Released</td>\n",
              "      <td>Lost in our world, found in another.</td>\n",
              "      <td>John Carter</td>\n",
              "      <td>6.1</td>\n",
              "      <td>2124</td>\n",
              "      <td>Taylor Kitsch Lynn Collins Samantha Morton Wil...</td>\n",
              "      <td>[{'name': 'Andrew Stanton', 'gender': 2, 'depa...</td>\n",
              "      <td>Andrew Stanton</td>\n",
              "    </tr>\n",
              "  </tbody>\n",
              "</table>\n",
              "<p>5 rows × 24 columns</p>\n",
              "</div>\n",
              "    <div class=\"colab-df-buttons\">\n",
              "\n",
              "  <div class=\"colab-df-container\">\n",
              "    <button class=\"colab-df-convert\" onclick=\"convertToInteractive('df-679f7807-a116-44c7-89bf-73930fd01535')\"\n",
              "            title=\"Convert this dataframe to an interactive table.\"\n",
              "            style=\"display:none;\">\n",
              "\n",
              "  <svg xmlns=\"http://www.w3.org/2000/svg\" height=\"24px\" viewBox=\"0 -960 960 960\">\n",
              "    <path d=\"M120-120v-720h720v720H120Zm60-500h600v-160H180v160Zm220 220h160v-160H400v160Zm0 220h160v-160H400v160ZM180-400h160v-160H180v160Zm440 0h160v-160H620v160ZM180-180h160v-160H180v160Zm440 0h160v-160H620v160Z\"/>\n",
              "  </svg>\n",
              "    </button>\n",
              "\n",
              "  <style>\n",
              "    .colab-df-container {\n",
              "      display:flex;\n",
              "      gap: 12px;\n",
              "    }\n",
              "\n",
              "    .colab-df-convert {\n",
              "      background-color: #E8F0FE;\n",
              "      border: none;\n",
              "      border-radius: 50%;\n",
              "      cursor: pointer;\n",
              "      display: none;\n",
              "      fill: #1967D2;\n",
              "      height: 32px;\n",
              "      padding: 0 0 0 0;\n",
              "      width: 32px;\n",
              "    }\n",
              "\n",
              "    .colab-df-convert:hover {\n",
              "      background-color: #E2EBFA;\n",
              "      box-shadow: 0px 1px 2px rgba(60, 64, 67, 0.3), 0px 1px 3px 1px rgba(60, 64, 67, 0.15);\n",
              "      fill: #174EA6;\n",
              "    }\n",
              "\n",
              "    .colab-df-buttons div {\n",
              "      margin-bottom: 4px;\n",
              "    }\n",
              "\n",
              "    [theme=dark] .colab-df-convert {\n",
              "      background-color: #3B4455;\n",
              "      fill: #D2E3FC;\n",
              "    }\n",
              "\n",
              "    [theme=dark] .colab-df-convert:hover {\n",
              "      background-color: #434B5C;\n",
              "      box-shadow: 0px 1px 3px 1px rgba(0, 0, 0, 0.15);\n",
              "      filter: drop-shadow(0px 1px 2px rgba(0, 0, 0, 0.3));\n",
              "      fill: #FFFFFF;\n",
              "    }\n",
              "  </style>\n",
              "\n",
              "    <script>\n",
              "      const buttonEl =\n",
              "        document.querySelector('#df-679f7807-a116-44c7-89bf-73930fd01535 button.colab-df-convert');\n",
              "      buttonEl.style.display =\n",
              "        google.colab.kernel.accessAllowed ? 'block' : 'none';\n",
              "\n",
              "      async function convertToInteractive(key) {\n",
              "        const element = document.querySelector('#df-679f7807-a116-44c7-89bf-73930fd01535');\n",
              "        const dataTable =\n",
              "          await google.colab.kernel.invokeFunction('convertToInteractive',\n",
              "                                                    [key], {});\n",
              "        if (!dataTable) return;\n",
              "\n",
              "        const docLinkHtml = 'Like what you see? Visit the ' +\n",
              "          '<a target=\"_blank\" href=https://colab.research.google.com/notebooks/data_table.ipynb>data table notebook</a>'\n",
              "          + ' to learn more about interactive tables.';\n",
              "        element.innerHTML = '';\n",
              "        dataTable['output_type'] = 'display_data';\n",
              "        await google.colab.output.renderOutput(dataTable, element);\n",
              "        const docLink = document.createElement('div');\n",
              "        docLink.innerHTML = docLinkHtml;\n",
              "        element.appendChild(docLink);\n",
              "      }\n",
              "    </script>\n",
              "  </div>\n",
              "\n",
              "\n",
              "<div id=\"df-ab1b7de4-d208-4fe3-bb7b-da7ed11610db\">\n",
              "  <button class=\"colab-df-quickchart\" onclick=\"quickchart('df-ab1b7de4-d208-4fe3-bb7b-da7ed11610db')\"\n",
              "            title=\"Suggest charts\"\n",
              "            style=\"display:none;\">\n",
              "\n",
              "<svg xmlns=\"http://www.w3.org/2000/svg\" height=\"24px\"viewBox=\"0 0 24 24\"\n",
              "     width=\"24px\">\n",
              "    <g>\n",
              "        <path d=\"M19 3H5c-1.1 0-2 .9-2 2v14c0 1.1.9 2 2 2h14c1.1 0 2-.9 2-2V5c0-1.1-.9-2-2-2zM9 17H7v-7h2v7zm4 0h-2V7h2v10zm4 0h-2v-4h2v4z\"/>\n",
              "    </g>\n",
              "</svg>\n",
              "  </button>\n",
              "\n",
              "<style>\n",
              "  .colab-df-quickchart {\n",
              "      --bg-color: #E8F0FE;\n",
              "      --fill-color: #1967D2;\n",
              "      --hover-bg-color: #E2EBFA;\n",
              "      --hover-fill-color: #174EA6;\n",
              "      --disabled-fill-color: #AAA;\n",
              "      --disabled-bg-color: #DDD;\n",
              "  }\n",
              "\n",
              "  [theme=dark] .colab-df-quickchart {\n",
              "      --bg-color: #3B4455;\n",
              "      --fill-color: #D2E3FC;\n",
              "      --hover-bg-color: #434B5C;\n",
              "      --hover-fill-color: #FFFFFF;\n",
              "      --disabled-bg-color: #3B4455;\n",
              "      --disabled-fill-color: #666;\n",
              "  }\n",
              "\n",
              "  .colab-df-quickchart {\n",
              "    background-color: var(--bg-color);\n",
              "    border: none;\n",
              "    border-radius: 50%;\n",
              "    cursor: pointer;\n",
              "    display: none;\n",
              "    fill: var(--fill-color);\n",
              "    height: 32px;\n",
              "    padding: 0;\n",
              "    width: 32px;\n",
              "  }\n",
              "\n",
              "  .colab-df-quickchart:hover {\n",
              "    background-color: var(--hover-bg-color);\n",
              "    box-shadow: 0 1px 2px rgba(60, 64, 67, 0.3), 0 1px 3px 1px rgba(60, 64, 67, 0.15);\n",
              "    fill: var(--button-hover-fill-color);\n",
              "  }\n",
              "\n",
              "  .colab-df-quickchart-complete:disabled,\n",
              "  .colab-df-quickchart-complete:disabled:hover {\n",
              "    background-color: var(--disabled-bg-color);\n",
              "    fill: var(--disabled-fill-color);\n",
              "    box-shadow: none;\n",
              "  }\n",
              "\n",
              "  .colab-df-spinner {\n",
              "    border: 2px solid var(--fill-color);\n",
              "    border-color: transparent;\n",
              "    border-bottom-color: var(--fill-color);\n",
              "    animation:\n",
              "      spin 1s steps(1) infinite;\n",
              "  }\n",
              "\n",
              "  @keyframes spin {\n",
              "    0% {\n",
              "      border-color: transparent;\n",
              "      border-bottom-color: var(--fill-color);\n",
              "      border-left-color: var(--fill-color);\n",
              "    }\n",
              "    20% {\n",
              "      border-color: transparent;\n",
              "      border-left-color: var(--fill-color);\n",
              "      border-top-color: var(--fill-color);\n",
              "    }\n",
              "    30% {\n",
              "      border-color: transparent;\n",
              "      border-left-color: var(--fill-color);\n",
              "      border-top-color: var(--fill-color);\n",
              "      border-right-color: var(--fill-color);\n",
              "    }\n",
              "    40% {\n",
              "      border-color: transparent;\n",
              "      border-right-color: var(--fill-color);\n",
              "      border-top-color: var(--fill-color);\n",
              "    }\n",
              "    60% {\n",
              "      border-color: transparent;\n",
              "      border-right-color: var(--fill-color);\n",
              "    }\n",
              "    80% {\n",
              "      border-color: transparent;\n",
              "      border-right-color: var(--fill-color);\n",
              "      border-bottom-color: var(--fill-color);\n",
              "    }\n",
              "    90% {\n",
              "      border-color: transparent;\n",
              "      border-bottom-color: var(--fill-color);\n",
              "    }\n",
              "  }\n",
              "</style>\n",
              "\n",
              "  <script>\n",
              "    async function quickchart(key) {\n",
              "      const quickchartButtonEl =\n",
              "        document.querySelector('#' + key + ' button');\n",
              "      quickchartButtonEl.disabled = true;  // To prevent multiple clicks.\n",
              "      quickchartButtonEl.classList.add('colab-df-spinner');\n",
              "      try {\n",
              "        const charts = await google.colab.kernel.invokeFunction(\n",
              "            'suggestCharts', [key], {});\n",
              "      } catch (error) {\n",
              "        console.error('Error during call to suggestCharts:', error);\n",
              "      }\n",
              "      quickchartButtonEl.classList.remove('colab-df-spinner');\n",
              "      quickchartButtonEl.classList.add('colab-df-quickchart-complete');\n",
              "    }\n",
              "    (() => {\n",
              "      let quickchartButtonEl =\n",
              "        document.querySelector('#df-ab1b7de4-d208-4fe3-bb7b-da7ed11610db button');\n",
              "      quickchartButtonEl.style.display =\n",
              "        google.colab.kernel.accessAllowed ? 'block' : 'none';\n",
              "    })();\n",
              "  </script>\n",
              "</div>\n",
              "\n",
              "    </div>\n",
              "  </div>\n"
            ],
            "application/vnd.google.colaboratory.intrinsic+json": {
              "type": "dataframe",
              "variable_name": "dataset"
            }
          },
          "metadata": {},
          "execution_count": 6
        }
      ]
    },
    {
      "cell_type": "code",
      "source": [
        "dataset.isnull().sum()"
      ],
      "metadata": {
        "colab": {
          "base_uri": "https://localhost:8080/",
          "height": 868
        },
        "id": "4TH5oc33G64G",
        "outputId": "4b33ab95-6331-4bea-d693-d77911717144"
      },
      "execution_count": null,
      "outputs": [
        {
          "output_type": "execute_result",
          "data": {
            "text/plain": [
              "index                   0\n",
              "budget                  0\n",
              "genres                  0\n",
              "homepage                0\n",
              "id                      0\n",
              "keywords                0\n",
              "original_language       0\n",
              "original_title          0\n",
              "overview                0\n",
              "popularity              0\n",
              "production_companies    0\n",
              "production_countries    0\n",
              "release_date            0\n",
              "revenue                 0\n",
              "runtime                 0\n",
              "spoken_languages        0\n",
              "status                  0\n",
              "tagline                 0\n",
              "title                   0\n",
              "vote_average            0\n",
              "vote_count              0\n",
              "cast                    0\n",
              "crew                    0\n",
              "director                0\n",
              "content                 0\n",
              "dtype: int64"
            ],
            "text/html": [
              "<div>\n",
              "<style scoped>\n",
              "    .dataframe tbody tr th:only-of-type {\n",
              "        vertical-align: middle;\n",
              "    }\n",
              "\n",
              "    .dataframe tbody tr th {\n",
              "        vertical-align: top;\n",
              "    }\n",
              "\n",
              "    .dataframe thead th {\n",
              "        text-align: right;\n",
              "    }\n",
              "</style>\n",
              "<table border=\"1\" class=\"dataframe\">\n",
              "  <thead>\n",
              "    <tr style=\"text-align: right;\">\n",
              "      <th></th>\n",
              "      <th>0</th>\n",
              "    </tr>\n",
              "  </thead>\n",
              "  <tbody>\n",
              "    <tr>\n",
              "      <th>index</th>\n",
              "      <td>0</td>\n",
              "    </tr>\n",
              "    <tr>\n",
              "      <th>budget</th>\n",
              "      <td>0</td>\n",
              "    </tr>\n",
              "    <tr>\n",
              "      <th>genres</th>\n",
              "      <td>0</td>\n",
              "    </tr>\n",
              "    <tr>\n",
              "      <th>homepage</th>\n",
              "      <td>0</td>\n",
              "    </tr>\n",
              "    <tr>\n",
              "      <th>id</th>\n",
              "      <td>0</td>\n",
              "    </tr>\n",
              "    <tr>\n",
              "      <th>keywords</th>\n",
              "      <td>0</td>\n",
              "    </tr>\n",
              "    <tr>\n",
              "      <th>original_language</th>\n",
              "      <td>0</td>\n",
              "    </tr>\n",
              "    <tr>\n",
              "      <th>original_title</th>\n",
              "      <td>0</td>\n",
              "    </tr>\n",
              "    <tr>\n",
              "      <th>overview</th>\n",
              "      <td>0</td>\n",
              "    </tr>\n",
              "    <tr>\n",
              "      <th>popularity</th>\n",
              "      <td>0</td>\n",
              "    </tr>\n",
              "    <tr>\n",
              "      <th>production_companies</th>\n",
              "      <td>0</td>\n",
              "    </tr>\n",
              "    <tr>\n",
              "      <th>production_countries</th>\n",
              "      <td>0</td>\n",
              "    </tr>\n",
              "    <tr>\n",
              "      <th>release_date</th>\n",
              "      <td>0</td>\n",
              "    </tr>\n",
              "    <tr>\n",
              "      <th>revenue</th>\n",
              "      <td>0</td>\n",
              "    </tr>\n",
              "    <tr>\n",
              "      <th>runtime</th>\n",
              "      <td>0</td>\n",
              "    </tr>\n",
              "    <tr>\n",
              "      <th>spoken_languages</th>\n",
              "      <td>0</td>\n",
              "    </tr>\n",
              "    <tr>\n",
              "      <th>status</th>\n",
              "      <td>0</td>\n",
              "    </tr>\n",
              "    <tr>\n",
              "      <th>tagline</th>\n",
              "      <td>0</td>\n",
              "    </tr>\n",
              "    <tr>\n",
              "      <th>title</th>\n",
              "      <td>0</td>\n",
              "    </tr>\n",
              "    <tr>\n",
              "      <th>vote_average</th>\n",
              "      <td>0</td>\n",
              "    </tr>\n",
              "    <tr>\n",
              "      <th>vote_count</th>\n",
              "      <td>0</td>\n",
              "    </tr>\n",
              "    <tr>\n",
              "      <th>cast</th>\n",
              "      <td>0</td>\n",
              "    </tr>\n",
              "    <tr>\n",
              "      <th>crew</th>\n",
              "      <td>0</td>\n",
              "    </tr>\n",
              "    <tr>\n",
              "      <th>director</th>\n",
              "      <td>0</td>\n",
              "    </tr>\n",
              "    <tr>\n",
              "      <th>content</th>\n",
              "      <td>0</td>\n",
              "    </tr>\n",
              "  </tbody>\n",
              "</table>\n",
              "</div><br><label><b>dtype:</b> int64</label>"
            ]
          },
          "metadata": {},
          "execution_count": 15
        }
      ]
    },
    {
      "cell_type": "code",
      "source": [
        "dataset.fillna('',inplace=True)"
      ],
      "metadata": {
        "colab": {
          "base_uri": "https://localhost:8080/"
        },
        "id": "cpri1h4THATz",
        "outputId": "c19eaaa9-a85d-42a2-c497-d7a9e8440950"
      },
      "execution_count": null,
      "outputs": [
        {
          "output_type": "stream",
          "name": "stderr",
          "text": [
            "<ipython-input-14-ae803a1dd6e0>:1: FutureWarning: Setting an item of incompatible dtype is deprecated and will raise in a future error of pandas. Value '' has dtype incompatible with float64, please explicitly cast to a compatible dtype first.\n",
            "  dataset.fillna('',inplace=True)\n"
          ]
        }
      ]
    },
    {
      "cell_type": "code",
      "source": [
        "combined_features=dataset['genres']+dataset['keywords']+dataset['title']+dataset['crew']+dataset['director']\n",
        "combined_features"
      ],
      "metadata": {
        "collapsed": true,
        "colab": {
          "base_uri": "https://localhost:8080/",
          "height": 458
        },
        "id": "eGFxToXXHquH",
        "outputId": "8d0e4a34-0fd6-430b-fc70-055920e4c826"
      },
      "execution_count": null,
      "outputs": [
        {
          "output_type": "execute_result",
          "data": {
            "text/plain": [
              "0       Action Adventure Fantasy Science Fictioncultur...\n",
              "1       Adventure Fantasy Actionocean drug abuse exoti...\n",
              "2       Action Adventure Crimespy based on novel secre...\n",
              "3       Action Crime Drama Thrillerdc comics crime fig...\n",
              "4       Action Adventure Science Fictionbased on novel...\n",
              "                              ...                        \n",
              "4798    Action Crime Thrillerunited states\\u2013mexico...\n",
              "4799    Comedy RomanceNewlyweds[{'name': 'Edward Burns...\n",
              "4800    Comedy Drama Romance TV Moviedate love at firs...\n",
              "4801    Shanghai Calling[{'name': 'Daniel Hsia', 'gend...\n",
              "4802    Documentaryobsession camcorder crush dream gir...\n",
              "Length: 4803, dtype: object"
            ],
            "text/html": [
              "<div>\n",
              "<style scoped>\n",
              "    .dataframe tbody tr th:only-of-type {\n",
              "        vertical-align: middle;\n",
              "    }\n",
              "\n",
              "    .dataframe tbody tr th {\n",
              "        vertical-align: top;\n",
              "    }\n",
              "\n",
              "    .dataframe thead th {\n",
              "        text-align: right;\n",
              "    }\n",
              "</style>\n",
              "<table border=\"1\" class=\"dataframe\">\n",
              "  <thead>\n",
              "    <tr style=\"text-align: right;\">\n",
              "      <th></th>\n",
              "      <th>0</th>\n",
              "    </tr>\n",
              "  </thead>\n",
              "  <tbody>\n",
              "    <tr>\n",
              "      <th>0</th>\n",
              "      <td>Action Adventure Fantasy Science Fictioncultur...</td>\n",
              "    </tr>\n",
              "    <tr>\n",
              "      <th>1</th>\n",
              "      <td>Adventure Fantasy Actionocean drug abuse exoti...</td>\n",
              "    </tr>\n",
              "    <tr>\n",
              "      <th>2</th>\n",
              "      <td>Action Adventure Crimespy based on novel secre...</td>\n",
              "    </tr>\n",
              "    <tr>\n",
              "      <th>3</th>\n",
              "      <td>Action Crime Drama Thrillerdc comics crime fig...</td>\n",
              "    </tr>\n",
              "    <tr>\n",
              "      <th>4</th>\n",
              "      <td>Action Adventure Science Fictionbased on novel...</td>\n",
              "    </tr>\n",
              "    <tr>\n",
              "      <th>...</th>\n",
              "      <td>...</td>\n",
              "    </tr>\n",
              "    <tr>\n",
              "      <th>4798</th>\n",
              "      <td>Action Crime Thrillerunited states\\u2013mexico...</td>\n",
              "    </tr>\n",
              "    <tr>\n",
              "      <th>4799</th>\n",
              "      <td>Comedy RomanceNewlyweds[{'name': 'Edward Burns...</td>\n",
              "    </tr>\n",
              "    <tr>\n",
              "      <th>4800</th>\n",
              "      <td>Comedy Drama Romance TV Moviedate love at firs...</td>\n",
              "    </tr>\n",
              "    <tr>\n",
              "      <th>4801</th>\n",
              "      <td>Shanghai Calling[{'name': 'Daniel Hsia', 'gend...</td>\n",
              "    </tr>\n",
              "    <tr>\n",
              "      <th>4802</th>\n",
              "      <td>Documentaryobsession camcorder crush dream gir...</td>\n",
              "    </tr>\n",
              "  </tbody>\n",
              "</table>\n",
              "<p>4803 rows × 1 columns</p>\n",
              "</div><br><label><b>dtype:</b> object</label>"
            ]
          },
          "metadata": {},
          "execution_count": 23
        }
      ]
    },
    {
      "cell_type": "code",
      "source": [
        "vect=TfidfVectorizer()\n",
        "feature_vectors=vect.fit_transform(combined_features)\n",
        "print(feature_vectors)"
      ],
      "metadata": {
        "colab": {
          "base_uri": "https://localhost:8080/"
        },
        "id": "ik2oJc9zGic_",
        "outputId": "acf30c2b-068e-4124-aa49-16eeb8fbd6a1"
      },
      "execution_count": null,
      "outputs": [
        {
          "output_type": "stream",
          "name": "stdout",
          "text": [
            "  (0, 29008)\t0.017898743762443547\n",
            "  (0, 143279)\t0.017898743762443547\n",
            "  (0, 226730)\t0.017898743762443547\n",
            "  (0, 210084)\t0.014833975863545476\n",
            "  (0, 20854)\t0.017898743762443547\n",
            "  (0, 113854)\t0.017898743762443547\n",
            "  (0, 186109)\t0.007544672214992857\n",
            "  (0, 20853)\t0.01707255193872719\n",
            "  (0, 113853)\t0.017898743762443547\n",
            "  (0, 226276)\t0.01707255193872719\n",
            "  (0, 20852)\t0.017898743762443547\n",
            "  (0, 113852)\t0.017898743762443547\n",
            "  (0, 221835)\t0.017898743762443547\n",
            "  (0, 20851)\t0.01707255193872719\n",
            "  (0, 113850)\t0.017898743762443547\n",
            "  (0, 215671)\t0.01707255193872719\n",
            "  (0, 213896)\t0.009927450162470434\n",
            "  (0, 20850)\t0.017898743762443547\n",
            "  (0, 113848)\t0.017898743762443547\n",
            "  (0, 211820)\t0.017898743762443547\n",
            "  (0, 218832)\t0.014084685232509511\n",
            "  (0, 20849)\t0.017898743762443547\n",
            "  (0, 113845)\t0.017898743762443547\n",
            "  (0, 209669)\t0.01603167333965503\n",
            "  (0, 208926)\t0.013206904836724308\n",
            "  :\t:\n",
            "  (4802, 215796)\t0.184182923515928\n",
            "  (4802, 191914)\t0.17910324365932914\n",
            "  (4802, 192396)\t0.16115465877914195\n",
            "  (4802, 226828)\t0.12291898289866815\n",
            "  (4802, 194469)\t0.1348061957334896\n",
            "  (4802, 200056)\t0.1415728827706481\n",
            "  (4802, 194510)\t0.11001502909294301\n",
            "  (4802, 213794)\t0.11570474782881748\n",
            "  (4802, 190126)\t0.1009313425324214\n",
            "  (4802, 187772)\t0.11183713565816644\n",
            "  (4802, 187787)\t0.13904166067348953\n",
            "  (4802, 226758)\t0.1407137551700214\n",
            "  (4802, 195923)\t0.07963950954819085\n",
            "  (4802, 203679)\t0.07946410917144223\n",
            "  (4802, 183926)\t0.06707070657726195\n",
            "  (4802, 214818)\t0.05553633583582769\n",
            "  (4802, 193380)\t0.06872034866262638\n",
            "  (4802, 193378)\t0.06872034866262638\n",
            "  (4802, 214823)\t0.05433615860399253\n",
            "  (4802, 202453)\t0.11448624076266609\n",
            "  (4802, 191566)\t0.11448624076266609\n",
            "  (4802, 203595)\t0.11448624076266609\n",
            "  (4802, 192922)\t0.11448624076266609\n",
            "  (4802, 198636)\t0.11448624076266609\n",
            "  (4802, 211492)\t0.11448624076266609\n"
          ]
        }
      ]
    },
    {
      "cell_type": "code",
      "source": [
        "from sklearn.metrics.pairwise import cosine_similarity"
      ],
      "metadata": {
        "collapsed": true,
        "id": "beRmBuQyH9uA"
      },
      "execution_count": null,
      "outputs": []
    },
    {
      "cell_type": "code",
      "source": [
        "selected_features=cosine_similarity(feature_vectors)\n",
        "print(selected_features)"
      ],
      "metadata": {
        "colab": {
          "base_uri": "https://localhost:8080/"
        },
        "id": "poA5q9rzO5eA",
        "outputId": "b1a6dc3c-fe9b-400d-b808-297b7bbad590"
      },
      "execution_count": null,
      "outputs": [
        {
          "output_type": "stream",
          "name": "stdout",
          "text": [
            "[[1.         0.58050872 0.82468577 ... 0.36623655 0.10218556 0.22500272]\n",
            " [0.58050872 1.         0.58799315 ... 0.33480688 0.08947772 0.20040266]\n",
            " [0.82468577 0.58799315 1.         ... 0.38268475 0.11038233 0.23093832]\n",
            " ...\n",
            " [0.36623655 0.33480688 0.38268475 ... 1.         0.06161315 0.14372219]\n",
            " [0.10218556 0.08947772 0.11038233 ... 0.06161315 1.         0.04045468]\n",
            " [0.22500272 0.20040266 0.23093832 ... 0.14372219 0.04045468 1.        ]]\n"
          ]
        }
      ]
    },
    {
      "cell_type": "code",
      "source": [
        "movie=input('enter favourite movie name')\n"
      ],
      "metadata": {
        "colab": {
          "base_uri": "https://localhost:8080/"
        },
        "id": "5vKqysKDPakE",
        "outputId": "e426f816-8a89-454d-d277-c19c7d79a6c0",
        "collapsed": true
      },
      "execution_count": null,
      "outputs": [
        {
          "name": "stdout",
          "output_type": "stream",
          "text": [
            "enter favourite movie nameiron man\n"
          ]
        }
      ]
    },
    {
      "cell_type": "code",
      "source": [
        "close_match=difflib.get_close_matches(movie,dataset['title'])\n",
        "print(close_match)"
      ],
      "metadata": {
        "colab": {
          "base_uri": "https://localhost:8080/"
        },
        "id": "wdHQExeLP3-9",
        "outputId": "563e96ad-320b-402f-b33e-5bc2ac3dad0a"
      },
      "execution_count": null,
      "outputs": [
        {
          "output_type": "stream",
          "name": "stdout",
          "text": [
            "['Iron Man', 'Iron Man 3', 'Iron Man 2']\n"
          ]
        }
      ]
    },
    {
      "cell_type": "code",
      "source": [
        "closest_match=close_match[0]"
      ],
      "metadata": {
        "id": "NAoR4E3bQROv"
      },
      "execution_count": null,
      "outputs": []
    },
    {
      "cell_type": "code",
      "source": [
        "index=dataset['index'][dataset['title']==closest_match]\n",
        "print(index)"
      ],
      "metadata": {
        "colab": {
          "base_uri": "https://localhost:8080/"
        },
        "id": "IoxhSmQDQXMf",
        "outputId": "5675ebae-24d3-4221-d1b2-42144fc9f6a1"
      },
      "execution_count": null,
      "outputs": [
        {
          "output_type": "stream",
          "name": "stdout",
          "text": [
            "68    68\n",
            "Name: index, dtype: int64\n"
          ]
        }
      ]
    },
    {
      "cell_type": "code",
      "source": [
        "print(selected_features[index][0])"
      ],
      "metadata": {
        "id": "kGoyqYRjT6Ol",
        "colab": {
          "base_uri": "https://localhost:8080/"
        },
        "outputId": "20abcc0d-28ea-4d05-aadf-6f6dc1c4b5ee"
      },
      "execution_count": null,
      "outputs": [
        {
          "output_type": "stream",
          "name": "stdout",
          "text": [
            "[0.49323663 0.42131001 0.51338171 ... 0.28582961 0.07823407 0.1816672 ]\n"
          ]
        }
      ]
    },
    {
      "cell_type": "code",
      "source": [
        "movies=[]\n",
        "for i,v in enumerate(selected_features[index][0]):\n",
        "  movies.append((i,v))\n"
      ],
      "metadata": {
        "id": "Imd8FXH_SP5Y"
      },
      "execution_count": null,
      "outputs": []
    },
    {
      "cell_type": "code",
      "source": [
        "print(movies)"
      ],
      "metadata": {
        "colab": {
          "base_uri": "https://localhost:8080/"
        },
        "id": "pdtEtQurUNfz",
        "outputId": "9e1b5f20-75b9-4b38-b55b-3971c3e79651"
      },
      "execution_count": null,
      "outputs": [
        {
          "output_type": "stream",
          "name": "stdout",
          "text": [
            "[(0, 0.49323662558693054), (1, 0.42131001195513396), (2, 0.5133817134684414), (3, 0.5229015650629751), (4, 0.5044316397433192), (5, 0.48496668342851024), (6, 0.4474554064073591), (7, 0.5285067354253267), (8, 0.3817772031762008), (9, 0.5255043694306358), (10, 0.38952905338395), (11, 0.3627328005216443), (12, 0.3811658769432747), (13, 0.41644947532456017), (14, 0.467112462777042), (15, 0.48604886757263627), (16, 0.5266210771844949), (17, 0.42974365089002137), (18, 0.3715741199750182), (19, 0.5057369629852863), (20, 0.519331545031134), (21, 0.34572965322330146), (22, 0.5097548844136347), (23, 0.4131983601287278), (24, 0.42305762302996264), (25, 0.46699969703176675), (26, 0.536872799193162), (27, 0.5063651327926181), (28, 0.5230135805881652), (29, 0.40782719169362674), (30, 0.5339848397182838), (31, 0.5178683878380435), (32, 0.38778919461682426), (33, 0.4886578083787074), (34, 0.307100272369535), (35, 0.47245393482393505), (36, 0.4860514981124091), (37, 0.4041480189433657), (38, 0.5235692519651695), (39, 0.40452154385130273), (40, 0.4348445150592135), (41, 0.4437062056755137), (42, 0.41892758849086603), (43, 0.4738875926042751), (44, 0.5001713214211287), (45, 0.4303007187023433), (46, 0.5016512066019051), (47, 0.5043091413796441), (48, 0.43793765130635104), (49, 0.305063257463475), (50, 0.438454772077386), (51, 0.38270901221353476), (52, 0.4207316505935306), (53, 0.33676886587599514), (54, 0.23481283460246524), (55, 0.40681164535189107), (56, 0.5072159993109053), (57, 0.4560427165429377), (58, 0.3723938242004141), (59, 0.48810562559150306), (60, 0.2403123067862959), (61, 0.4725353986368321), (62, 0.28098728720250365), (63, 0.3952559044203932), (64, 0.5115304924638976), (65, 0.4978581938062228), (66, 0.4727892672933696), (67, 0.266414945898918), (68, 0.9999999999999999), (69, 0.49418237373194246), (70, 0.28979666869981435), (71, 0.34675738832095715), (72, 0.4961672610715053), (73, 0.40994197590883924), (74, 0.5055959887664184), (75, 0.47067759557577793), (76, 0.38093547377248804), (77, 0.42656812949644474), (78, 0.4553232111545798), (79, 0.6044374174350422), (80, 0.45892485919028614), (81, 0.31946058719683096), (82, 0.5158661004548591), (83, 0.48122805274292757), (84, 0.46809004350023864), (85, 0.4789340853285923), (86, 0.2023942561051518), (87, 0.48187450389161113), (88, 0.4298855505879758), (89, 0.4193624265919028), (90, 0.5154432830886907), (91, 0.5033110480020822), (92, 0.4275650747944998), (93, 0.5344971024798051), (94, 0.5150631607022056), (95, 0.5074942777899623), (96, 0.34359416490919625), (97, 0.3009597210985109), (98, 0.4587792139823259), (99, 0.5169858284831111), (100, 0.5085600230485599), (101, 0.4425409874105526), (102, 0.5131630412637562), (103, 0.19915564270276656), (104, 0.4077991869429444), (105, 0.4851003835419777), (106, 0.3264238432496223), (107, 0.5157144886340281), (108, 0.5064893386287279), (109, 0.41021492068201487), (110, 0.5130409905260437), (111, 0.45388686540394857), (112, 0.532516196360712), (113, 0.36719545472451165), (114, 0.40688625067875184), (115, 0.4058652940814263), (116, 0.36599461213863754), (117, 0.5080028345208905), (118, 0.4378885568901135), (119, 0.5199661088632117), (120, 0.19990283007415663), (121, 0.3137487637641073), (122, 0.27352715499054375), (123, 0.36106917892386897), (124, 0.3675654446836795), (125, 0.34970652092341575), (126, 0.47196436397362146), (127, 0.48305606760806546), (128, 0.5097226309055197), (129, 0.47008802392524374), (130, 0.4240093630739949), (131, 0.2977604898819615), (132, 0.41576900381778414), (133, 0.3462448327583599), (134, 0.5003501616525544), (135, 0.45243626857846614), (136, 0.3452783741904491), (137, 0.35534135978289216), (138, 0.1101995885190473), (139, 0.3902779449272162), (140, 0.3493316655675014), (141, 0.19634842515627388), (142, 0.3770319620234087), (143, 0.3908255001726572), (144, 0.28548407806520276), (145, 0.5088965375175312), (146, 0.29950284068131666), (147, 0.24304186377693868), (148, 0.5127437193162538), (149, 0.5086837529048758), (150, 0.5195668162824795), (151, 0.46927715874847226), (152, 0.3733900881709792), (153, 0.3970876665455663), (154, 0.2660584869894886), (155, 0.4364300023753688), (156, 0.35264049993404095), (157, 0.5090883004559776), (158, 0.38996534768337243), (159, 0.5373369988722528), (160, 0.3827516061395336), (161, 0.46498820674575425), (162, 0.4172246357314725), (163, 0.3876104596440854), (164, 0.5038801902511734), (165, 0.5423707603511824), (166, 0.4066449377302693), (167, 0.5163108899352916), (168, 0.41222009461448883), (169, 0.5215360827093217), (170, 0.3975012032815015), (171, 0.5249838863685338), (172, 0.4938675964034498), (173, 0.35719692462033237), (174, 0.4483138057480396), (175, 0.3479716177046998), (176, 0.5007559512984889), (177, 0.2547730011121141), (178, 0.27102147825570605), (179, 0.1482645764455414), (180, 0.5203623155658803), (181, 0.28567423394216923), (182, 0.5463256373015669), (183, 0.4575810823965113), (184, 0.39445277642764254), (185, 0.5210959321654575), (186, 0.5290595463793378), (187, 0.3557545306324796), (188, 0.3219364349695894), (189, 0.4762274627520077), (190, 0.43083146001652955), (191, 0.5188937261235925), (192, 0.4634121479905117), (193, 0.467234476542964), (194, 0.3376618364471402), (195, 0.48345422114298), (196, 0.3238923348879585), (197, 0.5168631100857898), (198, 0.4125878488760198), (199, 0.5121855075232704), (200, 0.5034065516392738), (201, 0.501366816175433), (202, 0.34729906272318556), (203, 0.41557638128528274), (204, 0.5061572732882293), (205, 0.42664658234355607), (206, 0.5162244413389321), (207, 0.3829949849969143), (208, 0.3299264309978378), (209, 0.4917146289204103), (210, 0.5034056252676323), (211, 0.3479468234006356), (212, 0.524612175382569), (213, 0.517620026651828), (214, 0.31521885605072075), (215, 0.48854344944649014), (216, 0.38777019204438734), (217, 0.4624119754128764), (218, 0.5037329356494122), (219, 0.3071033852213257), (220, 0.4925037166390742), (221, 0.25309221425012457), (222, 0.4991947158095509), (223, 0.5283733687776132), (224, 0.4110993464326479), (225, 0.34680570859060694), (226, 0.3442907223893278), (227, 0.5118654834940644), (228, 0.39245734326614673), (229, 0.32906289047018605), (230, 0.35672581751804594), (231, 0.4833327637625065), (232, 0.5137491620057014), (233, 0.3157807354969022), (234, 0.2943634895540218), (235, 0.31861608980202044), (236, 0.41157092632526193), (237, 0.22102775593661603), (238, 0.38793446362016637), (239, 0.43878373463603804), (240, 0.5015395887356471), (241, 0.3000641191054025), (242, 0.5238194583205472), (243, 0.34288242376944894), (244, 0.48925393961376923), (245, 0.3611514205808979), (246, 0.5142342516803698), (247, 0.5066125537708492), (248, 0.3634804778375012), (249, 0.49001606065996783), (250, 0.5273357232714597), (251, 0.3732085606680406), (252, 0.3485606943481518), (253, 0.48320471676433274), (254, 0.3921038576379292), (255, 0.39946670049708), (256, 0.4741985373241086), (257, 0.45491342538839424), (258, 0.25728003162090474), (259, 0.507916799842253), (260, 0.4994271868708899), (261, 0.5042171505920041), (262, 0.40913914901200205), (263, 0.5193230476451999), (264, 0.41793507028212706), (265, 0.3341822170789362), (266, 0.5187865339907576), (267, 0.5094259889031587), (268, 0.2503106988810244), (269, 0.44082155653538013), (270, 0.4874293492265289), (271, 0.4579409280584352), (272, 0.1282658240318257), (273, 0.4192243230733352), (274, 0.5027047043093842), (275, 0.5242325885549156), (276, 0.5177521876032459), (277, 0.5170606810845919), (278, 0.36337696605546016), (279, 0.4787076384575785), (280, 0.5030512185821577), (281, 0.47367492139368367), (282, 0.3880931092227676), (283, 0.3519741931013644), (284, 0.2496702556906215), (285, 0.24904717083093666), (286, 0.4822059768054318), (287, 0.48819349509393595), (288, 0.4048034236504054), (289, 0.38076246250287693), (290, 0.5012890781852462), (291, 0.5168713238204405), (292, 0.3960145280054109), (293, 0.2154121298001573), (294, 0.3660743122196374), (295, 0.39483776147592997), (296, 0.5149938997623441), (297, 0.49742310505831683), (298, 0.5177049768119247), (299, 0.365834036117852), (300, 0.4391021055284928), (301, 0.5018810938539023), (302, 0.29712109019932353), (303, 0.5321825895260128), (304, 0.4769847942932908), (305, 0.410083811091285), (306, 0.3665024082155479), (307, 0.49070605479162976), (308, 0.49433493873377526), (309, 0.28771849794710824), (310, 0.48552777915680884), (311, 0.2560460074969232), (312, 0.4882907942612033), (313, 0.29098697341651886), (314, 0.3513031941752349), (315, 0.2769306220318262), (316, 0.43586581168162913), (317, 0.3966601622535358), (318, 0.32301366894084105), (319, 0.36218737571412535), (320, 0.5195531706406528), (321, 0.26435494554613603), (322, 0.5102942371022938), (323, 0.3352721981752982), (324, 0.4034740945810951), (325, 0.2758961609319453), (326, 0.4614332248229599), (327, 0.3912726296060153), (328, 0.477269660672346), (329, 0.40553814437964214), (330, 0.42948135760205325), (331, 0.45946508219230675), (332, 0.4546487609113329), (333, 0.4686470497734145), (334, 0.5079826393036087), (335, 0.5003520524869048), (336, 0.49741874660600627), (337, 0.4930122816173775), (338, 0.5226808586927816), (339, 0.4766636246849067), (340, 0.3165213547952022), (341, 0.44899049977307304), (342, 0.5075354647639709), (343, 0.4568361446221281), (344, 0.4044128992351154), (345, 0.29835054989546406), (346, 0.5053823767604131), (347, 0.35259006116359737), (348, 0.23034677571216783), (349, 0.36299649184089733), (350, 0.43544416739143194), (351, 0.4845232666403293), (352, 0.3719406751200044), (353, 0.4008427560586184), (354, 0.5116892110150949), (355, 0.44853083686715195), (356, 0.3967737861897225), (357, 0.24339006552762804), (358, 0.46572732065063804), (359, 0.272092786292365), (360, 0.3776865242544429), (361, 0.43560955576220606), (362, 0.41016213957042746), (363, 0.5169178374744233), (364, 0.2823673782234393), (365, 0.5240600999275127), (366, 0.31837828345539054), (367, 0.5152896152423637), (368, 0.39603833789938436), (369, 0.2916822978955251), (370, 0.4654405850551946), (371, 0.35369119788693737), (372, 0.4199538210227754), (373, 0.42551438730550034), (374, 0.3011511500316451), (375, 0.27739056016603836), (376, 0.283481397145097), (377, 0.3382462355624483), (378, 0.2984575708634192), (379, 0.4610236349126746), (380, 0.4585290959991065), (381, 0.0997591243208358), (382, 0.4740005201450085), (383, 0.500143066249774), (384, 0.3131653076756282), (385, 0.45401924028921253), (386, 0.5224635818361304), (387, 0.5019213208781097), (388, 0.5123824119581722), (389, 0.39385908477371295), (390, 0.2760436399981441), (391, 0.37845923282569416), (392, 0.38376998630814774), (393, 0.2700278842121113), (394, 0.3602232905743694), (395, 0.2537999227028326), (396, 0.3623974507735213), (397, 0.28543380976646016), (398, 0.4497824356161231), (399, 0.2956339085346655), (400, 0.4969233663097619), (401, 0.4808700553490579), (402, 0.4165548735233189), (403, 0.5001705744531353), (404, 0.3296542610771714), (405, 0.4737289400475439), (406, 0.4020056159568257), (407, 0.4819116890769657), (408, 0.5202952867663022), (409, 0.2903675086200613), (410, 0.42682118446034845), (411, 0.19712684277135317), (412, 0.5311548409789334), (413, 0.3187830568301143), (414, 0.5162751063118383), (415, 0.4855468027602973), (416, 0.32065148606587257), (417, 0.312781872555033), (418, 0.2742616966296367), (419, 0.5005633765520027), (420, 0.2784398127136429), (421, 0.4363410558321384), (422, 0.46415326753493047), (423, 0.5083047289790904), (424, 0.5089080311567602), (425, 0.49951888357335705), (426, 0.4692922193093493), (427, 0.15138428477109925), (428, 0.3347158506682863), (429, 0.29791144515722673), (430, 0.38320238806400825), (431, 0.39052400808711085), (432, 0.5065038379782659), (433, 0.31841491612358547), (434, 0.3579732551910094), (435, 0.27574471007292023), (436, 0.353248656821316), (437, 0.32089297700256075), (438, 0.19065020822196538), (439, 0.39847241266486305), (440, 0.3733365763578517), (441, 0.45430210147475275), (442, 0.4453275018905547), (443, 0.14898098372679425), (444, 0.5021370973285978), (445, 0.45420854069271166), (446, 0.4385582590893367), (447, 0.5093492041235708), (448, 0.48157159959110474), (449, 0.4962271856444226), (450, 0.29420759452150747), (451, 0.5093861622757098), (452, 0.5058397059471451), (453, 0.38712668483693163), (454, 0.4768841825197541), (455, 0.3425375280344977), (456, 0.4968626810738308), (457, 0.41159680244832764), (458, 0.2380566051508905), (459, 0.34365921167876917), (460, 0.20098895859678034), (461, 0.5089820433057917), (462, 0.5010445662538807), (463, 0.10348523707968804), (464, 0.22745136118582332), (465, 0.4174642691877554), (466, 0.35953036137213895), (467, 0.3609855084122899), (468, 0.2765575736967484), (469, 0.3773314252852692), (470, 0.32487194141586134), (471, 0.25978083598897916), (472, 0.5033481852360838), (473, 0.3791265712933787), (474, 0.29724267910729407), (475, 0.23830364891730543), (476, 0.40876447309247743), (477, 0.4215747991953041), (478, 0.4907425594527865), (479, 0.28153899309424857), (480, 0.29877265480129345), (481, 0.4670881137814715), (482, 0.16993284819478197), (483, 0.5112749018904443), (484, 0.30281818589615533), (485, 0.2860787373343873), (486, 0.48145886303103397), (487, 0.4959859033744813), (488, 0.35878503092428626), (489, 0.3385750180989193), (490, 0.40291890605697045), (491, 0.4489796443586883), (492, 0.1397456699380985), (493, 0.4722964478406499), (494, 0.3907473699649718), (495, 0.47316471706265595), (496, 0.3933628234880251), (497, 0.25912526091715193), (498, 0.507186211238806), (499, 0.3061090875783671), (500, 0.5065639065248706), (501, 0.17892179865155317), (502, 0.37538642788694976), (503, 0.24813771737073262), (504, 0.4151706152653279), (505, 0.523790274855985), (506, 0.37791349324624934), (507, 0.4660765231285117), (508, 0.4940787728019361), (509, 0.4472976797739564), (510, 0.49993467362297517), (511, 0.40136581450517245), (512, 0.40148169192526717), (513, 0.4188715776353361), (514, 0.24976433648768404), (515, 0.513521855804103), (516, 0.3638946114378802), (517, 0.30042314405218623), (518, 0.20890503157305484), (519, 0.41042661341149533), (520, 0.12573942553261291), (521, 0.4805122203672424), (522, 0.18400140501581078), (523, 0.35036978399937574), (524, 0.28171599513626516), (525, 0.4708798289676955), (526, 0.48605852978361463), (527, 0.3405347303515125), (528, 0.3792396159093657), (529, 0.516917800969773), (530, 0.35578787773769777), (531, 0.5026078618897972), (532, 0.5062042923986674), (533, 0.4616553118157059), (534, 0.5039563364396813), (535, 0.3092883821088916), (536, 0.3253816228584264), (537, 0.40315670046327484), (538, 0.37282565821643754), (539, 0.4251739428286408), (540, 0.31126265397792097), (541, 0.4402661687251171), (542, 0.2451971282305156), (543, 0.36769738693677134), (544, 0.5156749218090028), (545, 0.45769892202701457), (546, 0.3074736847503098), (547, 0.43882738613381994), (548, 0.4733767455072909), (549, 0.46877840016571354), (550, 0.19572467606517938), (551, 0.3782519524146755), (552, 0.32241696035586476), (553, 0.39052540167143424), (554, 0.293360743066309), (555, 0.48137269104274255), (556, 0.4721785176829963), (557, 0.24671100787300973), (558, 0.4387941212293365), (559, 0.3782769015068355), (560, 0.21916201714453148), (561, 0.23649311174287524), (562, 0.50409683702768), (563, 0.2979265037035958), (564, 0.4895736569612965), (565, 0.471369934313277), (566, 0.40117716616591187), (567, 0.4091795182414494), (568, 0.5191744554189063), (569, 0.4683043158139822), (570, 0.34870729609783785), (571, 0.42413031204818263), (572, 0.35879322952943266), (573, 0.4795507963612703), (574, 0.5135748551892243), (575, 0.3049837877552489), (576, 0.4064953610015998), (577, 0.5093586147920597), (578, 0.3413611970220175), (579, 0.5149925847334966), (580, 0.3829685584813527), (581, 0.3561703372130636), (582, 0.4947009006368214), (583, 0.5181820525591722), (584, 0.43353133554111756), (585, 0.44521878719508556), (586, 0.3438036340078614), (587, 0.49883158027717395), (588, 0.18825225374427715), (589, 0.5036694920438355), (590, 0.49010870695318165), (591, 0.48006589430874047), (592, 0.29225083661660767), (593, 0.4177454081335681), (594, 0.3805131167697075), (595, 0.475756825697557), (596, 0.2590814585616646), (597, 0.435528179775893), (598, 0.31500136117208755), (599, 0.3411283463830276), (600, 0.379415987215327), (601, 0.3284952709499866), (602, 0.29549995800611173), (603, 0.49199682609798684), (604, 0.44099222359442797), (605, 0.3929413756795148), (606, 0.4605945082134505), (607, 0.4939495545765816), (608, 0.2941878020548223), (609, 0.5070697688708905), (610, 0.445870491071913), (611, 0.5015896763524077), (612, 0.4440578385057123), (613, 0.31148973986379785), (614, 0.37062815447232966), (615, 0.4506884167775295), (616, 0.45523608299796064), (617, 0.43274091550015864), (618, 0.29524489124690856), (619, 0.4329510442404551), (620, 0.43420700741314144), (621, 0.4954762265236392), (622, 0.48454485056873686), (623, 0.1813562042315718), (624, 0.35977503594337384), (625, 0.5058305705433156), (626, 0.32707001560251153), (627, 0.23218896073990164), (628, 0.49903047276478685), (629, 0.4681098861201764), (630, 0.5006744121899711), (631, 0.4444638349981543), (632, 0.4869756460229183), (633, 0.3676197072538807), (634, 0.46897976216138737), (635, 0.5036698039191773), (636, 0.42481723650757025), (637, 0.42953315977170126), (638, 0.3727101834693278), (639, 0.3489300378721082), (640, 0.3251758927455119), (641, 0.455384802516441), (642, 0.49099923984007154), (643, 0.3858484485185381), (644, 0.39356546064449616), (645, 0.34411921625208886), (646, 0.3473388017226668), (647, 0.4067649175966405), (648, 0.3820927141647459), (649, 0.2787446265570164), (650, 0.2992361101724228), (651, 0.4605246706640377), (652, 0.43684592710846815), (653, 0.4318461523570562), (654, 0.5396719401002987), (655, 0.2450639971969993), (656, 0.22750040295798446), (657, 0.35737654496276083), (658, 0.45430250340542755), (659, 0.2464163953794831), (660, 0.24211183681192824), (661, 0.44661663885211755), (662, 0.5038168637629556), (663, 0.30715158642957036), (664, 0.30007740579405084), (665, 0.2128947205077805), (666, 0.4914821131598262), (667, 0.2997501427097488), (668, 0.5310765452289391), (669, 0.44916850157865196), (670, 0.24283306867109472), (671, 0.4838206114155259), (672, 0.3738410619949287), (673, 0.520704510214825), (674, 0.26148619346404656), (675, 0.49845056513617614), (676, 0.33382184895194456), (677, 0.30559618439083747), (678, 0.26920341727992386), (679, 0.3803950960288566), (680, 0.3461006864077882), (681, 0.18165394003206115), (682, 0.34429290889340414), (683, 0.26551623940892644), (684, 0.4827660342634275), (685, 0.38307573947637974), (686, 0.3371024419369883), (687, 0.47090618416565366), (688, 0.5070729017688069), (689, 0.48351252301952596), (690, 0.44033075477547423), (691, 0.2850800449289423), (692, 0.3990120798210179), (693, 0.4881096908374452), (694, 0.5199993193242736), (695, 0.4468507813475188), (696, 0.37656865868936784), (697, 0.39772838196358834), (698, 0.3691989480306222), (699, 0.4156641050566262), (700, 0.4149915624971918), (701, 0.26373992895010495), (702, 0.5101224497594928), (703, 0.21265429071597466), (704, 0.4693433152306742), (705, 0.22267165826136287), (706, 0.3441248093222533), (707, 0.2763164672032673), (708, 0.4916584977126634), (709, 0.3353045652171509), (710, 0.27373515708198864), (711, 0.3089814413261359), (712, 0.4273945490655612), (713, 0.3862176187107168), (714, 0.5178322527994339), (715, 0.4000604104469681), (716, 0.5027195281697562), (717, 0.4239998784275829), (718, 0.5210189159122103), (719, 0.17993812187326919), (720, 0.458634778297639), (721, 0.3601779950835767), (722, 0.4017953176236678), (723, 0.3265649160942435), (724, 0.5115432821976149), (725, 0.3815521642964044), (726, 0.5086592991178881), (727, 0.2890933856716468), (728, 0.5039774621985618), (729, 0.30628205252142393), (730, 0.3721404837211531), (731, 0.49478912931284547), (732, 0.501728933454183), (733, 0.23441934865105413), (734, 0.452533981606226), (735, 0.4283556416409191), (736, 0.3585500388485958), (737, 0.42757862780141753), (738, 0.5035120535491079), (739, 0.4763788234188843), (740, 0.49404193535098034), (741, 0.2529232317242719), (742, 0.4123799823282227), (743, 0.403838779874502), (744, 0.40970220692878606), (745, 0.293171816086509), (746, 0.5147607552273884), (747, 0.4967865390428579), (748, 0.2630396799308979), (749, 0.4183142372995743), (750, 0.4021634990757909), (751, 0.23923959077550436), (752, 0.1970298599092338), (753, 0.3835071732588383), (754, 0.2504906958957501), (755, 0.3641071899736123), (756, 0.421709793806313), (757, 0.3505831774310671), (758, 0.48159356453339663), (759, 0.4920462930929504), (760, 0.3215353535123338), (761, 0.10796045628201431), (762, 0.4937571023750194), (763, 0.36658645292976694), (764, 0.4131336246525201), (765, 0.30991440416378413), (766, 0.28133390766401956), (767, 0.5133929051404253), (768, 0.35859959532233254), (769, 0.3953362788126011), (770, 0.46495834661327046), (771, 0.48165580802766106), (772, 0.47685667431136497), (773, 0.4871091952872895), (774, 0.32583538486774566), (775, 0.4539438181830573), (776, 0.26513656990713436), (777, 0.26641887987029395), (778, 0.4426599797252911), (779, 0.33602013835756106), (780, 0.27615490639522544), (781, 0.3719342603340377), (782, 0.38919717858195463), (783, 0.4646051887170398), (784, 0.3915898577266811), (785, 0.40196722319150696), (786, 0.11785118023861209), (787, 0.5012686138039022), (788, 0.49051554872529207), (789, 0.22227398771563), (790, 0.4782357678432201), (791, 0.4004376559728443), (792, 0.47150270461195054), (793, 0.35374126951652085), (794, 0.3769580847037475), (795, 0.3947929981149046), (796, 0.30463294293818743), (797, 0.29745915586766764), (798, 0.34831915271824393), (799, 0.41642871139975784), (800, 0.46120098443584756), (801, 0.3315273446843388), (802, 0.17463266328572397), (803, 0.34376238052866875), (804, 0.39006612658300244), (805, 0.4640418173444305), (806, 0.28672379637717677), (807, 0.31804903729614775), (808, 0.4427089552856671), (809, 0.4954181473443838), (810, 0.3862993053046167), (811, 0.4880928435074231), (812, 0.3568531896044711), (813, 0.36200234962722105), (814, 0.2802033173733394), (815, 0.2540946691716096), (816, 0.2789434660793979), (817, 0.5067833844342906), (818, 0.49465660153674024), (819, 0.363211048077379), (820, 0.3720391321463531), (821, 0.4922378196679225), (822, 0.4815562238497339), (823, 0.41739929864932784), (824, 0.4086636666284626), (825, 0.31051408699702976), (826, 0.19312922711137082), (827, 0.3064440410780765), (828, 0.5237162093324421), (829, 0.48461512408758933), (830, 0.5137820867495204), (831, 0.20264975463874832), (832, 0.23598576927696358), (833, 0.30755608956316993), (834, 0.3721291072144368), (835, 0.25660722600643915), (836, 0.3697512795005366), (837, 0.28642588812632325), (838, 0.4477440982312006), (839, 0.22491688679787405), (840, 0.46583221226391314), (841, 0.28291075837886653), (842, 0.23528661115251437), (843, 0.3225637319051998), (844, 0.4608813904888812), (845, 0.44479820729269615), (846, 0.2507101733791342), (847, 0.11716549807795948), (848, 0.3666199931125456), (849, 0.4126821457433452), (850, 0.3613013219128295), (851, 0.37062525737189594), (852, 0.34229560436601125), (853, 0.4733901245972978), (854, 0.3812448139825116), (855, 0.47551665685833533), (856, 0.3876247764512663), (857, 0.29071921951607466), (858, 0.2016600509185833), (859, 0.3676023724600389), (860, 0.3313379288992198), (861, 0.20805578898448557), (862, 0.22156703378693907), (863, 0.3320074535737749), (864, 0.5305979675563541), (865, 0.35907983413941535), (866, 0.4951556263066629), (867, 0.3561709529027475), (868, 0.19166631835361897), (869, 0.34805765791485765), (870, 0.46780288548595045), (871, 0.37650089861923475), (872, 0.3627553642540192), (873, 0.30582475642589296), (874, 0.4059483752894527), (875, 0.3084112368007817), (876, 0.22049262158219385), (877, 0.4979747526581408), (878, 0.452669690803955), (879, 0.4482849306974743), (880, 0.42684868502657913), (881, 0.27290347710284685), (882, 0.4381550580320074), (883, 0.5077054286216915), (884, 0.336972199168477), (885, 0.31534605390752346), (886, 0.2784753748125639), (887, 0.3214063550551015), (888, 0.48462869910804784), (889, 0.34529995112620054), (890, 0.4385945069235321), (891, 0.3538946799408279), (892, 0.2533367743944807), (893, 0.4575861665134172), (894, 0.2851979279919566), (895, 0.49914976445498416), (896, 0.33205349705906495), (897, 0.3606930968709039), (898, 0.3974372971321941), (899, 0.47989665027911677), (900, 0.46231831389410066), (901, 0.22865099328112334), (902, 0.2279971352860598), (903, 0.42786907456761164), (904, 0.4018115143576694), (905, 0.4655267795597533), (906, 0.2296240386331366), (907, 0.29152708624623724), (908, 0.34523809092272884), (909, 0.4992854611752038), (910, 0.2771337850423195), (911, 0.41156155709603814), (912, 0.337008343155315), (913, 0.4352084258562254), (914, 0.46201321661003236), (915, 0.42146548681787976), (916, 0.37616989706088194), (917, 0.4721773886377578), (918, 0.41232525793456515), (919, 0.4714137477579406), (920, 0.26514768978913206), (921, 0.11750350533270965), (922, 0.3540512744712958), (923, 0.23174485588140353), (924, 0.5073092235309158), (925, 0.434391586015213), (926, 0.30737770512746), (927, 0.31393886489414585), (928, 0.46234738793988295), (929, 0.294448398423344), (930, 0.4155763360292041), (931, 0.27729629553289054), (932, 0.4763807793506473), (933, 0.33901431318232517), (934, 0.41596383445719987), (935, 0.5122554325628322), (936, 0.49926201793927266), (937, 0.3515861732457897), (938, 0.3869750982139923), (939, 0.3829372706222116), (940, 0.4595228912200188), (941, 0.48405128868567804), (942, 0.3121169707974285), (943, 0.2568235807617257), (944, 0.3290089817568031), (945, 0.3455641099269774), (946, 0.2831806235796108), (947, 0.3830660974921704), (948, 0.19591243935180314), (949, 0.2846227390782888), (950, 0.4246149897075306), (951, 0.48161852181358905), (952, 0.28916398813268573), (953, 0.3474713058069146), (954, 0.41238360813141967), (955, 0.4979922331120658), (956, 0.4973597861397892), (957, 0.4937589209069184), (958, 0.5070094244225515), (959, 0.2752967898945115), (960, 0.44324629667476073), (961, 0.27213075166118394), (962, 0.4788644810045284), (963, 0.3854203388185984), (964, 0.20421618874782743), (965, 0.38071970774092756), (966, 0.3701849937296084), (967, 0.1171194500938574), (968, 0.39110589580660005), (969, 0.4673636305006161), (970, 0.34345829189987803), (971, 0.38172473882104957), (972, 0.35089165055823107), (973, 0.45468670781539866), (974, 0.4001915809412457), (975, 0.22191654499242836), (976, 0.4037704862447138), (977, 0.4234122385324244), (978, 0.3485517482233132), (979, 0.47567619945359957), (980, 0.4587001980998353), (981, 0.14056801076938025), (982, 0.45056217818040045), (983, 0.45592609760680713), (984, 0.24344960569196533), (985, 0.2830256725390444), (986, 0.26336209571541824), (987, 0.4926276525950182), (988, 0.2272609825511982), (989, 0.24479890575453905), (990, 0.23317744270762392), (991, 0.12387028283635511), (992, 0.40911093366477913), (993, 0.2099401671149671), (994, 0.4953745371883781), (995, 0.3632231945132552), (996, 0.26307912149601853), (997, 0.3120298046874196), (998, 0.26614785819377007), (999, 0.22437368291000134), (1000, 0.47136690836871553), (1001, 0.19018253283582437), (1002, 0.473608462238055), (1003, 0.40264324591227124), (1004, 0.29701257074333176), (1005, 0.38862409683384264), (1006, 0.4564542777642672), (1007, 0.3776293535755653), (1008, 0.43201755918672835), (1009, 0.5086457515112225), (1010, 0.4764880570142607), (1011, 0.042978688719350185), (1012, 0.35554592097007953), (1013, 0.45920009251611493), (1014, 0.31055127289249507), (1015, 0.4580506847655984), (1016, 0.3770693406785366), (1017, 0.3330451441648013), (1018, 0.3229946540324235), (1019, 0.49884016947814347), (1020, 0.4867508210436209), (1021, 0.30305268809981356), (1022, 0.2747627606891995), (1023, 0.16265076237143822), (1024, 0.24968094607831598), (1025, 0.3258730669559213), (1026, 0.18859686839071288), (1027, 0.451583562881055), (1028, 0.31622529060787774), (1029, 0.4098698113163073), (1030, 0.3118141476410113), (1031, 0.2592424267610861), (1032, 0.24609523620492024), (1033, 0.4370702974172841), (1034, 0.35465759061333785), (1035, 0.4263083983106285), (1036, 0.281275766080128), (1037, 0.484834999510789), (1038, 0.44328075161789426), (1039, 0.33168127273067616), (1040, 0.40103449366520566), (1041, 0.36831528628055893), (1042, 0.5249316777745349), (1043, 0.4054513235325405), (1044, 0.30851115198226203), (1045, 0.24963530529620465), (1046, 0.38174135695969613), (1047, 0.3316986351720878), (1048, 0.48629712487351595), (1049, 0.2719561134896685), (1050, 0.3197084304274338), (1051, 0.42336692752472865), (1052, 0.36726777765864504), (1053, 0.4464899434697199), (1054, 0.5251898729610733), (1055, 0.1117249221037559), (1056, 0.5291592746580444), (1057, 0.3711605125002484), (1058, 0.23738982278235915), (1059, 0.48978235026751765), (1060, 0.40878264420845234), (1061, 0.3387626291999447), (1062, 0.3461995993135127), (1063, 0.4746644276056715), (1064, 0.31659709633783956), (1065, 0.41290735063519446), (1066, 0.2164186444770671), (1067, 0.3913214829499424), (1068, 0.3345927954858662), (1069, 0.38312697455285444), (1070, 0.3736859619123115), (1071, 0.26316215181195907), (1072, 0.20173386244850527), (1073, 0.22134028844797518), (1074, 0.26270594829786614), (1075, 0.362360357676195), (1076, 0.4381138207339339), (1077, 0.2715878246217052), (1078, 0.36657237702504525), (1079, 0.4249848012923649), (1080, 0.2662581930546116), (1081, 0.42789562217243626), (1082, 0.3002810111326793), (1083, 0.45678947401173026), (1084, 0.241489858992898), (1085, 0.3410913572120398), (1086, 0.30549740850332463), (1087, 0.3233867467791655), (1088, 0.3231425022001257), (1089, 0.20182554705963093), (1090, 0.14253503525346858), (1091, 0.22307563945263384), (1092, 0.36467234092228784), (1093, 0.4798686955373462), (1094, 0.3005392003320745), (1095, 0.28348540251050175), (1096, 0.3192883217936511), (1097, 0.20916041947484132), (1098, 0.32321545378396366), (1099, 0.11899785696448284), (1100, 0.12727216279803275), (1101, 0.19409856202945222), (1102, 0.4608984623637519), (1103, 0.41595064997072195), (1104, 0.3076263959646966), (1105, 0.302671373106747), (1106, 0.38036623115731927), (1107, 0.2812557232293803), (1108, 0.41263731326838254), (1109, 0.273324513438479), (1110, 0.3752949480544547), (1111, 0.4657021520062763), (1112, 0.25637249016069963), (1113, 0.22662925447965765), (1114, 0.39158156432252106), (1115, 0.4614100022894414), (1116, 0.3453550874993642), (1117, 0.21133698557679126), (1118, 0.3726615980242311), (1119, 0.44242327837556433), (1120, 0.2798328735548385), (1121, 0.40240316780907975), (1122, 0.4916657533715266), (1123, 0.1987738566183156), (1124, 0.3137986783694794), (1125, 0.4016246462875146), (1126, 0.3953603109912161), (1127, 0.30470471244859026), (1128, 0.07658371414202417), (1129, 0.34734081489886126), (1130, 0.3833354757494008), (1131, 0.3626539935124603), (1132, 0.4431795113582324), (1133, 0.49758401326721713), (1134, 0.2647409681870575), (1135, 0.3147633529312099), (1136, 0.3009290802833619), (1137, 0.3559142371550409), (1138, 0.35183515119595565), (1139, 0.36227848582230127), (1140, 0.2560446161781045), (1141, 0.49259007908896624), (1142, 0.08299486499395507), (1143, 0.49037026286016805), (1144, 0.25945881320595926), (1145, 0.4870289671499767), (1146, 0.3790656731978815), (1147, 0.2646201202937438), (1148, 0.3397816720659844), (1149, 0.4145835849321656), (1150, 0.3888227954045037), (1151, 0.217972520452527), (1152, 0.39431072278099216), (1153, 0.4596858525336881), (1154, 0.41865987566671703), (1155, 0.20151503260838266), (1156, 0.30392832759216204), (1157, 0.2957469862716257), (1158, 0.4503631252194078), (1159, 0.22285840265667903), (1160, 0.4597447793749022), (1161, 0.5013309611533465), (1162, 0.161890402883536), (1163, 0.25930056030020954), (1164, 0.3980196198617275), (1165, 0.3685714257748993), (1166, 0.38606852478841414), (1167, 0.3113027623946326), (1168, 0.34257847587993534), (1169, 0.4500018294721069), (1170, 0.46519364844175815), (1171, 0.35178727220919315), (1172, 0.306908119378843), (1173, 0.36210523348470197), (1174, 0.3904441098262876), (1175, 0.45273524574881535), (1176, 0.4144713630391014), (1177, 0.4839699343539758), (1178, 0.2868355310720528), (1179, 0.4818938357814563), (1180, 0.24885427397111945), (1181, 0.4774651588605635), (1182, 0.2883508482508591), (1183, 0.2846495661993198), (1184, 0.46088134537721487), (1185, 0.15613303668504805), (1186, 0.3900009047433137), (1187, 0.48643199928712133), (1188, 0.4403603783674732), (1189, 0.3558950706214376), (1190, 0.3030948374709738), (1191, 0.43915681350392305), (1192, 0.32610211938420736), (1193, 0.1901871255188609), (1194, 0.3907589508564736), (1195, 0.4057597812242953), (1196, 0.46927686595783225), (1197, 0.404315160645475), (1198, 0.266442072747378), (1199, 0.4748096371385515), (1200, 0.36492206818314343), (1201, 0.47178331481316993), (1202, 0.32918322408416), (1203, 0.4833302605661376), (1204, 0.40524004030481914), (1205, 0.49858922904628433), (1206, 0.14145777067349327), (1207, 0.38361963442335245), (1208, 0.3904251026110996), (1209, 0.43323003867397286), (1210, 0.5087998831358281), (1211, 0.41236270340379966), (1212, 0.35262834885855027), (1213, 0.4774575678168432), (1214, 0.3056622046288622), (1215, 0.21134789210190588), (1216, 0.3885155179885198), (1217, 0.46437786128342834), (1218, 0.27179427688287594), (1219, 0.2576150046981356), (1220, 0.48096847879872645), (1221, 0.4493871423100452), (1222, 0.43414707598157976), (1223, 0.36263147758107905), (1224, 0.4213563669148741), (1225, 0.23139382321585603), (1226, 0.17926107222219184), (1227, 0.3863956833987994), (1228, 0.3603165205464521), (1229, 0.3349583033746695), (1230, 0.22004577852832918), (1231, 0.14556971970387997), (1232, 0.17654935039308575), (1233, 0.38196453694258814), (1234, 0.22869286458647678), (1235, 0.3857940201629818), (1236, 0.46709748940492246), (1237, 0.1859205486158699), (1238, 0.31661051510620036), (1239, 0.5039719400265376), (1240, 0.3798008745354537), (1241, 0.361319527101026), (1242, 0.3327171170318079), (1243, 0.2293451787893402), (1244, 0.2082526723904382), (1245, 0.48377651524974363), (1246, 0.4029720707710877), (1247, 0.09214549019449794), (1248, 0.32681380810418453), (1249, 0.506800646467819), (1250, 0.19031570699017827), (1251, 0.2468141769901129), (1252, 0.32143635456460845), (1253, 0.19957046691830424), (1254, 0.2740083304951793), (1255, 0.26518561811401187), (1256, 0.23600980874293545), (1257, 0.32171443217890905), (1258, 0.27145607182985987), (1259, 0.3790501413028779), (1260, 0.4658614492237365), (1261, 0.3085446320456637), (1262, 0.3066671155347808), (1263, 0.2691370517798586), (1264, 0.18552258129208876), (1265, 0.451065414654655), (1266, 0.21356481780655662), (1267, 0.26727284872014645), (1268, 0.1780707328006451), (1269, 0.2588136258771915), (1270, 0.23109371223949016), (1271, 0.32398456291439753), (1272, 0.3577219414967516), (1273, 0.32992034205313936), (1274, 0.3812180179290447), (1275, 0.3209486665603188), (1276, 0.4250794796370252), (1277, 0.28464735852037937), (1278, 0.4439216156167181), (1279, 0.35811944586324373), (1280, 0.3631842351670773), (1281, 0.37868620771074446), (1282, 0.26507206363480773), (1283, 0.2423614931802384), (1284, 0.3652077678790128), (1285, 0.1169870191697862), (1286, 0.43471422694081496), (1287, 0.4149136642819761), (1288, 0.2944275396677001), (1289, 0.3837270226747293), (1290, 0.34840669571844), (1291, 0.3990414264936609), (1292, 0.30803881937579247), (1293, 0.4614046257870523), (1294, 0.3315500534764384), (1295, 0.33212189765576944), (1296, 0.35092925916393986), (1297, 0.4093885871829469), (1298, 0.3926580365810992), (1299, 0.4204364050016218), (1300, 0.3389971521591326), (1301, 0.21092392253568737), (1302, 0.41775509055041077), (1303, 0.32509954278867537), (1304, 0.189963143942282), (1305, 0.362110471617763), (1306, 0.08776626118163323), (1307, 0.3447067403663726), (1308, 0.4658534076106514), (1309, 0.43464940549174835), (1310, 0.3975812907676154), (1311, 0.3683527666807319), (1312, 0.42433588677223966), (1313, 0.3422486926998161), (1314, 0.22983089725285227), (1315, 0.2641763712691674), (1316, 0.13919098699316845), (1317, 0.25161889201667986), (1318, 0.4258560187184997), (1319, 0.3348444885131494), (1320, 0.20923032061691002), (1321, 0.15675433847765033), (1322, 0.41227870651143045), (1323, 0.45202357157325773), (1324, 0.24549726216774076), (1325, 0.31232731421497495), (1326, 0.46840495485833494), (1327, 0.47163966967101534), (1328, 0.4373822007048569), (1329, 0.35706158763171975), (1330, 0.33751668812072344), (1331, 0.3256844253260066), (1332, 0.3560920790232043), (1333, 0.4312412294261554), (1334, 0.2609681218284346), (1335, 0.3593418039834095), (1336, 0.3558994987887336), (1337, 0.12905367187459388), (1338, 0.5076893065617034), (1339, 0.2532671389752458), (1340, 0.43344351964333183), (1341, 0.4057082618130547), (1342, 0.325339406153952), (1343, 0.17775289536462252), (1344, 0.3629958593211445), (1345, 0.40305964614391077), (1346, 0.3348855636704966), (1347, 0.33880362939503156), (1348, 0.48921336596020654), (1349, 0.09092468128527052), (1350, 0.23134119714284132), (1351, 0.34147609282966535), (1352, 0.43583753889191573), (1353, 0.263340513074266), (1354, 0.2058096222877184), (1355, 0.21438253586021833), (1356, 0.37761205768584805), (1357, 0.31206059271317954), (1358, 0.3975586174246691), (1359, 0.31506350046753473), (1360, 0.06867041695944093), (1361, 0.3445940412615105), (1362, 0.44906076793991356), (1363, 0.43898244599281416), (1364, 0.4566202113625738), (1365, 0.2902291132318061), (1366, 0.34451757348278605), (1367, 0.3357905113598222), (1368, 0.43920411576560575), (1369, 0.431950742987703), (1370, 0.3812498155041222), (1371, 0.3683932747785363), (1372, 0.4037400924791423), (1373, 0.3524663267568473), (1374, 0.49445743959919797), (1375, 0.4348888198164137), (1376, 0.31224179578395156), (1377, 0.429847546515853), (1378, 0.3070104155566348), (1379, 0.47694952143243996), (1380, 0.27459883890545284), (1381, 0.4470577628834915), (1382, 0.2860408045341416), (1383, 0.2878358198321591), (1384, 0.13458398665744004), (1385, 0.37137533648507093), (1386, 0.35427346750324423), (1387, 0.3322087906215239), (1388, 0.4025871332947658), (1389, 0.48372181824160587), (1390, 0.3830670022800954), (1391, 0.34991520194328585), (1392, 0.3496023293151692), (1393, 0.2921751180167221), (1394, 0.3110578245272907), (1395, 0.48789103245601945), (1396, 0.39376063492509406), (1397, 0.3508007066968366), (1398, 0.3440005223861856), (1399, 0.3960866513259964), (1400, 0.27534026249367566), (1401, 0.17061071987790732), (1402, 0.1980326512965808), (1403, 0.09800004454609676), (1404, 0.3252135952534444), (1405, 0.425180516781723), (1406, 0.3429385908850641), (1407, 0.5006099130846818), (1408, 0.44289207549858717), (1409, 0.3063991746761043), (1410, 0.2758235198756285), (1411, 0.3185105196055222), (1412, 0.48694766528356415), (1413, 0.4098592551152532), (1414, 0.3477143367779968), (1415, 0.2924345103842205), (1416, 0.36512088713456653), (1417, 0.42443340614129377), (1418, 0.25901556680634147), (1419, 0.41151767621007196), (1420, 0.32153150921378315), (1421, 0.4346528891766206), (1422, 0.4858351805425469), (1423, 0.49220385360059515), (1424, 0.48370180155334197), (1425, 0.45913023098689393), (1426, 0.1690963238186037), (1427, 0.2322934977694348), (1428, 0.3357236750391882), (1429, 0.47988167148330624), (1430, 0.5288206540665761), (1431, 0.1468803327626123), (1432, 0.3418472185321619), (1433, 0.30741150795961486), (1434, 0.41978130119741497), (1435, 0.30203670885823536), (1436, 0.2767044503847722), (1437, 0.4474686605171463), (1438, 0.3138796326218714), (1439, 0.33279788309147423), (1440, 0.1226661375542779), (1441, 0.2618016183018419), (1442, 0.37646969978456907), (1443, 0.284642581171317), (1444, 0.3484585235602464), (1445, 0.4172218407473364), (1446, 0.4086418329641266), (1447, 0.25837251831385594), (1448, 0.44260795230378347), (1449, 0.4815201428537999), (1450, 0.5160276755012458), (1451, 0.4046834098067885), (1452, 0.43732139532904096), (1453, 0.15014352719985577), (1454, 0.32739728196062473), (1455, 0.389302566450257), (1456, 0.31729155229680683), (1457, 0.2343609174240694), (1458, 0.34591749392676596), (1459, 0.12875252849460078), (1460, 0.21743249192170522), (1461, 0.3607683120954984), (1462, 0.2593701082472946), (1463, 0.2968481795279), (1464, 0.25228710236209184), (1465, 0.4934227109834552), (1466, 0.1986416949735699), (1467, 0.2263430428538214), (1468, 0.4772577043998723), (1469, 0.3193097638520234), (1470, 0.3211864016396873), (1471, 0.2508032011600163), (1472, 0.3989144341024168), (1473, 0.4429681503642237), (1474, 0.13391447661016945), (1475, 0.302671798133139), (1476, 0.26714302018620173), (1477, 0.30136965030877755), (1478, 0.4542481262136418), (1479, 0.47401176667884526), (1480, 0.24977149158001483), (1481, 0.2810406070127193), (1482, 0.4541002688874235), (1483, 0.2793586229213258), (1484, 0.3377127377279068), (1485, 0.19528503925153473), (1486, 0.5280192692174989), (1487, 0.33373077397254336), (1488, 0.400511539065121), (1489, 0.2806518380242496), (1490, 0.28699630212375943), (1491, 0.4836932508320866), (1492, 0.39019342874973073), (1493, 0.28617443667385295), (1494, 0.47673661803178824), (1495, 0.2836522702362155), (1496, 0.26428452099014593), (1497, 0.2617615196753717), (1498, 0.23805631278319817), (1499, 0.4303376279147126), (1500, 0.4081391928576638), (1501, 0.3332349400116731), (1502, 0.2984234621898051), (1503, 0.2293096360404692), (1504, 0.24531000622757976), (1505, 0.43765905728611737), (1506, 0.37334187713396066), (1507, 0.3173657050620928), (1508, 0.3260063447494949), (1509, 0.2632232515987156), (1510, 0.26760673635414195), (1511, 0.1335245010538194), (1512, 0.41864540862288324), (1513, 0.32863063810842225), (1514, 0.27600413642531807), (1515, 0.42790033320703447), (1516, 0.4962825638811468), (1517, 0.3346011888766452), (1518, 0.247399810123888), (1519, 0.2790761499354059), (1520, 0.4151038799999681), (1521, 0.35633150757988274), (1522, 0.31497779375480034), (1523, 0.450912757547944), (1524, 0.23951215487234356), (1525, 0.4253271806130216), (1526, 0.35371074162420646), (1527, 0.454785043644721), (1528, 0.4292327493147308), (1529, 0.34109461224651716), (1530, 0.4776294848308758), (1531, 0.34260312505261187), (1532, 0.4338886838408761), (1533, 0.2124057923473282), (1534, 0.31807484661252683), (1535, 0.4906579379638765), (1536, 0.43888657694209066), (1537, 0.3956282508268799), (1538, 0.31283540903183604), (1539, 0.422524195663587), (1540, 0.5044377442387808), (1541, 0.45372755678219207), (1542, 0.2694282578942455), (1543, 0.14896462644771546), (1544, 0.3487629787388613), (1545, 0.35828630115578725), (1546, 0.30838413276562543), (1547, 0.4823547554619533), (1548, 0.49896530125996186), (1549, 0.310957600756372), (1550, 0.2820781214647075), (1551, 0.252461243724683), (1552, 0.47965489602708944), (1553, 0.5038332952865039), (1554, 0.4821209119562957), (1555, 0.37958082958102024), (1556, 0.27765045246996434), (1557, 0.4802441664801473), (1558, 0.29959856739621804), (1559, 0.44300787416702625), (1560, 0.466492647967487), (1561, 0.45027491385410445), (1562, 0.3341628201857663), (1563, 0.24125066121777666), (1564, 0.31961043696038316), (1565, 0.4136591615959263), (1566, 0.37597806789934757), (1567, 0.34389039235270186), (1568, 0.444205416243448), (1569, 0.21139035954666552), (1570, 0.2607221466600644), (1571, 0.34613140687617416), (1572, 0.26409471332476175), (1573, 0.46287158166344433), (1574, 0.25956402068130513), (1575, 0.17762881818466997), (1576, 0.1537288576643527), (1577, 0.4997639455645467), (1578, 0.45283021694211), (1579, 0.4680515148260231), (1580, 0.16151963409706327), (1581, 0.42267638400408025), (1582, 0.26868394371980464), (1583, 0.26151433838925914), (1584, 0.3519268435243538), (1585, 0.2884276801298127), (1586, 0.3451717970140884), (1587, 0.3966606729993958), (1588, 0.3452011479923689), (1589, 0.18947834254813234), (1590, 0.4069265011435551), (1591, 0.3743592868177277), (1592, 0.41446229892937125), (1593, 0.2552080435842364), (1594, 0.4437358885247946), (1595, 0.37381958091498546), (1596, 0.47337789119763607), (1597, 0.4359134101422355), (1598, 0.4710677653242915), (1599, 0.3632753054664686), (1600, 0.07860806700164367), (1601, 0.2227192532235029), (1602, 0.34094016604392996), (1603, 0.3689078591594519), (1604, 0.45026644608711053), (1605, 0.47410391106849714), (1606, 0.2842818031131454), (1607, 0.3395655099867088), (1608, 0.35721696945709625), (1609, 0.3095951594142218), (1610, 0.352333021691046), (1611, 0.17820585631388197), (1612, 0.3525185476121706), (1613, 0.4741470598779533), (1614, 0.3248155055998957), (1615, 0.29493223872307583), (1616, 0.12570966278192822), (1617, 0.43396834713976196), (1618, 0.3088829395613931), (1619, 0.40984078829535253), (1620, 0.4526174849707877), (1621, 0.2506475763757164), (1622, 0.36683155393641065), (1623, 0.43624291434472784), (1624, 0.05623571727324247), (1625, 0.2421126584763512), (1626, 0.3324489098413926), (1627, 0.47251457084402354), (1628, 0.29927950819015364), (1629, 0.3795613361653007), (1630, 0.292628216987246), (1631, 0.3790106974107114), (1632, 0.33384951825872355), (1633, 0.4827823866806131), (1634, 0.5044528887612306), (1635, 0.25488191435489316), (1636, 0.09528120715918506), (1637, 0.49976285171225343), (1638, 0.1577118693328949), (1639, 0.34856672569810065), (1640, 0.29028133730793526), (1641, 0.5009743528652516), (1642, 0.4527961318572632), (1643, 0.24709453422484015), (1644, 0.33848703144587583), (1645, 0.4678840016181159), (1646, 0.2929994842105337), (1647, 0.4845804314202642), (1648, 0.2690393669166904), (1649, 0.33514084257547216), (1650, 0.3534452536719742), (1651, 0.3462670886785377), (1652, 0.19457590967945995), (1653, 0.25722242084166064), (1654, 0.41631402748757107), (1655, 0.39447714790235516), (1656, 0.20132295848258103), (1657, 0.40462371444066314), (1658, 0.2155347338203073), (1659, 0.3727603558760226), (1660, 0.30008230854819395), (1661, 0.37567167225911097), (1662, 0.43612167236322075), (1663, 0.37263316971270133), (1664, 0.29292012809565554), (1665, 0.3011718225349966), (1666, 0.3944213757197186), (1667, 0.2474647091265109), (1668, 0.29927654247695007), (1669, 0.23773677081765832), (1670, 0.20966667977308684), (1671, 0.30406254064036337), (1672, 0.16740317951466366), (1673, 0.21357318983150556), (1674, 0.46466035854937915), (1675, 0.42057896126226546), (1676, 0.2679747146196819), (1677, 0.3264192330741258), (1678, 0.0962911190121266), (1679, 0.4183382453212816), (1680, 0.11184514486357713), (1681, 0.16358054531111876), (1682, 0.41064864136570256), (1683, 0.41635376767318044), (1684, 0.47979233329585336), (1685, 0.3429107155499494), (1686, 0.35807544399368846), (1687, 0.45161087324759974), (1688, 0.34564521484645117), (1689, 0.2674851579737407), (1690, 0.2871657055483322), (1691, 0.2358164808072407), (1692, 0.27919453596176125), (1693, 0.2386545346912907), (1694, 0.3550821998935457), (1695, 0.45499375916308366), (1696, 0.4046974001802823), (1697, 0.41820808558901557), (1698, 0.21760383496980154), (1699, 0.4014564757199616), (1700, 0.4536747604707442), (1701, 0.4011079582948974), (1702, 0.47928801025927276), (1703, 0.47761930815992965), (1704, 0.4889081747478683), (1705, 0.40941590688904794), (1706, 0.08862268765800972), (1707, 0.5086621651160725), (1708, 0.32861442461277673), (1709, 0.16177582469782187), (1710, 0.3992210852923874), (1711, 0.4090009983068072), (1712, 0.28432017356251416), (1713, 0.35358856856163934), (1714, 0.40271664197542606), (1715, 0.3282267456821918), (1716, 0.5012840109268959), (1717, 0.30926641344062356), (1718, 0.27692844602249095), (1719, 0.28195212190788504), (1720, 0.44704854922291226), (1721, 0.08251794296500202), (1722, 0.41343657240726633), (1723, 0.48502173093348727), (1724, 0.3617411592883215), (1725, 0.4153318170911746), (1726, 0.23938816995124418), (1727, 0.42854571278285253), (1728, 0.4043039142322126), (1729, 0.16960568500438916), (1730, 0.18778485528472977), (1731, 0.3563945181891062), (1732, 0.13794213458629373), (1733, 0.1393463001495793), (1734, 0.09082202337628566), (1735, 0.3543115424481506), (1736, 0.32542655851060087), (1737, 0.27861398805496546), (1738, 0.3403211408206534), (1739, 0.42143785198327227), (1740, 0.34419230284559077), (1741, 0.22099262985665424), (1742, 0.41983119452012324), (1743, 0.36303552021106744), (1744, 0.3176333027030368), (1745, 0.3617722792854224), (1746, 0.11343869533509873), (1747, 0.08771064204231238), (1748, 0.31415612122591796), (1749, 0.42664793775126714), (1750, 0.28885415464794817), (1751, 0.3449775319503113), (1752, 0.31796505560141947), (1753, 0.3426331770057134), (1754, 0.10652605779570501), (1755, 0.4436380049842028), (1756, 0.314995998885503), (1757, 0.3900909624354323), (1758, 0.32577709983732706), (1759, 0.36539745250006866), (1760, 0.09645426196242139), (1761, 0.35412298857148516), (1762, 0.4569647896257274), (1763, 0.44874371005180214), (1764, 0.46814208363060617), (1765, 0.14606361525398143), (1766, 0.46727990139003917), (1767, 0.30791743793142495), (1768, 0.2760245740482765), (1769, 0.3375512730952439), (1770, 0.24614153228643731), (1771, 0.35517148945235666), (1772, 0.3434424604719248), (1773, 0.5165292039060047), (1774, 0.3014308240041811), (1775, 0.3564336059707672), (1776, 0.22755045909258348), (1777, 0.4082573146324377), (1778, 0.39111581685193686), (1779, 0.18030338975299573), (1780, 0.3394910236363516), (1781, 0.45435725082070383), (1782, 0.4116267796247395), (1783, 0.40000988720041203), (1784, 0.43211337398051836), (1785, 0.32884431247579454), (1786, 0.38802715593675907), (1787, 0.2848470654537049), (1788, 0.42240323603242824), (1789, 0.49225562897553565), (1790, 0.38316695750868074), (1791, 0.3570422519722128), (1792, 0.35372655886893395), (1793, 0.28195230452569836), (1794, 0.46640289262499507), (1795, 0.21770761111642684), (1796, 0.4803484386466694), (1797, 0.09895377347335825), (1798, 0.11825165579362404), (1799, 0.24602640083725882), (1800, 0.35223943434646887), (1801, 0.3037537478241025), (1802, 0.16795610263846295), (1803, 0.4403265439490659), (1804, 0.45142367250526455), (1805, 0.28497906917949145), (1806, 0.2115713307206939), (1807, 0.08485459744667104), (1808, 0.4415207442073627), (1809, 0.4705782177164448), (1810, 0.49422592897274253), (1811, 0.37640216188309206), (1812, 0.4591365332882281), (1813, 0.4875649361320786), (1814, 0.14006746436487255), (1815, 0.35585767296042625), (1816, 0.1751669497422427), (1817, 0.4509925838058064), (1818, 0.4141226470918943), (1819, 0.4650053338340874), (1820, 0.22887818312712802), (1821, 0.5138680815651484), (1822, 0.18063856516230842), (1823, 0.5226825565850741), (1824, 0.3209002080234803), (1825, 0.3268945399086644), (1826, 0.491313664968922), (1827, 0.32559425623078303), (1828, 0.3969274259941822), (1829, 0.39595790677746984), (1830, 0.35883746937887023), (1831, 0.5004549944356592), (1832, 0.429832581296456), (1833, 0.22236009680872892), (1834, 0.2830035875475784), (1835, 0.4871222223052548), (1836, 0.45830855991600655), (1837, 0.20167941982475274), (1838, 0.40186392956934897), (1839, 0.4830739268540788), (1840, 0.15774966797135964), (1841, 0.2815364907802523), (1842, 0.28749517054450735), (1843, 0.16373215184355233), (1844, 0.4562727045302347), (1845, 0.4106327072401605), (1846, 0.24156532682581836), (1847, 0.46422544640648034), (1848, 0.45797484919592485), (1849, 0.2993396841655884), (1850, 0.42460681234295833), (1851, 0.2489848818750732), (1852, 0.393182511564595), (1853, 0.30482590274527427), (1854, 0.2340408621422887), (1855, 0.41781335123324437), (1856, 0.31251596299660794), (1857, 0.32099423145340134), (1858, 0.3134080111035197), (1859, 0.31143847573863953), (1860, 0.32713010552895033), (1861, 0.4203599986330576), (1862, 0.20090364949453063), (1863, 0.1017910221328166), (1864, 0.3477585534812346), (1865, 0.29080063455765975), (1866, 0.4980179094337449), (1867, 0.3822090081463507), (1868, 0.24731411381702414), (1869, 0.34746622967393254), (1870, 0.23228758440930938), (1871, 0.3519429511792889), (1872, 0.481875522950039), (1873, 0.4468506225953699), (1874, 0.404300595837884), (1875, 0.4380281893836013), (1876, 0.32131693661840244), (1877, 0.3544338848759851), (1878, 0.25078911889374006), (1879, 0.42991785448019937), (1880, 0.3913393866299058), (1881, 0.4863615319976208), (1882, 0.30241199355607884), (1883, 0.40353307318549203), (1884, 0.36130437205434485), (1885, 0.3090260248746508), (1886, 0.11304807583235188), (1887, 0.4142854334783497), (1888, 0.24670796594014366), (1889, 0.30282342380302335), (1890, 0.278444151123701), (1891, 0.38699649859471696), (1892, 0.1807225291952678), (1893, 0.47489500896511383), (1894, 0.38747888833008703), (1895, 0.31885939684941084), (1896, 0.507921301183817), (1897, 0.3562285570707827), (1898, 0.13178458930712464), (1899, 0.33890945465960653), (1900, 0.14641949507345448), (1901, 0.17201491938891675), (1902, 0.29875937794091345), (1903, 0.34646338642901425), (1904, 0.298852942162018), (1905, 0.24213138478565271), (1906, 0.5026213703120233), (1907, 0.3661065287994062), (1908, 0.26719636682891607), (1909, 0.4578541275174996), (1910, 0.3681057721160583), (1911, 0.18008750431372808), (1912, 0.22860713293671497), (1913, 0.4096111986524937), (1914, 0.3256359446764003), (1915, 0.4769790241896651), (1916, 0.26353752550466586), (1917, 0.3815705877676917), (1918, 0.3494439311624064), (1919, 0.2698242582446344), (1920, 0.4447878145231169), (1921, 0.3090906578069553), (1922, 0.16590109726065466), (1923, 0.31967662529205765), (1924, 0.11635438301908581), (1925, 0.15720225848132305), (1926, 0.48158496739633844), (1927, 0.28598811004725183), (1928, 0.15134672646850258), (1929, 0.41519948018418706), (1930, 0.40333226537354055), (1931, 0.3074729279545514), (1932, 0.17486908682065835), (1933, 0.1575548882783374), (1934, 0.2910467312234473), (1935, 0.37226271358795193), (1936, 0.2600565510195419), (1937, 0.058509463330376335), (1938, 0.39655077020846147), (1939, 0.0897680765355353), (1940, 0.30352353512500824), (1941, 0.35272109726358114), (1942, 0.23515206515212655), (1943, 0.1358800484259966), (1944, 0.3598656616155779), (1945, 0.15892517885302096), (1946, 0.46044873777854567), (1947, 0.2204874844260864), (1948, 0.3262527073529731), (1949, 0.1506182245073513), (1950, 0.11796880007318575), (1951, 0.12264689146447244), (1952, 0.3335584306167823), (1953, 0.40341260811146484), (1954, 0.26289527003860913), (1955, 0.20143833637486633), (1956, 0.328111668942146), (1957, 0.2660634410138905), (1958, 0.27558075420272615), (1959, 0.30788357276555817), (1960, 0.35974045677681554), (1961, 0.3926527799630925), (1962, 0.3333722237426739), (1963, 0.3510153178728392), (1964, 0.4871923354110791), (1965, 0.3165990144961962), (1966, 0.2760210596991999), (1967, 0.29042008786905105), (1968, 0.4847293648631388), (1969, 0.13841848824934788), (1970, 0.2980231264358966), (1971, 0.19351974091694707), (1972, 0.4347963792406012), (1973, 0.1446809854031033), (1974, 0.4434597151109573), (1975, 0.11994514100992161), (1976, 0.2687056191592383), (1977, 0.257857595649499), (1978, 0.28606526620464995), (1979, 0.12228310682121339), (1980, 0.14216357373117355), (1981, 0.3553194980572086), (1982, 0.1906974152933732), (1983, 0.32834094362138316), (1984, 0.27680493632866016), (1985, 0.14119901828668027), (1986, 0.47285271796753425), (1987, 0.30302380172337307), (1988, 0.2256108839918614), (1989, 0.24661190703664104), (1990, 0.44932638414991677), (1991, 0.3705201187105753), (1992, 0.21118994327066318), (1993, 0.4757392105326578), (1994, 0.4853691762905631), (1995, 0.49676556818115963), (1996, 0.3660748287262721), (1997, 0.3621944743031229), (1998, 0.3188541982153308), (1999, 0.3952381068148686), (2000, 0.1888895122637869), (2001, 0.09001044079477477), (2002, 0.3162795760619408), (2003, 0.3289204460773221), (2004, 0.4288790804344591), (2005, 0.05948218968463087), (2006, 0.31147472381562685), (2007, 0.26278131030111684), (2008, 0.4771764468335096), (2009, 0.2378188144187408), (2010, 0.42286193083942114), (2011, 0.29556473524959126), (2012, 0.3041778490491233), (2013, 0.1326857293308583), (2014, 0.43967733435836953), (2015, 0.3540428325273036), (2016, 0.49898698925716783), (2017, 0.45788592612423573), (2018, 0.487715889959183), (2019, 0.22786701384095692), (2020, 0.10797178120027076), (2021, 0.23753744290803902), (2022, 0.27891957503401915), (2023, 0.5010065133710924), (2024, 0.3956063765770801), (2025, 0.16585939371351244), (2026, 0.19084320893061058), (2027, 0.4301023143449606), (2028, 0.16938810541910465), (2029, 0.49309527848234036), (2030, 0.37551774851068587), (2031, 0.33882964125641135), (2032, 0.3754881776095942), (2033, 0.3344478751542717), (2034, 0.3288269536408405), (2035, 0.47772378961860096), (2036, 0.23552592671457742), (2037, 0.2854552173648405), (2038, 0.32985954958963715), (2039, 0.5053193365871743), (2040, 0.4510199334457372), (2041, 0.2790902415990649), (2042, 0.3757522542856837), (2043, 0.41683163553272945), (2044, 0.04339441314502966), (2045, 0.20969977588183963), (2046, 0.3299443636541814), (2047, 0.23455099615182887), (2048, 0.11826722588521218), (2049, 0.3464346307035149), (2050, 0.4221752978149716), (2051, 0.32649924628785154), (2052, 0.4462871755400952), (2053, 0.44114743965413966), (2054, 0.38029164385784464), (2055, 0.2089749521120929), (2056, 0.4356932375642171), (2057, 0.23576364016002324), (2058, 0.09502175361320456), (2059, 0.103026431892696), (2060, 0.3539147020417534), (2061, 0.3359767703349871), (2062, 0.17906951383445294), (2063, 0.4374038696614013), (2064, 0.14492602022902487), (2065, 0.11810106612377608), (2066, 0.4244234381384643), (2067, 0.37059321914903054), (2068, 0.21963959553026055), (2069, 0.24043388552992578), (2070, 0.2754499341297485), (2071, 0.4685619544025861), (2072, 0.4799348016205153), (2073, 0.12103546382238486), (2074, 0.36138633025520905), (2075, 0.259313510572184), (2076, 0.426354308080539), (2077, 0.4424946949030169), (2078, 0.3872415507304777), (2079, 0.3041951335810568), (2080, 0.34872440367599994), (2081, 0.16540600973018924), (2082, 0.3443423190140307), (2083, 0.33650931825065666), (2084, 0.4476475720994268), (2085, 0.4425979198050299), (2086, 0.28792005079134453), (2087, 0.40368342334494417), (2088, 0.2482857776884917), (2089, 0.41430022739418776), (2090, 0.2702578572392189), (2091, 0.483100945122291), (2092, 0.2589991843895161), (2093, 0.2769456831355205), (2094, 0.3682771624658973), (2095, 0.07558852180583485), (2096, 0.44643721630768474), (2097, 0.3127907222911316), (2098, 0.43886079014188895), (2099, 0.3590352638559352), (2100, 0.30656018287090037), (2101, 0.384404667244716), (2102, 0.2897377044463837), (2103, 0.25616036194078656), (2104, 0.16721619500039242), (2105, 0.4848735371743548), (2106, 0.2402848403903587), (2107, 0.08953148427662413), (2108, 0.302669954684183), (2109, 0.4400927398880103), (2110, 0.25805733062900416), (2111, 0.357835192449179), (2112, 0.16160535133666007), (2113, 0.325170953437362), (2114, 0.23466772809419462), (2115, 0.3236751499874518), (2116, 0.24929473766417065), (2117, 0.44094590538957495), (2118, 0.36697905045484974), (2119, 0.35888460536431555), (2120, 0.41516253350819093), (2121, 0.28855280790243903), (2122, 0.3141109308769463), (2123, 0.5074274694612303), (2124, 0.3135015723027553), (2125, 0.329737315492958), (2126, 0.2390261622610086), (2127, 0.31499743146847226), (2128, 0.3359961324544226), (2129, 0.41243457096708236), (2130, 0.44443592398424325), (2131, 0.3388421678169179), (2132, 0.32018750159874254), (2133, 0.30486847551649054), (2134, 0.2476552683522917), (2135, 0.3592270630312454), (2136, 0.3705862957977516), (2137, 0.39468897690702603), (2138, 0.36935126480935304), (2139, 0.40467010266536696), (2140, 0.22395072827768558), (2141, 0.17527926866151977), (2142, 0.34414680497525313), (2143, 0.5084646195342609), (2144, 0.3587017179411647), (2145, 0.24804987370094717), (2146, 0.32336999207326617), (2147, 0.45113960608344855), (2148, 0.31133214537967147), (2149, 0.426978361009995), (2150, 0.38224897506177746), (2151, 0.4745465629697692), (2152, 0.34380210255564203), (2153, 0.29330536236032995), (2154, 0.35083953352424235), (2155, 0.27447091514583016), (2156, 0.4451518839287786), (2157, 0.4545388178631844), (2158, 0.4227769621642461), (2159, 0.38668185110296327), (2160, 0.3891740293904834), (2161, 0.2260833171329144), (2162, 0.12774226335967737), (2163, 0.36280720895690227), (2164, 0.3546645603337842), (2165, 0.33244293141748155), (2166, 0.3335675165543921), (2167, 0.43679121759588313), (2168, 0.43373453963502545), (2169, 0.3084180040467471), (2170, 0.3465694109362477), (2171, 0.36851274181465365), (2172, 0.19605064934418048), (2173, 0.08493185541900325), (2174, 0.06038856464559912), (2175, 0.33191037003921153), (2176, 0.10040617598120188), (2177, 0.31003100038722), (2178, 0.4494211573874159), (2179, 0.37379677213891493), (2180, 0.36904315311724806), (2181, 0.4524673383276817), (2182, 0.25129918449303057), (2183, 0.32135615977922494), (2184, 0.2985452857092824), (2185, 0.4723682284494374), (2186, 0.309841352441412), (2187, 0.2599070294305586), (2188, 0.41731181333704526), (2189, 0.2692650597531444), (2190, 0.1931344780343827), (2191, 0.09087376174587418), (2192, 0.32045272679387976), (2193, 0.2617405980624362), (2194, 0.26718771616871556), (2195, 0.28470402737484996), (2196, 0.355782871900709), (2197, 0.22780060430996601), (2198, 0.3240280327310742), (2199, 0.3776361068305561), (2200, 0.487900819335663), (2201, 0.23012851552505492), (2202, 0.409620904459699), (2203, 0.3318457644226409), (2204, 0.37274846951780166), (2205, 0.15868515347542256), (2206, 0.3124330996888932), (2207, 0.43724413951970986), (2208, 0.356496928577124), (2209, 0.086656961432545), (2210, 0.24797506377028267), (2211, 0.2923387962084179), (2212, 0.47278072421833495), (2213, 0.2547184890934198), (2214, 0.37326307939189785), (2215, 0.38015178928681753), (2216, 0.280136327669706), (2217, 0.4991561471103993), (2218, 0.4742462703443591), (2219, 0.3804549903790021), (2220, 0.15320589652901978), (2221, 0.26993877197410976), (2222, 0.10935813595329028), (2223, 0.12208069921147029), (2224, 0.24272006909230323), (2225, 0.369000156831392), (2226, 0.1391954911744961), (2227, 0.3422340959014813), (2228, 0.08617589708391384), (2229, 0.4027816271038332), (2230, 0.4633709680049055), (2231, 0.1883379784849617), (2232, 0.2632966170562603), (2233, 0.4169829371097487), (2234, 0.4515150035102329), (2235, 0.39919020862676236), (2236, 0.3774269343001841), (2237, 0.2681305073551272), (2238, 0.3017549952332913), (2239, 0.4087418319512477), (2240, 0.4744696770298187), (2241, 0.3850504318789848), (2242, 0.34194763397061817), (2243, 0.32839091182608937), (2244, 0.3380424289853266), (2245, 0.3591230151372903), (2246, 0.28562061922350607), (2247, 0.3585948781126562), (2248, 0.11994073072207236), (2249, 0.12926570467156606), (2250, 0.41773621040339937), (2251, 0.38452771049035317), (2252, 0.1597780408428454), (2253, 0.48325400527258155), (2254, 0.09283640798105064), (2255, 0.36875906483326476), (2256, 0.2484425933349657), (2257, 0.4456216126527008), (2258, 0.2051021155314927), (2259, 0.05509690062962522), (2260, 0.11067861194945568), (2261, 0.2840104356266505), (2262, 0.20559810919163551), (2263, 0.1612164222504981), (2264, 0.23260306366126202), (2265, 0.1913640440426742), (2266, 0.3189566373098318), (2267, 0.4008119771945865), (2268, 0.07578349863280626), (2269, 0.34546462685017404), (2270, 0.14718211618393495), (2271, 0.20619598497885866), (2272, 0.13049429500192117), (2273, 0.13526825778424756), (2274, 0.47699937888482247), (2275, 0.2956294249529947), (2276, 0.3384876957703767), (2277, 0.40749016627260665), (2278, 0.47378276631504457), (2279, 0.43072987223518266), (2280, 0.2317144060037037), (2281, 0.41612827692124993), (2282, 0.48660298253874473), (2283, 0.5004570583450983), (2284, 0.3101944573328435), (2285, 0.43838051550392076), (2286, 0.4995498984028657), (2287, 0.08356038875769978), (2288, 0.20308106258998662), (2289, 0.3532934397188167), (2290, 0.41019858332610504), (2291, 0.44403839049958294), (2292, 0.05187750547298496), (2293, 0.4827130274380774), (2294, 0.3516804043550725), (2295, 0.1661552247123624), (2296, 0.3366335426337751), (2297, 0.464722410571673), (2298, 0.4162464743867429), (2299, 0.1550572795440309), (2300, 0.14306097927447342), (2301, 0.44451865645947725), (2302, 0.2682404440341709), (2303, 0.05053252575063831), (2304, 0.24057654665863348), (2305, 0.3564910860308548), (2306, 0.3927356998649539), (2307, 0.34532653279326186), (2308, 0.4819386888006604), (2309, 0.206881156346227), (2310, 0.49676870476367824), (2311, 0.402926555475117), (2312, 0.42484775802177815), (2313, 0.3123476735296457), (2314, 0.2749922284290463), (2315, 0.33514680946384534), (2316, 0.3774288877882626), (2317, 0.2777199437000302), (2318, 0.4720357140924315), (2319, 0.2197669671574973), (2320, 0.44909999556458974), (2321, 0.21039597753972777), (2322, 0.17453514896322908), (2323, 0.2887871837922703), (2324, 0.3685986289385116), (2325, 0.33550870987290043), (2326, 0.15073860719423793), (2327, 0.46426907842565035), (2328, 0.3645269911077311), (2329, 0.426091236006747), (2330, 0.4298387304764753), (2331, 0.3418854463657196), (2332, 0.34389393201516905), (2333, 0.23217384634402885), (2334, 0.46517447726572786), (2335, 0.29516242758752786), (2336, 0.46432367506054084), (2337, 0.3374545931717088), (2338, 0.27276003180328956), (2339, 0.39945974734872625), (2340, 0.11178007891095178), (2341, 0.35384651651926513), (2342, 0.13799818600410313), (2343, 0.4627839327225769), (2344, 0.4436507719024909), (2345, 0.3358007734335326), (2346, 0.2947559132664509), (2347, 0.354350536057169), (2348, 0.47838147524219365), (2349, 0.34193044991095034), (2350, 0.15110794390737578), (2351, 0.12601005165927576), (2352, 0.36732413873359754), (2353, 0.2223582237502023), (2354, 0.469386634589839), (2355, 0.3043145627812647), (2356, 0.19143518380220384), (2357, 0.1084124192096273), (2358, 0.40503107535852495), (2359, 0.21869824394114146), (2360, 0.30301991414136775), (2361, 0.3281376475264881), (2362, 0.3167950273645831), (2363, 0.3676668834143793), (2364, 0.04495103818797433), (2365, 0.30566736986436027), (2366, 0.3342945040510449), (2367, 0.06870896290429596), (2368, 0.4582614527723886), (2369, 0.4387730532920233), (2370, 0.3964588751002595), (2371, 0.31356266823983975), (2372, 0.315147608717286), (2373, 0.28409065561416447), (2374, 0.05203695922291517), (2375, 0.45216358504244514), (2376, 0.3819652973945181), (2377, 0.32337879073028897), (2378, 0.2895302031709297), (2379, 0.12021106820508812), (2380, 0.2858955254504711), (2381, 0.3508160657710133), (2382, 0.18028462162317208), (2383, 0.13959226369351102), (2384, 0.3008658035977552), (2385, 0.09066038131586374), (2386, 0.33261379137772934), (2387, 0.22619152040080234), (2388, 0.45884703137332), (2389, 0.2333668023368027), (2390, 0.2418999112052773), (2391, 0.1819615317724727), (2392, 0.3248152322801579), (2393, 0.11099652208157251), (2394, 0.11811919478833938), (2395, 0.4384767288661166), (2396, 0.24813314229059322), (2397, 0.4192489263609932), (2398, 0.3241610662455634), (2399, 0.2741513833421717), (2400, 0.4469853575766758), (2401, 0.1337980576547566), (2402, 0.4379178110767128), (2403, 0.42162182619007055), (2404, 0.2280244334687448), (2405, 0.4772324744800083), (2406, 0.4750001477857181), (2407, 0.39919921013100834), (2408, 0.3729221162454345), (2409, 0.3236059185497778), (2410, 0.29795338827941553), (2411, 0.21907322475656896), (2412, 0.359849471795114), (2413, 0.3251316744065969), (2414, 0.2873363932692313), (2415, 0.2241759740639086), (2416, 0.1643268282267389), (2417, 0.3004606181769691), (2418, 0.41805346163984397), (2419, 0.2607924258988046), (2420, 0.11120414277162971), (2421, 0.15574986370775895), (2422, 0.4072537738286464), (2423, 0.09460361244149394), (2424, 0.4064379322993981), (2425, 0.48446392871584953), (2426, 0.11713521156659079), (2427, 0.2895993772256565), (2428, 0.4877368643937471), (2429, 0.2975871877245799), (2430, 0.45179631643271495), (2431, 0.0817294311669593), (2432, 0.42237865832299104), (2433, 0.3451892455049581), (2434, 0.2610316743257735), (2435, 0.30743190008900956), (2436, 0.29513891250090785), (2437, 0.14093886810467907), (2438, 0.4338094027438604), (2439, 0.3011557014245388), (2440, 0.36309243483292697), (2441, 0.3802121339968729), (2442, 0.4193650313615691), (2443, 0.20387775789928825), (2444, 0.36607159027524927), (2445, 0.24931046434509727), (2446, 0.30113045689596957), (2447, 0.39829702522134103), (2448, 0.32931612958616824), (2449, 0.24858415627845426), (2450, 0.32110485724680277), (2451, 0.32165400368470315), (2452, 0.40115847173142527), (2453, 0.2769354929148843), (2454, 0.47755773921664235), (2455, 0.3308964496272943), (2456, 0.2731856319130259), (2457, 0.3638752842001371), (2458, 0.13578736767395871), (2459, 0.5043240056748823), (2460, 0.3632425860494846), (2461, 0.3338685475130333), (2462, 0.4101453155351938), (2463, 0.1462483034976352), (2464, 0.12705894963164682), (2465, 0.41211111104845666), (2466, 0.24863405632491906), (2467, 0.19902535869649418), (2468, 0.3219628542717941), (2469, 0.2104619180091365), (2470, 0.24940522576254093), (2471, 0.3790441813552781), (2472, 0.05397041879990157), (2473, 0.23454931553590755), (2474, 0.42562989365635384), (2475, 0.4046008840377247), (2476, 0.3284402968453063), (2477, 0.3104329214021618), (2478, 0.09278342091091217), (2479, 0.24342515052377522), (2480, 0.3173760246473354), (2481, 0.32604993160327606), (2482, 0.2965133131688576), (2483, 0.4116063379567585), (2484, 0.35083286131938735), (2485, 0.169359279062003), (2486, 0.3551080898956351), (2487, 0.16241817140444076), (2488, 0.18797478091244504), (2489, 0.2519710714332855), (2490, 0.36287071132197896), (2491, 0.42878475146309325), (2492, 0.26603367677544515), (2493, 0.3179831108102468), (2494, 0.4266534586641948), (2495, 0.35544366637134645), (2496, 0.25829837825720464), (2497, 0.3182435512408123), (2498, 0.04779178194991525), (2499, 0.2882801994385707), (2500, 0.13901155215696775), (2501, 0.4498798631888363), (2502, 0.3978971811172006), (2503, 0.46768520370796746), (2504, 0.08581636758318287), (2505, 0.07132324328132633), (2506, 0.05876834567895565), (2507, 0.4141711465424025), (2508, 0.24999804229049283), (2509, 0.2687194487078686), (2510, 0.32492571414093135), (2511, 0.43190687174973397), (2512, 0.2605775862744384), (2513, 0.41027463527449903), (2514, 0.4285478244416297), (2515, 0.27761969783171153), (2516, 0.5050306183848337), (2517, 0.49530521836695063), (2518, 0.3338230525270466), (2519, 0.11755116914986927), (2520, 0.3480518372640529), (2521, 0.2492606063766553), (2522, 0.43885377475949505), (2523, 0.25936424936911523), (2524, 0.3300251572915467), (2525, 0.4818281828923894), (2526, 0.27178811030820305), (2527, 0.18821719385230695), (2528, 0.24778962359923218), (2529, 0.4278631665689508), (2530, 0.3949091148034277), (2531, 0.09189409337870758), (2532, 0.3933229115232619), (2533, 0.4183258238714308), (2534, 0.3585341050269861), (2535, 0.22119787554433057), (2536, 0.4169025356169623), (2537, 0.39912574815240937), (2538, 0.24092789748271318), (2539, 0.3767466301321216), (2540, 0.45406062779888046), (2541, 0.46589228794919946), (2542, 0.10408508005917866), (2543, 0.3608805537741615), (2544, 0.390539562789217), (2545, 0.47619264233932657), (2546, 0.2145560125272436), (2547, 0.4854714894918601), (2548, 0.2848804061806779), (2549, 0.1986825277493899), (2550, 0.4347630974781838), (2551, 0.31986939945812054), (2552, 0.46931269405952963), (2553, 0.42591702431862555), (2554, 0.2766432345060747), (2555, 0.20624270289704075), (2556, 0.32766195470377196), (2557, 0.3892664932620157), (2558, 0.48041524022449705), (2559, 0.22424291703448895), (2560, 0.23672349747144894), (2561, 0.4382206101398377), (2562, 0.19338509592352052), (2563, 0.13578936375857922), (2564, 0.41173432167459245), (2565, 0.2472071838981525), (2566, 0.31982408304245885), (2567, 0.24540474095658665), (2568, 0.21692896713037008), (2569, 0.4274564643313471), (2570, 0.4482982935139156), (2571, 0.437738560694164), (2572, 0.34787010651022604), (2573, 0.28786497192982735), (2574, 0.1545094588706746), (2575, 0.29133295695546385), (2576, 0.20079475136192387), (2577, 0.07999180397553478), (2578, 0.45782148427347463), (2579, 0.32364524554372104), (2580, 0.23462840452424355), (2581, 0.41333444568132416), (2582, 0.32894335692438), (2583, 0.33596064482046284), (2584, 0.14450921230314503), (2585, 0.3759721061560323), (2586, 0.30898042508706686), (2587, 0.3593255384254091), (2588, 0.4266789229515401), (2589, 0.3944921254109478), (2590, 0.12304043932923454), (2591, 0.3205509635756187), (2592, 0.30198422367429284), (2593, 0.41813113862386964), (2594, 0.2044784801284385), (2595, 0.09245372231862015), (2596, 0.14991552522993978), (2597, 0.3703351982315993), (2598, 0.14975059044141442), (2599, 0.3380327001570941), (2600, 0.27766441301501016), (2601, 0.057927152749625385), (2602, 0.2766946506542436), (2603, 0.3700466953750994), (2604, 0.19810995155060393), (2605, 0.39202709882246034), (2606, 0.2830723702718386), (2607, 0.4922404875311338), (2608, 0.2244966950463735), (2609, 0.38110741310764384), (2610, 0.32347053217163096), (2611, 0.414427209548968), (2612, 0.38704750815953276), (2613, 0.21295303336047394), (2614, 0.082750037607421), (2615, 0.3168910755510429), (2616, 0.3743055881841774), (2617, 0.31762961464686446), (2618, 0.1803967956126409), (2619, 0.4626807836092715), (2620, 0.3056602289878178), (2621, 0.19090522047813402), (2622, 0.11025016535363658), (2623, 0.4441087756974567), (2624, 0.32624065739860636), (2625, 0.36591726562099014), (2626, 0.27958174471252534), (2627, 0.3161448936600897), (2628, 0.42197554377573343), (2629, 0.27742444469981864), (2630, 0.41314705669453305), (2631, 0.05553088203978481), (2632, 0.3474138666645266), (2633, 0.28609630160634375), (2634, 0.13194758222910458), (2635, 0.3429838917510946), (2636, 0.3301073561272508), (2637, 0.1626355703209296), (2638, 0.2996804523545919), (2639, 0.32146991140442926), (2640, 0.22931472699353544), (2641, 0.2829237100590928), (2642, 0.29012948602695293), (2643, 0.2313344747090572), (2644, 0.13389268923016992), (2645, 0.47045161080736386), (2646, 0.10327216178692776), (2647, 0.24821494494839713), (2648, 0.11227321646023672), (2649, 0.07761997474288265), (2650, 0.09562790557288142), (2651, 0.06948874085262743), (2652, 0.2821084169611726), (2653, 0.10309501272226831), (2654, 0.4375331151915804), (2655, 0.3878848476309114), (2656, 0.16095334964492847), (2657, 0.06921645341593115), (2658, 0.060331769319588786), (2659, 0.4294210024576166), (2660, 0.34109021003934437), (2661, 0.2917617482294672), (2662, 0.27974306772190854), (2663, 0.09408914215356028), (2664, 0.4368451663820635), (2665, 0.2751086079535209), (2666, 0.4454186387533557), (2667, 0.20726562858503897), (2668, 0.2665487980358424), (2669, 0.24091580367418253), (2670, 0.13171714175598806), (2671, 0.4086971116278667), (2672, 0.29611034276259385), (2673, 0.33938568125320534), (2674, 0.3014407809219152), (2675, 0.3592961888827462), (2676, 0.3972861768486111), (2677, 0.24187936011713962), (2678, 0.34006724592808546), (2679, 0.1506284920650914), (2680, 0.313011241418942), (2681, 0.128672424270028), (2682, 0.2598411285897717), (2683, 0.0569301398185989), (2684, 0.2886705534636), (2685, 0.2283226287945037), (2686, 0.4463527103461318), (2687, 0.257641946415177), (2688, 0.39315293024296216), (2689, 0.05149367105286198), (2690, 0.17868441821182476), (2691, 0.2118054862670539), (2692, 0.22914317817638308), (2693, 0.2397897889107197), (2694, 0.1391371669520158), (2695, 0.30702603212244206), (2696, 0.25555451633589343), (2697, 0.2834645670145048), (2698, 0.16174503156060843), (2699, 0.24503012718497752), (2700, 0.32300381164434155), (2701, 0.4069054541143534), (2702, 0.27459951025447793), (2703, 0.39145244603644724), (2704, 0.2977031581377963), (2705, 0.08866338241274278), (2706, 0.16216186534978436), (2707, 0.29910114590230474), (2708, 0.3215676741355064), (2709, 0.44960082636472964), (2710, 0.22894467101972252), (2711, 0.30186319076636026), (2712, 0.2780480003259862), (2713, 0.3247768213900607), (2714, 0.3738428128589368), (2715, 0.07084976585023917), (2716, 0.47341576122713364), (2717, 0.4090158005299963), (2718, 0.271722104882554), (2719, 0.31254725940544603), (2720, 0.479373945957233), (2721, 0.3089365715273389), (2722, 0.24948361434920602), (2723, 0.0867168757997752), (2724, 0.4397184154384748), (2725, 0.42693754798757816), (2726, 0.45671714095688043), (2727, 0.31326706959194384), (2728, 0.06658716554586365), (2729, 0.10604051563790044), (2730, 0.5111178682458913), (2731, 0.44614328801918224), (2732, 0.3622826005467885), (2733, 0.3178198416232223), (2734, 0.1980559425228235), (2735, 0.5061509185334823), (2736, 0.247110223167688), (2737, 0.24594748524539833), (2738, 0.19891534725896776), (2739, 0.4162637221270149), (2740, 0.36073736197479783), (2741, 0.2647131600079433), (2742, 0.4361881337405582), (2743, 0.5168061669327662), (2744, 0.1405234055070126), (2745, 0.06895991358647628), (2746, 0.13142166354095897), (2747, 0.27010243850705495), (2748, 0.11880474169107061), (2749, 0.2205271057273251), (2750, 0.46469571208930427), (2751, 0.46435195730110124), (2752, 0.4578900871938765), (2753, 0.3718961877243202), (2754, 0.10161226397755263), (2755, 0.45868003342855507), (2756, 0.38708867510567846), (2757, 0.44969613008067566), (2758, 0.2804205573390748), (2759, 0.07553414478034953), (2760, 0.35994169080240895), (2761, 0.13171167598799033), (2762, 0.18888907569566593), (2763, 0.3279230688309116), (2764, 0.08760500749822796), (2765, 0.4392283974710258), (2766, 0.2377310605235552), (2767, 0.3585805174774121), (2768, 0.3963932908125469), (2769, 0.442146199758346), (2770, 0.3516675999409814), (2771, 0.18333618555989944), (2772, 0.09776638079044347), (2773, 0.3783601576479051), (2774, 0.14654725761903212), (2775, 0.36598712635664055), (2776, 0.2860758966590933), (2777, 0.09437380049995853), (2778, 0.44376714227396663), (2779, 0.36179391665573907), (2780, 0.3637635501404952), (2781, 0.3848447425986873), (2782, 0.30906197566978016), (2783, 0.29850407769063203), (2784, 0.17894318129810258), (2785, 0.24612515973524676), (2786, 0.3535999070979129), (2787, 0.19634995774022668), (2788, 0.2505220225841857), (2789, 0.14205567544482847), (2790, 0.4397347753507075), (2791, 0.13917030237894296), (2792, 0.4302569622593293), (2793, 0.1430175809128753), (2794, 0.28916129540609037), (2795, 0.29546593387165326), (2796, 0.28490482111297194), (2797, 0.31539766027954635), (2798, 0.4382612541046982), (2799, 0.4410484436479434), (2800, 0.10074480785857687), (2801, 0.08470392185123535), (2802, 0.21247367819462226), (2803, 0.3195413109167322), (2804, 0.10221191595795948), (2805, 0.34385313381947347), (2806, 0.23363994358692122), (2807, 0.27284911100112014), (2808, 0.35224930674850896), (2809, 0.3883610768251274), (2810, 0.4826019297057078), (2811, 0.2605076416007787), (2812, 0.2722256083317774), (2813, 0.4697655033683278), (2814, 0.31164600752945226), (2815, 0.2928774006633408), (2816, 0.2537532620184018), (2817, 0.3216565334495348), (2818, 0.22785540897881082), (2819, 0.41247251711215555), (2820, 0.42228559190686166), (2821, 0.38226426203771097), (2822, 0.2433221984908549), (2823, 0.20408330935960617), (2824, 0.4577512990465767), (2825, 0.20115473842215337), (2826, 0.30498412092964544), (2827, 0.12939302025144467), (2828, 0.33310990158070664), (2829, 0.4290011229072165), (2830, 0.4246718094371197), (2831, 0.2616628251917651), (2832, 0.3758018340037778), (2833, 0.20947478537837871), (2834, 0.47523398358172986), (2835, 0.2595493384523051), (2836, 0.3838699554044574), (2837, 0.29602450880011744), (2838, 0.4671053331930984), (2839, 0.3148087785820304), (2840, 0.3395275304486338), (2841, 0.18556639139959932), (2842, 0.23031517142362404), (2843, 0.3593384685152967), (2844, 0.28418782986500724), (2845, 0.3187709566454685), (2846, 0.31565029485617213), (2847, 0.29962543969775124), (2848, 0.041729635210236954), (2849, 0.4688089913038163), (2850, 0.36294108032782185), (2851, 0.1739827733173512), (2852, 0.43589151028619183), (2853, 0.48869647553901796), (2854, 0.09562074155587778), (2855, 0.2778847451827485), (2856, 0.3179957372859868), (2857, 0.34528180163985894), (2858, 0.22470633609793256), (2859, 0.29579938738134565), (2860, 0.39148467084403077), (2861, 0.23525263295406895), (2862, 0.29069382260636945), (2863, 0.22154791272058455), (2864, 0.45795072438318096), (2865, 0.4060415877839185), (2866, 0.18357131048813355), (2867, 0.3779129658723439), (2868, 0.44759873049753185), (2869, 0.1173919353812111), (2870, 0.1973082016411976), (2871, 0.3740296342092666), (2872, 0.3928338941778582), (2873, 0.11065055431637079), (2874, 0.3717151142814338), (2875, 0.30174487449038057), (2876, 0.04778077463217463), (2877, 0.20786681569659168), (2878, 0.2707686823619355), (2879, 0.3439489977073883), (2880, 0.43577875200439736), (2881, 0.37114029843452984), (2882, 0.15325841291383402), (2883, 0.31466676918118835), (2884, 0.22700369961817093), (2885, 0.29883884194606936), (2886, 0.23119886993883654), (2887, 0.31888547911032394), (2888, 0.27768801681352423), (2889, 0.2960595274042931), (2890, 0.2949962509125121), (2891, 0.11847695613700669), (2892, 0.26894422144972496), (2893, 0.24747048181113282), (2894, 0.10669124030254468), (2895, 0.22254998799999842), (2896, 0.18291437736475405), (2897, 0.2763881849363539), (2898, 0.24778801211409143), (2899, 0.053745936657541224), (2900, 0.23387827284366788), (2901, 0.3067044764357833), (2902, 0.4245738592967643), (2903, 0.24664782024112444), (2904, 0.31933056380590125), (2905, 0.465341844636126), (2906, 0.09305752136483439), (2907, 0.2580644998047668), (2908, 0.1406420970634641), (2909, 0.261944630704167), (2910, 0.1413802398558023), (2911, 0.34555537903699485), (2912, 0.3647234804033999), (2913, 0.3246072516030089), (2914, 0.4076945102758973), (2915, 0.337214221695984), (2916, 0.20954921698078813), (2917, 0.4686486680437893), (2918, 0.2872646864792252), (2919, 0.28769555369277816), (2920, 0.3647202929728749), (2921, 0.37679909087863234), (2922, 0.29007327695092633), (2923, 0.31835536631426653), (2924, 0.3309177320344666), (2925, 0.30989876408806083), (2926, 0.4791270986718986), (2927, 0.24341467180176796), (2928, 0.3080530963218833), (2929, 0.2727176344452791), (2930, 0.3714532015780731), (2931, 0.13600984881446188), (2932, 0.3687453826059279), (2933, 0.1054067248096525), (2934, 0.47330308359414847), (2935, 0.4812294388326065), (2936, 0.2758302188660099), (2937, 0.15904160311449494), (2938, 0.3310875985630135), (2939, 0.3397122559161313), (2940, 0.20137005737474106), (2941, 0.2939997909931365), (2942, 0.41221866000148555), (2943, 0.375158067738181), (2944, 0.3169947537420633), (2945, 0.12055302458017252), (2946, 0.10015201287154399), (2947, 0.31975835966776367), (2948, 0.4254639694345609), (2949, 0.28023761124350965), (2950, 0.35153121592154585), (2951, 0.35923767359478653), (2952, 0.3328751924949194), (2953, 0.29481214175259635), (2954, 0.2930056357499058), (2955, 0.16600364307699353), (2956, 0.3521299060339348), (2957, 0.10319361659836762), (2958, 0.30035133774142675), (2959, 0.30653544291142243), (2960, 0.2973678620439524), (2961, 0.31099909891294675), (2962, 0.31553562376865596), (2963, 0.12493552308209822), (2964, 0.42376438713913706), (2965, 0.40262870126301453), (2966, 0.31200483296044895), (2967, 0.3669817444864297), (2968, 0.25621900320986457), (2969, 0.07801981139705945), (2970, 0.303695175221193), (2971, 0.14885887137776177), (2972, 0.4099957940300551), (2973, 0.10076459315334017), (2974, 0.11939401645680889), (2975, 0.46277449387911457), (2976, 0.32566928966001946), (2977, 0.2884127185983669), (2978, 0.2637811677937055), (2979, 0.30678287485935074), (2980, 0.4556092216358344), (2981, 0.23752943321355516), (2982, 0.3706181213644761), (2983, 0.4885283925396245), (2984, 0.466700461896699), (2985, 0.22401052338263913), (2986, 0.3028008447417612), (2987, 0.23635846445669054), (2988, 0.47274485101137076), (2989, 0.2779507352892165), (2990, 0.4802624250730695), (2991, 0.2927244414824863), (2992, 0.18603417097940744), (2993, 0.15613205057248988), (2994, 0.11892694690496065), (2995, 0.31023263966277476), (2996, 0.42927955192200823), (2997, 0.4616516206335571), (2998, 0.4312401819271145), (2999, 0.28649142295439345), (3000, 0.4691586806527637), (3001, 0.15784918717034907), (3002, 0.26054140374304463), (3003, 0.34566668708804654), (3004, 0.4160876682549425), (3005, 0.21460514226564625), (3006, 0.23058069521750632), (3007, 0.26728361337671913), (3008, 0.0626422621913681), (3009, 0.49601676851975496), (3010, 0.24415368081957378), (3011, 0.21767182217394193), (3012, 0.26484261311696433), (3013, 0.4401731529800621), (3014, 0.34288094473595204), (3015, 0.4874433645193514), (3016, 0.2576432816751808), (3017, 0.4017905235231817), (3018, 0.30913864842157207), (3019, 0.4050574926620085), (3020, 0.2480383692489017), (3021, 0.3982064996329776), (3022, 0.12996202071945806), (3023, 0.23955670650846655), (3024, 0.339730247202907), (3025, 0.15535028566954673), (3026, 0.36689889131891296), (3027, 0.19942330947310283), (3028, 0.20309098682420137), (3029, 0.4609523778262786), (3030, 0.3679840788293589), (3031, 0.5036877073898451), (3032, 0.4030195020310938), (3033, 0.21831660729502061), (3034, 0.3405011214478158), (3035, 0.32021659553543347), (3036, 0.16799675528417074), (3037, 0.15029850220372698), (3038, 0.22433399750401198), (3039, 0.279741063219674), (3040, 0.40204283560180193), (3041, 0.06920045003533376), (3042, 0.42984909381800274), (3043, 0.09826340646830518), (3044, 0.35406632374229985), (3045, 0.31282671104355203), (3046, 0.17971336326372067), (3047, 0.3122907728452308), (3048, 0.3703645553460649), (3049, 0.3956582104244615), (3050, 0.35780757489429316), (3051, 0.12422814372320339), (3052, 0.4019517166054259), (3053, 0.5060227807042031), (3054, 0.11095965653513673), (3055, 0.29666623006611), (3056, 0.12029146097560564), (3057, 0.49865420357016665), (3058, 0.44816237568882783), (3059, 0.09856938469189643), (3060, 0.10552827524357175), (3061, 0.3256919709514963), (3062, 0.12004988286164925), (3063, 0.08630563230178681), (3064, 0.24090068383202456), (3065, 0.31362846567008723), (3066, 0.24046595197649892), (3067, 0.3569555031231493), (3068, 0.3463889443015535), (3069, 0.138153212833709), (3070, 0.32892110037118455), (3071, 0.22004959042648742), (3072, 0.23349383968949095), (3073, 0.3320907067972033), (3074, 0.4079808097078555), (3075, 0.4467534364295428), (3076, 0.3447673807682898), (3077, 0.3094551419426177), (3078, 0.13743515725983896), (3079, 0.09353302033255514), (3080, 0.2336284389832202), (3081, 0.4681858129232812), (3082, 0.28134250142015294), (3083, 0.27307270490248775), (3084, 0.4017375925260107), (3085, 0.4308938584008954), (3086, 0.07287178046551118), (3087, 0.12232174901961076), (3088, 0.20105546610678432), (3089, 0.05800421512864366), (3090, 0.35716473221515616), (3091, 0.3682369668799991), (3092, 0.0709414781370474), (3093, 0.3377979078812383), (3094, 0.38390848166582464), (3095, 0.3016268690698617), (3096, 0.2171903677861644), (3097, 0.3332495021379634), (3098, 0.12023134559248284), (3099, 0.19736250059994573), (3100, 0.16863807994962407), (3101, 0.1956193130619874), (3102, 0.35535279162343786), (3103, 0.14345483046747715), (3104, 0.44111457445939567), (3105, 0.10987025898059033), (3106, 0.3153543415238481), (3107, 0.06261315773767014), (3108, 0.3267568970482528), (3109, 0.37695343317730573), (3110, 0.2877137555369193), (3111, 0.21088434835299244), (3112, 0.06518532247442288), (3113, 0.30488142279447267), (3114, 0.3339580639516325), (3115, 0.1380678745100345), (3116, 0.06229164140168831), (3117, 0.07269677907092913), (3118, 0.074476216423555), (3119, 0.1318176673592604), (3120, 0.2738470150928091), (3121, 0.09625560531789237), (3122, 0.17028070992836764), (3123, 0.2096281157648914), (3124, 0.16602714629265142), (3125, 0.35204865358866755), (3126, 0.2959229292221288), (3127, 0.3149666326819422), (3128, 0.43412025267594784), (3129, 0.1609044734029876), (3130, 0.40657910802373476), (3131, 0.17342002805674805), (3132, 0.13867280218018807), (3133, 0.4053688291270293), (3134, 0.10833594652572888), (3135, 0.05580781375325507), (3136, 0.11763272546321443), (3137, 0.19696134368876583), (3138, 0.36259334886103345), (3139, 0.36823050621010384), (3140, 0.19368057508208714), (3141, 0.2248463701421589), (3142, 0.429647090667241), (3143, 0.27465485527614963), (3144, 0.12271924202337509), (3145, 0.34361904142261046), (3146, 0.20755862035148517), (3147, 0.07970233175627994), (3148, 0.29382166512029007), (3149, 0.326999513363131), (3150, 0.30082152002615514), (3151, 0.12070077860354773), (3152, 0.13156321347674582), (3153, 0.4120730066828611), (3154, 0.0877498513018265), (3155, 0.23868895425061482), (3156, 0.3372513060614976), (3157, 0.17014545567755185), (3158, 0.4000593145115075), (3159, 0.20329371175451805), (3160, 0.19208999393296483), (3161, 0.4084456011605131), (3162, 0.334294832738386), (3163, 0.3445108953742501), (3164, 0.06495646646295358), (3165, 0.2246355082918895), (3166, 0.1363260369975971), (3167, 0.24748077962559498), (3168, 0.3424287232654918), (3169, 0.4714167806760229), (3170, 0.14743853472242077), (3171, 0.37515727053663944), (3172, 0.25301573926197546), (3173, 0.40685194364167987), (3174, 0.337801909730498), (3175, 0.18710863310674553), (3176, 0.20113681363294145), (3177, 0.21768642621229556), (3178, 0.3393331043175809), (3179, 0.13442242551258837), (3180, 0.3017323597617084), (3181, 0.27247536295073704), (3182, 0.3033600307179721), (3183, 0.4122165531871698), (3184, 0.27006055159219844), (3185, 0.06688958720736196), (3186, 0.08038461058611761), (3187, 0.3011130488147151), (3188, 0.30715316202347087), (3189, 0.15965995911906886), (3190, 0.2761226893033029), (3191, 0.14439299245412246), (3192, 0.25434138875638634), (3193, 0.10636782494925079), (3194, 0.32849826137373545), (3195, 0.048434708715587596), (3196, 0.1487457798321502), (3197, 0.4416380006055337), (3198, 0.18388016144289315), (3199, 0.11678346591747783), (3200, 0.20559889642497572), (3201, 0.3518376215953727), (3202, 0.2484733435465284), (3203, 0.15369194664156294), (3204, 0.16396814249636144), (3205, 0.4268129888239547), (3206, 0.2434470902939262), (3207, 0.430198734758376), (3208, 0.1691818412378979), (3209, 0.4181177459617072), (3210, 0.38506092403991243), (3211, 0.37277418675451046), (3212, 0.34608228676575453), (3213, 0.32901897897235877), (3214, 0.29762131958025745), (3215, 0.3501245030881821), (3216, 0.35445214079992254), (3217, 0.29221423865696217), (3218, 0.4450415960312591), (3219, 0.2981320931279489), (3220, 0.0881284388662338), (3221, 0.1378700218598268), (3222, 0.3299708216886512), (3223, 0.2650887714374059), (3224, 0.4412108773782015), (3225, 0.12370915218761484), (3226, 0.09997906611718252), (3227, 0.21861203507092786), (3228, 0.08869586935279998), (3229, 0.2589610709059357), (3230, 0.11914670398487798), (3231, 0.17782375688762633), (3232, 0.4436338681100787), (3233, 0.2620164136974228), (3234, 0.49082288624458154), (3235, 0.4797758976683284), (3236, 0.3358257541876028), (3237, 0.3540980512613108), (3238, 0.4749211955964938), (3239, 0.29572938391832215), (3240, 0.40677452130786923), (3241, 0.04661737893009227), (3242, 0.4217440557506233), (3243, 0.10679318566763174), (3244, 0.26839089648463266), (3245, 0.44231171959200166), (3246, 0.2954224247238731), (3247, 0.4353436611887561), (3248, 0.2243121068746035), (3249, 0.2902676727593135), (3250, 0.22555756216670064), (3251, 0.30481504455480785), (3252, 0.3991895195401831), (3253, 0.12387732058779731), (3254, 0.37729327748204006), (3255, 0.22361300803157036), (3256, 0.34927026869314726), (3257, 0.4712404187093323), (3258, 0.3484672989128067), (3259, 0.26827011837175824), (3260, 0.30103078956032436), (3261, 0.184403011564975), (3262, 0.3504827140793276), (3263, 0.4237732762152361), (3264, 0.05817162923358606), (3265, 0.18076743173066184), (3266, 0.3664046086917492), (3267, 0.35477168639276674), (3268, 0.14748611399687328), (3269, 0.19102233583441067), (3270, 0.26078337953873937), (3271, 0.3298771864680684), (3272, 0.35627319851300615), (3273, 0.09540743080573912), (3274, 0.44929970405140757), (3275, 0.09784707828845729), (3276, 0.3726960607550781), (3277, 0.3183623089736469), (3278, 0.27717141306780835), (3279, 0.1395936773051124), (3280, 0.3844522788630411), (3281, 0.24112027496491528), (3282, 0.2686875293816489), (3283, 0.2581059140468585), (3284, 0.13813577298716823), (3285, 0.13339200264967138), (3286, 0.2887274093740329), (3287, 0.05873896321534535), (3288, 0.40208330480674287), (3289, 0.3493627999428135), (3290, 0.27914921297617634), (3291, 0.36374916680996133), (3292, 0.11072497949333844), (3293, 0.10929623723503964), (3294, 0.32260328389524123), (3295, 0.07523393898256626), (3296, 0.3073116729100551), (3297, 0.4032278737770312), (3298, 0.03829461358378445), (3299, 0.13821959568162212), (3300, 0.3248184540724676), (3301, 0.3506270672154609), (3302, 0.26516921944565297), (3303, 0.25455666352654793), (3304, 0.31262240653652074), (3305, 0.30885368922231005), (3306, 0.3704132721637705), (3307, 0.42196698690640605), (3308, 0.0823042378523065), (3309, 0.14390524572631205), (3310, 0.2698145841769764), (3311, 0.5042139994402589), (3312, 0.3353465106871428), (3313, 0.20214485428857754), (3314, 0.307188348328702), (3315, 0.1961187448351053), (3316, 0.2697707247640107), (3317, 0.06547285115494367), (3318, 0.07922211974637071), (3319, 0.0621262027551812), (3320, 0.23951893128158536), (3321, 0.3517545881520523), (3322, 0.22444695933618775), (3323, 0.32392947784474263), (3324, 0.10492154471243897), (3325, 0.2222574142691155), (3326, 0.06704718479323055), (3327, 0.16476345620943295), (3328, 0.32439603246555054), (3329, 0.36049044183872636), (3330, 0.2207769248692451), (3331, 0.4536354615859114), (3332, 0.4693857281766679), (3333, 0.2813651236736556), (3334, 0.4728123586679678), (3335, 0.2920426874388455), (3336, 0.3520733477567541), (3337, 0.42857381443731024), (3338, 0.3513261772116234), (3339, 0.41213311788515744), (3340, 0.19900474356273543), (3341, 0.37161980051274335), (3342, 0.5128471010572807), (3343, 0.32842266054742675), (3344, 0.18481703466572216), (3345, 0.3984703735557107), (3346, 0.16776716975717898), (3347, 0.35027322546972267), (3348, 0.369919616986393), (3349, 0.3322463713087999), (3350, 0.38690590303977546), (3351, 0.37661315941815), (3352, 0.22314229259904678), (3353, 0.422854831530791), (3354, 0.17807469256082226), (3355, 0.40509296372651143), (3356, 0.32535269397756433), (3357, 0.4274360535067185), (3358, 0.10382401975208932), (3359, 0.18540451046338394), (3360, 0.4835080055792589), (3361, 0.20677468763298942), (3362, 0.3852339795458883), (3363, 0.28358678200344517), (3364, 0.24977775558873866), (3365, 0.4838579797930602), (3366, 0.3157251376304647), (3367, 0.2320473461820852), (3368, 0.15073439875758474), (3369, 0.11123409414067459), (3370, 0.347778233838214), (3371, 0.1680788097401363), (3372, 0.34429507663098635), (3373, 0.08788879159212956), (3374, 0.22732630853345104), (3375, 0.08557585098695708), (3376, 0.3201662832620257), (3377, 0.06744924248546713), (3378, 0.19374074235586017), (3379, 0.2803145451873899), (3380, 0.41135983320029107), (3381, 0.18742696312067791), (3382, 0.046326083820762816), (3383, 0.33965917066030415), (3384, 0.06929936107085163), (3385, 0.3071824310977979), (3386, 0.186259163720863), (3387, 0.3623349638060498), (3388, 0.13817336921797982), (3389, 0.052648113297767196), (3390, 0.35574967927043266), (3391, 0.24356921002011098), (3392, 0.2703244032845086), (3393, 0.056310924967648085), (3394, 0.15270099443184346), (3395, 0.30372498829034283), (3396, 0.20396297719177256), (3397, 0.23470529045328226), (3398, 0.3380917400741631), (3399, 0.31440881655792785), (3400, 0.2032952163802628), (3401, 0.3312362720025222), (3402, 0.10469627915995537), (3403, 0.0544490566822025), (3404, 0.2413364065650166), (3405, 0.34842695981580907), (3406, 0.21699238590628425), (3407, 0.13821455714445746), (3408, 0.1262748430270171), (3409, 0.4173467013348261), (3410, 0.2819847613393843), (3411, 0.4181759256747615), (3412, 0.07733930047304469), (3413, 0.3917008524806903), (3414, 0.4533201218670067), (3415, 0.07595859930389724), (3416, 0.1016644262634898), (3417, 0.3861468539975943), (3418, 0.43633444686589296), (3419, 0.09807518090440938), (3420, 0.2875482581026587), (3421, 0.3480759331622594), (3422, 0.24429835713940878), (3423, 0.33609265033496805), (3424, 0.3898537731612051), (3425, 0.22313869090684524), (3426, 0.1969536082740833), (3427, 0.3287091545948777), (3428, 0.43501656054691906), (3429, 0.33842924931758367), (3430, 0.33705699810672246), (3431, 0.3396947980118221), (3432, 0.045766115881130366), (3433, 0.3959069621453889), (3434, 0.12798736494569393), (3435, 0.21619829659131845), (3436, 0.2436540908164785), (3437, 0.40832456992258015), (3438, 0.24734493344288583), (3439, 0.4495863102309054), (3440, 0.3992809292504943), (3441, 0.3115224008253386), (3442, 0.3560356850376427), (3443, 0.28218116873710475), (3444, 0.33500358478867004), (3445, 0.4089357559611014), (3446, 0.1647660479749987), (3447, 0.32971392554429985), (3448, 0.3132713531805341), (3449, 0.36539645340593646), (3450, 0.399584111916946), (3451, 0.2292732428914545), (3452, 0.05429460071787879), (3453, 0.12421833644309777), (3454, 0.4666673404801574), (3455, 0.29674915296384136), (3456, 0.2654424098274645), (3457, 0.4388591581366697), (3458, 0.29778848686512865), (3459, 0.4003460487007135), (3460, 0.31479955340858495), (3461, 0.18437569052801805), (3462, 0.14740317221117505), (3463, 0.24566938222142848), (3464, 0.2676029911400911), (3465, 0.2818906961727645), (3466, 0.37761198819249703), (3467, 0.21754434036787432), (3468, 0.4309039943704053), (3469, 0.2528345430171181), (3470, 0.3741350873421012), (3471, 0.18130661977535792), (3472, 0.3997064131019168), (3473, 0.1261391185799091), (3474, 0.192837113649071), (3475, 0.26356680695181567), (3476, 0.3407250510343424), (3477, 0.33992431337665774), (3478, 0.04831921930973737), (3479, 0.33734098319684985), (3480, 0.3769062516099288), (3481, 0.24403023236215987), (3482, 0.2020370555121723), (3483, 0.3606434110438673), (3484, 0.3253108949721664), (3485, 0.17339932655285137), (3486, 0.22107563364538052), (3487, 0.2657500504729506), (3488, 0.34549255767479603), (3489, 0.07354209248807625), (3490, 0.38494372632801405), (3491, 0.2103883375790051), (3492, 0.3104747193787086), (3493, 0.182862781145747), (3494, 0.30117044098484064), (3495, 0.3752618080668537), (3496, 0.20287062554403812), (3497, 0.0718296791858641), (3498, 0.3522588598962188), (3499, 0.07178001116892968), (3500, 0.13722746844730654), (3501, 0.31986235052638257), (3502, 0.1889024102035018), (3503, 0.09137588827559302), (3504, 0.3693391077572301), (3505, 0.14685266815895257), (3506, 0.07300994174697599), (3507, 0.4478030763938914), (3508, 0.1294514778884077), (3509, 0.14231616437722958), (3510, 0.10257562374066735), (3511, 0.3314678789704192), (3512, 0.23696678037276472), (3513, 0.2944356637603446), (3514, 0.31765903156846365), (3515, 0.4115501087353286), (3516, 0.3001959996080306), (3517, 0.07937221993412877), (3518, 0.17670779115533694), (3519, 0.1887753050738731), (3520, 0.31691727856082036), (3521, 0.06348478183893023), (3522, 0.3785980746271204), (3523, 0.10105764482086739), (3524, 0.12494533209777356), (3525, 0.07876760275723478), (3526, 0.43055588752742435), (3527, 0.36247805493654794), (3528, 0.32223621133918395), (3529, 0.2541279160064533), (3530, 0.4093581401263869), (3531, 0.2760073590756341), (3532, 0.34459114990362116), (3533, 0.2945729125110863), (3534, 0.08356044127163964), (3535, 0.35891531227857826), (3536, 0.24934272749946843), (3537, 0.2431801551396228), (3538, 0.3304580239945478), (3539, 0.2580521643043363), (3540, 0.09512974057820822), (3541, 0.34272939470717206), (3542, 0.2016919049351545), (3543, 0.1824401213926364), (3544, 0.15892164755011476), (3545, 0.18740893753816334), (3546, 0.128771853258387), (3547, 0.1370743114830483), (3548, 0.385944021653027), (3549, 0.4553822855697063), (3550, 0.3193669607677753), (3551, 0.21265146308921823), (3552, 0.2722743575484341), (3553, 0.09949055936024126), (3554, 0.36020359075966135), (3555, 0.36867174950567944), (3556, 0.46414697421669077), (3557, 0.27708326856458454), (3558, 0.3246173121623539), (3559, 0.38294317038177794), (3560, 0.45338283734169926), (3561, 0.27811851928522896), (3562, 0.1569835936923001), (3563, 0.39562946572556684), (3564, 0.31722833944808293), (3565, 0.16321327642990363), (3566, 0.2508270583319868), (3567, 0.3995931634471559), (3568, 0.25574547511316276), (3569, 0.23490374636452063), (3570, 0.42535095278472446), (3571, 0.36858715287160926), (3572, 0.4452363943986851), (3573, 0.358993715798369), (3574, 0.42692363309524506), (3575, 0.24807292926388094), (3576, 0.3375795239255955), (3577, 0.2845421632840948), (3578, 0.34870998694205735), (3579, 0.14557099734401593), (3580, 0.3579133341051626), (3581, 0.15842308703458455), (3582, 0.15956820250187903), (3583, 0.3009253453483587), (3584, 0.4568576170024407), (3585, 0.07057244661361434), (3586, 0.43581901136524637), (3587, 0.3312792599048246), (3588, 0.40192921551117977), (3589, 0.3017473868570341), (3590, 0.30929706837637067), (3591, 0.10276777469471765), (3592, 0.1860361210267943), (3593, 0.24071777049891785), (3594, 0.471627335157559), (3595, 0.34270177605146634), (3596, 0.23513716553015915), (3597, 0.32940377945304944), (3598, 0.16133364527040714), (3599, 0.3600710147825237), (3600, 0.2453527997494943), (3601, 0.295541229294641), (3602, 0.41616748609157983), (3603, 0.3571058303954942), (3604, 0.46926094224926945), (3605, 0.26286756720182564), (3606, 0.42306818482960873), (3607, 0.12182849113625643), (3608, 0.11672555493940949), (3609, 0.1521663080838706), (3610, 0.06078765192906181), (3611, 0.35254753069237943), (3612, 0.1381695794764722), (3613, 0.10464241546799603), (3614, 0.10080396070503897), (3615, 0.36597867530848543), (3616, 0.25124404819630825), (3617, 0.22603451725877716), (3618, 0.12467180872559672), (3619, 0.24577573459101337), (3620, 0.371676915900391), (3621, 0.1683353202735852), (3622, 0.27123853284586813), (3623, 0.3083632781530341), (3624, 0.3727383764067171), (3625, 0.09842981636967575), (3626, 0.20976113638013857), (3627, 0.35126143886160277), (3628, 0.14251867801429105), (3629, 0.11454699387256251), (3630, 0.25410317482486505), (3631, 0.25285245575549414), (3632, 0.11640363292545303), (3633, 0.3548133059778126), (3634, 0.21607442412436673), (3635, 0.2398600953485943), (3636, 0.23103531947943207), (3637, 0.25993928785055676), (3638, 0.264412426532908), (3639, 0.31187443448888863), (3640, 0.4468451549410011), (3641, 0.15161695607814393), (3642, 0.29760582449842726), (3643, 0.32727506438071874), (3644, 0.15978740732601282), (3645, 0.1419451534203573), (3646, 0.3038522468458712), (3647, 0.3163104919968792), (3648, 0.2551523656892412), (3649, 0.10107557785219717), (3650, 0.16566313089610354), (3651, 0.11185802762677666), (3652, 0.17032160846953853), (3653, 0.370079848087313), (3654, 0.3211653324090717), (3655, 0.17072276140323836), (3656, 0.33006748334526187), (3657, 0.2533394919761593), (3658, 0.4246543168949506), (3659, 0.15852546375550142), (3660, 0.21210082219774778), (3661, 0.0), (3662, 0.2331058714530457), (3663, 0.16475086650855697), (3664, 0.38440921603323985), (3665, 0.37665573204631286), (3666, 0.429599603700361), (3667, 0.2400716292004397), (3668, 0.3822678949155119), (3669, 0.3517080294535615), (3670, 0.0), (3671, 0.2951403100595404), (3672, 0.3389735645376921), (3673, 0.16867447464225227), (3674, 0.0888910991086002), (3675, 0.20954876115685403), (3676, 0.39848187980228966), (3677, 0.4308534274156496), (3678, 0.1777456355720795), (3679, 0.29723533884668946), (3680, 0.1092868964691897), (3681, 0.2001830715964208), (3682, 0.09396253575247138), (3683, 0.22482620761824765), (3684, 0.3870492161040839), (3685, 0.18053509362840137), (3686, 0.1283105203134976), (3687, 0.09880905348605748), (3688, 0.2043069113007402), (3689, 0.19074797898349452), (3690, 0.2033638430802991), (3691, 0.08451141620036447), (3692, 0.20636198971679404), (3693, 0.3059058998544767), (3694, 0.39952973537846265), (3695, 0.1604312906727062), (3696, 0.3041576619631996), (3697, 0.3126703774969373), (3698, 0.23840939169286074), (3699, 0.3896472789987733), (3700, 0.25682656727447306), (3701, 0.39516952558234414), (3702, 0.061059100426625726), (3703, 0.125539764776824), (3704, 0.3024187936516966), (3705, 0.3535096927421491), (3706, 0.4292022208946962), (3707, 0.05203746798511153), (3708, 0.10085685092197161), (3709, 0.2283298407217731), (3710, 0.16121098358531516), (3711, 0.30330262507286854), (3712, 0.06487019007256338), (3713, 0.34809559361086084), (3714, 0.20963713562606756), (3715, 0.402606108443257), (3716, 0.20514948444178538), (3717, 0.40806955268403095), (3718, 0.08542624873919713), (3719, 0.42461433732530374), (3720, 0.17013808025792834), (3721, 0.2900102081247243), (3722, 0.23947746756747867), (3723, 0.06318678826225302), (3724, 0.25867907177792737), (3725, 0.4348834780978963), (3726, 0.27834626031919874), (3727, 0.3367916672235546), (3728, 0.22027487735787207), (3729, 0.15983227192938343), (3730, 0.36475168402358216), (3731, 0.228729831129271), (3732, 0.10272247896855097), (3733, 0.249787039983547), (3734, 0.23316910036014674), (3735, 0.37861974108057705), (3736, 0.30361108530084624), (3737, 0.17328366367221254), (3738, 0.4032020069766423), (3739, 0.4312346357053797), (3740, 0.1474120554101525), (3741, 0.36821162707494864), (3742, 0.48642941439331466), (3743, 0.26314054902271383), (3744, 0.0809375093933789), (3745, 0.2903836282996251), (3746, 0.4223793655055348), (3747, 0.25033998657710527), (3748, 0.28436754344205306), (3749, 0.36216905320562953), (3750, 0.24175490294721413), (3751, 0.1580136825007845), (3752, 0.09050225066204498), (3753, 0.37816225239560364), (3754, 0.33471439529232344), (3755, 0.0933006598569452), (3756, 0.07469961959907129), (3757, 0.3622840464642361), (3758, 0.20072706954070133), (3759, 0.24882539557983024), (3760, 0.04860684826890631), (3761, 0.2944775707755641), (3762, 0.13197810286976316), (3763, 0.10684425842466024), (3764, 0.2705098872769837), (3765, 0.39236571869754006), (3766, 0.4819814129608444), (3767, 0.2428984695734246), (3768, 0.052352263339834185), (3769, 0.27408257729989594), (3770, 0.10859049635892791), (3771, 0.07876565157932774), (3772, 0.3267959657839945), (3773, 0.332510323898759), (3774, 0.28357346013809454), (3775, 0.12960578838307782), (3776, 0.17132720489755943), (3777, 0.31459078907389393), (3778, 0.30567842391836086), (3779, 0.37581952042359135), (3780, 0.10322913895274685), (3781, 0.1765655297754189), (3782, 0.15152937407426592), (3783, 0.40683799842043794), (3784, 0.15242624393580195), (3785, 0.24387549176156728), (3786, 0.11520294384620358), (3787, 0.14247546300394914), (3788, 0.19876999951242147), (3789, 0.4225420180277122), (3790, 0.13198102165009537), (3791, 0.10948711003963119), (3792, 0.3371791531838121), (3793, 0.12282529014839634), (3794, 0.25153446546606434), (3795, 0.3405842446035827), (3796, 0.1325304752169798), (3797, 0.42039393724974916), (3798, 0.17825321026679972), (3799, 0.19336902054666125), (3800, 0.24560936312553228), (3801, 0.13003360809431788), (3802, 0.14404142064774703), (3803, 0.06652372910723726), (3804, 0.16627564360402225), (3805, 0.23888204107041297), (3806, 0.45711755391965836), (3807, 0.23835404103459576), (3808, 0.0652262720628273), (3809, 0.10458388833191892), (3810, 0.19979153518130355), (3811, 0.30068964574922336), (3812, 0.2955248462668255), (3813, 0.44181423830374217), (3814, 0.4185672210317237), (3815, 0.24619011609601998), (3816, 0.15424433203797827), (3817, 0.28067488661304096), (3818, 0.1104805038765143), (3819, 0.32412882384069786), (3820, 0.1874999387638815), (3821, 0.1566616135463421), (3822, 0.3132885436551705), (3823, 0.30628810719279215), (3824, 0.2907440893244585), (3825, 0.3683537684879492), (3826, 0.0797362033396469), (3827, 0.16814027977321322), (3828, 0.24058749260459986), (3829, 0.3494518499166268), (3830, 0.26512775784146714), (3831, 0.1727463795685499), (3832, 0.3534576682355352), (3833, 0.3030033166372419), (3834, 0.2599583688707007), (3835, 0.4466258487889784), (3836, 0.14789787275030397), (3837, 0.20815696536854647), (3838, 0.2934833911113275), (3839, 0.3853578362517839), (3840, 0.2823934840737992), (3841, 0.34131084472515266), (3842, 0.34433207423141254), (3843, 0.3210527014565163), (3844, 0.1563517620494949), (3845, 0.37629995365377544), (3846, 0.06533029854603391), (3847, 0.08058557504409081), (3848, 0.30883837680219384), (3849, 0.14289194654646192), (3850, 0.06991613182737706), (3851, 0.1224235644782461), (3852, 0.1166959008737144), (3853, 0.30754915037749564), (3854, 0.2175707053504729), (3855, 0.11795949985739893), (3856, 0.14169719138717024), (3857, 0.38297144341559614), (3858, 0.1658344178338357), (3859, 0.22032753284730172), (3860, 0.2410301882600022), (3861, 0.19489269337008386), (3862, 0.3878076362349341), (3863, 0.04873206450618596), (3864, 0.39675922340363823), (3865, 0.4709087157934114), (3866, 0.3974706316802791), (3867, 0.13258611126674844), (3868, 0.3493085113222639), (3869, 0.32523780570837907), (3870, 0.3431273584421742), (3871, 0.28066031266892794), (3872, 0.3582867420057386), (3873, 0.31444119867229914), (3874, 0.15090412492793784), (3875, 0.16183959539961598), (3876, 0.21757282970877007), (3877, 0.2847049442907687), (3878, 0.3884828375375904), (3879, 0.27448954210661286), (3880, 0.44220549625482686), (3881, 0.359477951534659), (3882, 0.47142708727219906), (3883, 0.4243782775105115), (3884, 0.30290506097057585), (3885, 0.34246123499395986), (3886, 0.3675173485864569), (3887, 0.43088775787890643), (3888, 0.22443120863441096), (3889, 0.39299401488603014), (3890, 0.22735573962872924), (3891, 0.33308078071374175), (3892, 0.19647309569092009), (3893, 0.3793588242802524), (3894, 0.22351038165983078), (3895, 0.2667407413133525), (3896, 0.3077103657892473), (3897, 0.25880640782875197), (3898, 0.3090859453396159), (3899, 0.3289770918918779), (3900, 0.1648069836054425), (3901, 0.1198998575834329), (3902, 0.18053781950250244), (3903, 0.27061332075854566), (3904, 0.0808922963197704), (3905, 0.22206082637851807), (3906, 0.36207752138774096), (3907, 0.30990800129683127), (3908, 0.2844253009574744), (3909, 0.2577216970312952), (3910, 0.44856706474255525), (3911, 0.11058625340240115), (3912, 0.13714442724134598), (3913, 0.2309444282419627), (3914, 0.37035763392434023), (3915, 0.10210193227196238), (3916, 0.22448377321175586), (3917, 0.06219096182760203), (3918, 0.3858582577145294), (3919, 0.35684256604142484), (3920, 0.23152313826058313), (3921, 0.12479337298281143), (3922, 0.05053983807402803), (3923, 0.11706257800521605), (3924, 0.17072443713600638), (3925, 0.09462575985601009), (3926, 0.09789651908549968), (3927, 0.10931410094370062), (3928, 0.285508666828604), (3929, 0.13770395989757783), (3930, 0.08117089561138073), (3931, 0.3167550274720893), (3932, 0.09096791672589025), (3933, 0.3599780423330017), (3934, 0.363679670861605), (3935, 0.32433937401290824), (3936, 0.2927490782511743), (3937, 0.19624271934008186), (3938, 0.2887135842661537), (3939, 0.3449250612198671), (3940, 0.26410527019480123), (3941, 0.12172830550654123), (3942, 0.29428491808432883), (3943, 0.1487178520087557), (3944, 0.2709004755606473), (3945, 0.06002142878109781), (3946, 0.37253539367336863), (3947, 0.0721704073647386), (3948, 0.13881164352500752), (3949, 0.4439999070010293), (3950, 0.2988922933913057), (3951, 0.20179460186175094), (3952, 0.30740247923208275), (3953, 0.12066742518447006), (3954, 0.3869101721436985), (3955, 0.1894868691943407), (3956, 0.39481731675182696), (3957, 0.057094454474998495), (3958, 0.4414746052287375), (3959, 0.12406419514444149), (3960, 0.14810533688947905), (3961, 0.2000308847446321), (3962, 0.17360872189115995), (3963, 0.33659650167607813), (3964, 0.07218682944426935), (3965, 0.2473025589671456), (3966, 0.38458228996345484), (3967, 0.29903891993010834), (3968, 0.10237422759730809), (3969, 0.28681826661868387), (3970, 0.09882528040145949), (3971, 0.16454194675075015), (3972, 0.12607622583389344), (3973, 0.40231562694117706), (3974, 0.39774660478585416), (3975, 0.22342982784236753), (3976, 0.37568885544073927), (3977, 0.0), (3978, 0.13844354143049217), (3979, 0.3521103459425108), (3980, 0.2572998342068474), (3981, 0.08099288508504664), (3982, 0.08467974727592216), (3983, 0.3771145118919436), (3984, 0.4072234364723193), (3985, 0.27053010050755494), (3986, 0.34338405886052575), (3987, 0.4256597326948586), (3988, 0.09655355000855598), (3989, 0.14951591577805123), (3990, 0.286067091294824), (3991, 0.2903627581350373), (3992, 0.05301602913920743), (3993, 0.10526081438065528), (3994, 0.24681976783362256), (3995, 0.1702764375119637), (3996, 0.31695862092832244), (3997, 0.2652509000627012), (3998, 0.21516256885346607), (3999, 0.37104185394398825), (4000, 0.2300095843399329), (4001, 0.30600655976382096), (4002, 0.1954786902679614), (4003, 0.3184568894267831), (4004, 0.15983276015424563), (4005, 0.32924465528757024), (4006, 0.3214561995363329), (4007, 0.0831005980756843), (4008, 0.2180395054916962), (4009, 0.16980477614669318), (4010, 0.2508832659514454), (4011, 0.2830106745137895), (4012, 0.31765581194885545), (4013, 0.2133656490799533), (4014, 0.34151059458790317), (4015, 0.2563462480537474), (4016, 0.3615393549651792), (4017, 0.27327567572400535), (4018, 0.19121062509407866), (4019, 0.2910816145592748), (4020, 0.35964303103627054), (4021, 0.1276789184411644), (4022, 0.3601854111979069), (4023, 0.2992910187446416), (4024, 0.33694748258243934), (4025, 0.1162093229871684), (4026, 0.08473199472391058), (4027, 0.09602626911737396), (4028, 0.10980299485761144), (4029, 0.10773335568138817), (4030, 0.3095448377916172), (4031, 0.20465685678743634), (4032, 0.15505989827857827), (4033, 0.39642647838824785), (4034, 0.09910727038897768), (4035, 0.38627656539752087), (4036, 0.23250658607832414), (4037, 0.10595806486111922), (4038, 0.13489769167914384), (4039, 0.1715025240728181), (4040, 0.34155806982217973), (4041, 0.3007533099451775), (4042, 0.25520855022214595), (4043, 0.3033935947803326), (4044, 0.048757842209854727), (4045, 0.07620220408203954), (4046, 0.20258681725219288), (4047, 0.12983679132816753), (4048, 0.4290841916187424), (4049, 0.2793965159054345), (4050, 0.3914654905558826), (4051, 0.09917198611680911), (4052, 0.24491488655611085), (4053, 0.29298579789729506), (4054, 0.303036376566029), (4055, 0.415078714511953), (4056, 0.08985045771317209), (4057, 0.21920801690679226), (4058, 0.08143041540328333), (4059, 0.0701177296655246), (4060, 0.07086398877659686), (4061, 0.3293434285284619), (4062, 0.26378010658215556), (4063, 0.18370065275763559), (4064, 0.18470080156027519), (4065, 0.18405068293445961), (4066, 0.3576763169253048), (4067, 0.11517319376734818), (4068, 0.0), (4069, 0.3835638831876066), (4070, 0.4068552181197125), (4071, 0.3916707380485388), (4072, 0.25815107863214737), (4073, 0.26652981573368534), (4074, 0.3970962940432102), (4075, 0.22670175656804786), (4076, 0.3994991830688082), (4077, 0.29487954712994524), (4078, 0.22322057876078288), (4079, 0.39600039002450954), (4080, 0.1891208940999841), (4081, 0.3857978557932875), (4082, 0.10585421623665488), (4083, 0.2649673754529361), (4084, 0.3383210570606787), (4085, 0.2294107178570552), (4086, 0.16049997208808853), (4087, 0.14731351837937628), (4088, 0.279310613849973), (4089, 0.3883749248961279), (4090, 0.37401192297395647), (4091, 0.29222232515381674), (4092, 0.2828954511828047), (4093, 0.29806325231603686), (4094, 0.25458294032172013), (4095, 0.28762407496014203), (4096, 0.36188816750620056), (4097, 0.2170376908205849), (4098, 0.20122941443265618), (4099, 0.24582471242009832), (4100, 0.4469112798276924), (4101, 0.3570925189166996), (4102, 0.07821378859837262), (4103, 0.24131081099058949), (4104, 0.2595614144733718), (4105, 0.0010641140927432967), (4106, 0.07919334788281407), (4107, 0.35675783978619585), (4108, 0.04439807934812214), (4109, 0.3941304431771959), (4110, 0.2592579065878133), (4111, 0.13185309694711522), (4112, 0.05561560241386826), (4113, 0.06997443575969028), (4114, 0.1869306214730169), (4115, 0.35555098761028214), (4116, 0.27497685133055033), (4117, 0.19442581109580445), (4118, 0.0), (4119, 0.25647814205966163), (4120, 0.0492423027350745), (4121, 0.24268835870256023), (4122, 0.16989832951563807), (4123, 0.0), (4124, 0.10370944798079393), (4125, 0.174036877450379), (4126, 0.15440276895473207), (4127, 0.06443854782422821), (4128, 0.23055870782822455), (4129, 0.39145024837402076), (4130, 0.38276036037237793), (4131, 0.11617291333978702), (4132, 0.41894157500306994), (4133, 0.2129814391399756), (4134, 0.25222050988616124), (4135, 0.0881630740576277), (4136, 0.23176253579815678), (4137, 0.26729095923793744), (4138, 0.2474838037444526), (4139, 0.09393860445460153), (4140, 0.040761754304139544), (4141, 0.2974752539796961), (4142, 0.25744919987843284), (4143, 0.09051455703284442), (4144, 0.39720094330544503), (4145, 0.20259761881534694), (4146, 0.12211294116931014), (4147, 0.36949378947007533), (4148, 0.17513223229446884), (4149, 0.07758276951014131), (4150, 0.31820549346198906), (4151, 0.21473107752516116), (4152, 0.1909995039250693), (4153, 0.3506178236253346), (4154, 0.1754371459151823), (4155, 0.4098854820686962), (4156, 0.10169901110655105), (4157, 0.3315837725334744), (4158, 0.1997557622954801), (4159, 0.10399154264016999), (4160, 0.1396300345774667), (4161, 0.3742171456388023), (4162, 0.259899083540755), (4163, 0.45622802088774816), (4164, 0.1801435971733106), (4165, 0.26239161951222606), (4166, 0.1937015159758364), (4167, 0.2866586843766416), (4168, 0.11615705188717707), (4169, 0.2716263501511987), (4170, 0.2559032938268816), (4171, 0.33361009418039694), (4172, 0.335191819405897), (4173, 0.35850061085106083), (4174, 0.29426239959619555), (4175, 0.2766233883941319), (4176, 0.276934171919493), (4177, 0.3488411739135813), (4178, 0.045556553915905254), (4179, 0.22399933977228675), (4180, 0.07662336112910034), (4181, 0.04601235902103994), (4182, 0.061154189719650816), (4183, 0.2567393536479902), (4184, 0.21416599091152944), (4185, 0.17526963684849936), (4186, 0.1884233401910343), (4187, 0.13177496788203427), (4188, 0.2748256173482539), (4189, 0.38917359074118957), (4190, 0.23362667708150006), (4191, 0.07291424637309676), (4192, 0.16375331324177048), (4193, 0.26077929337847056), (4194, 0.2811490780857651), (4195, 0.28167245960240217), (4196, 0.13313185575786077), (4197, 0.2956867303275403), (4198, 0.202147046775737), (4199, 0.12481123021764326), (4200, 0.33297144593108075), (4201, 0.33628522477884604), (4202, 0.15009250312888367), (4203, 0.08596836628468968), (4204, 0.10232528390036202), (4205, 0.1097919748156702), (4206, 0.27796204660689044), (4207, 0.37907972208501983), (4208, 0.1052877643396072), (4209, 0.30397561426546366), (4210, 0.06575159900265735), (4211, 0.19817650502615947), (4212, 0.12302134359884098), (4213, 0.44911513855874496), (4214, 0.3202630532921818), (4215, 0.2626422728021141), (4216, 0.38012450846577694), (4217, 0.2841771762594985), (4218, 0.4264830895042935), (4219, 0.3247096339101937), (4220, 0.3218439983152978), (4221, 0.19760632500698896), (4222, 0.06993039544843625), (4223, 0.26499757414620617), (4224, 0.3169689697671179), (4225, 0.3247892406760749), (4226, 0.2572620118797233), (4227, 0.044180261289654243), (4228, 0.10778496664012861), (4229, 0.29679800368914655), (4230, 0.21030612805006935), (4231, 0.32500618447970236), (4232, 0.11960385320672408), (4233, 0.06205837300004818), (4234, 0.3885958530834931), (4235, 0.07194289480983401), (4236, 0.04721255349721188), (4237, 0.2615023388757988), (4238, 0.2698852749281536), (4239, 0.2708834768861944), (4240, 0.13349900378011603), (4241, 0.07548735757937787), (4242, 0.25536762830531595), (4243, 0.24451110347541127), (4244, 0.08370724768562834), (4245, 0.31816444327111354), (4246, 0.10261349143101413), (4247, 0.0), (4248, 0.3934938059771463), (4249, 0.3416633221601234), (4250, 0.18518685467561222), (4251, 0.10091006571400847), (4252, 0.09453022005469426), (4253, 0.0642190110325321), (4254, 0.1774081482411938), (4255, 0.1345689490643899), (4256, 0.16032636476766335), (4257, 0.15274521655228576), (4258, 0.07745301042270748), (4259, 0.431077162133), (4260, 0.18569863112420898), (4261, 0.29683926856708787), (4262, 0.11017116475527708), (4263, 0.15658195925367774), (4264, 0.4151057646058255), (4265, 0.199212943939282), (4266, 0.23321022937954172), (4267, 0.23747714405280285), (4268, 0.26867798830522105), (4269, 0.10039875484499358), (4270, 0.24724190800133677), (4271, 0.3200947665233653), (4272, 0.06974082135028258), (4273, 0.06317228839854645), (4274, 0.24465491327991454), (4275, 0.08672998702990056), (4276, 0.31055312477520125), (4277, 0.07906443321874572), (4278, 0.09345596645753296), (4279, 0.10637542594149291), (4280, 0.11945874220275016), (4281, 0.3914906532203209), (4282, 0.18409676203943473), (4283, 0.3415610296722545), (4284, 0.33018089707309867), (4285, 0.09804749812866453), (4286, 0.040205745244323646), (4287, 0.37828414300962643), (4288, 0.30177566051978943), (4289, 0.29227046769374815), (4290, 0.23087310990991794), (4291, 0.4740136844326902), (4292, 0.17274484665860582), (4293, 0.07228713587757554), (4294, 0.12868880822915504), (4295, 0.32164975391080647), (4296, 0.38559816060841806), (4297, 0.32181420773910824), (4298, 0.04460933031008625), (4299, 0.23962271838914034), (4300, 0.4569870424836201), (4301, 0.25123769275840424), (4302, 0.3592523754807618), (4303, 0.24684602903076797), (4304, 0.18110521213522318), (4305, 0.0), (4306, 0.04304496658822981), (4307, 0.0633661660479477), (4308, 0.3351059209805409), (4309, 0.15767380259974684), (4310, 0.04840556048797486), (4311, 0.29741302606420467), (4312, 0.24009551211880162), (4313, 0.09056313600322413), (4314, 0.0), (4315, 0.3025681354064884), (4316, 0.21006536029556985), (4317, 0.30312586811649833), (4318, 0.06082549379790238), (4319, 0.07674006976817223), (4320, 0.3785849728948122), (4321, 0.047612892303326736), (4322, 0.0), (4323, 0.17703713876946847), (4324, 0.04086437494475619), (4325, 0.3916586384669052), (4326, 0.28024391611821137), (4327, 0.12038889585141345), (4328, 0.05788217816633437), (4329, 0.3964254026058116), (4330, 0.0932458269875696), (4331, 0.15366908973183876), (4332, 0.2504473992809118), (4333, 0.3947675293699288), (4334, 0.1974351946322651), (4335, 0.19543030157087304), (4336, 0.3935486457310522), (4337, 0.4371594489889404), (4338, 0.2867565892754565), (4339, 0.29724155461646545), (4340, 0.45368386606784417), (4341, 0.4514015444973379), (4342, 0.24315422254197824), (4343, 0.3050546958492994), (4344, 0.16984528669232982), (4345, 0.37565611568677126), (4346, 0.31611498047217346), (4347, 0.4024778684812247), (4348, 0.35922369542079235), (4349, 0.3263465444148845), (4350, 0.3124957236991603), (4351, 0.1899445183194145), (4352, 0.3005325978794761), (4353, 0.4421210632210643), (4354, 0.3578662093016799), (4355, 0.30251032185306553), (4356, 0.12170157489558327), (4357, 0.15744337123557176), (4358, 0.09587340208694406), (4359, 0.25206006959058763), (4360, 0.3887725695768893), (4361, 0.33315635630311946), (4362, 0.31101771985227594), (4363, 0.05345435083710316), (4364, 0.14109466960270858), (4365, 0.2736294423432716), (4366, 0.07413915340483829), (4367, 0.17551712091159427), (4368, 0.25938589910856713), (4369, 0.06916887015991033), (4370, 0.07874211991876257), (4371, 0.08985870667753071), (4372, 0.16679043115986736), (4373, 0.08482610111500652), (4374, 0.0781857565060762), (4375, 0.07858321036586766), (4376, 0.32378509813292494), (4377, 0.1079349959619656), (4378, 0.2912682449915371), (4379, 0.2015584641979078), (4380, 0.2335910894475654), (4381, 0.3677679846908185), (4382, 0.16195894873477837), (4383, 0.13035323941539212), (4384, 0.06650127319731118), (4385, 0.059948446701743305), (4386, 0.2551785750210448), (4387, 0.33758363093307775), (4388, 0.24162390759785674), (4389, 0.04598382141295029), (4390, 0.29703121871116245), (4391, 0.09870465532094304), (4392, 0.3114467882970997), (4393, 0.3294295358480256), (4394, 0.09149628619641949), (4395, 0.10935630771256796), (4396, 0.08682225375208055), (4397, 0.08478627878861658), (4398, 0.3343684304387196), (4399, 0.12123911203993018), (4400, 0.06793071192058332), (4401, 0.011970381357743528), (4402, 0.13651105923010592), (4403, 0.10938132874630642), (4404, 0.1540493674707435), (4405, 0.0), (4406, 0.1334041497988118), (4407, 0.08439236092841111), (4408, 0.1546523385800921), (4409, 0.1826692524297516), (4410, 0.2818092404893838), (4411, 0.06493873995784348), (4412, 0.15863400628147453), (4413, 0.08729729254692233), (4414, 0.1080722220771956), (4415, 0.2580081577064632), (4416, 0.06811928541080346), (4417, 0.10871329283613257), (4418, 0.15941972257375686), (4419, 0.11306769565221295), (4420, 0.3107269643624707), (4421, 0.32044759569271564), (4422, 0.10352124753287421), (4423, 0.08030742455832937), (4424, 0.1888618158531466), (4425, 0.17226997813641806), (4426, 0.06261724690234471), (4427, 0.22018901444928063), (4428, 0.3866133513804443), (4429, 0.3159720775648576), (4430, 0.09139758815318366), (4431, 0.0500750455694971), (4432, 0.2522018278561012), (4433, 0.2574460211909146), (4434, 0.27301284704288153), (4435, 0.19980865304374132), (4436, 0.3202367057701473), (4437, 0.3465340099892165), (4438, 0.06586658556586568), (4439, 0.32374648837154407), (4440, 0.23984146088735472), (4441, 0.3958898905679781), (4442, 0.09619883041300423), (4443, 0.0893639001748799), (4444, 0.08617405354605773), (4445, 0.10889310932859986), (4446, 0.3699141931883715), (4447, 0.20751053126974145), (4448, 0.0725160331524247), (4449, 0.21801444838352052), (4450, 0.24808150555769656), (4451, 0.09577893875233369), (4452, 0.22741084135751014), (4453, 0.07096471442896853), (4454, 0.1692854582513791), (4455, 0.26206835175550164), (4456, 0.11680762107946585), (4457, 0.17958982769252285), (4458, 0.0), (4459, 0.052525415596885894), (4460, 0.23755371970800515), (4461, 0.08511936603496607), (4462, 0.15890104167257718), (4463, 0.33961619020286066), (4464, 0.34444908616564573), (4465, 0.3138442867554748), (4466, 0.19988988882784162), (4467, 0.3112491970070332), (4468, 0.05705609004812674), (4469, 0.31606560822997976), (4470, 0.3641778742492758), (4471, 0.13742794413372827), (4472, 0.26343090568917926), (4473, 0.2765696968614683), (4474, 0.2586946661114277), (4475, 0.054292990975851566), (4476, 0.3294692441312977), (4477, 0.26806669913752573), (4478, 0.057380012524758765), (4479, 0.3995541271326968), (4480, 0.12267767761525664), (4481, 0.2220486576870483), (4482, 0.12459890689181453), (4483, 0.11771636172206663), (4484, 0.04871205441031812), (4485, 0.3078105691852335), (4486, 0.3541709011425022), (4487, 0.21306013237641808), (4488, 0.4075931822314726), (4489, 0.231486434705676), (4490, 0.06440260639529205), (4491, 0.0551939743292139), (4492, 0.3818211500635377), (4493, 0.06518337684187837), (4494, 0.3776379964639106), (4495, 0.32577894362652327), (4496, 0.3470518344560243), (4497, 0.284363110879251), (4498, 0.28328934127921845), (4499, 0.09162839269395495), (4500, 0.24361537850402593), (4501, 0.056879414597635375), (4502, 0.12108336532165682), (4503, 0.12830005763325622), (4504, 0.0), (4505, 0.1449828194618248), (4506, 0.2679069931973281), (4507, 0.24582428048038027), (4508, 0.047437951486349605), (4509, 0.28873008789005894), (4510, 0.15570088091696171), (4511, 0.10079362814965336), (4512, 0.2227880958507853), (4513, 0.054644361209167), (4514, 0.3235380388932894), (4515, 0.25589190844271215), (4516, 0.32710322132787606), (4517, 0.07401691876702589), (4518, 0.32057303862374326), (4519, 0.05810760647898741), (4520, 0.10210814583133793), (4521, 0.14550849259388968), (4522, 0.0814691860024229), (4523, 0.19686689138933344), (4524, 0.08230600121736105), (4525, 0.09633353933315236), (4526, 0.06437909986838194), (4527, 0.12189932822960614), (4528, 0.2826797061475363), (4529, 0.08236386028889121), (4530, 0.22381760768522255), (4531, 0.0465720224469792), (4532, 0.19167093778097416), (4533, 0.3207103446791473), (4534, 0.2746749910810571), (4535, 0.277876027490137), (4536, 0.19963718142541018), (4537, 0.3124103217953512), (4538, 0.20300114871537212), (4539, 0.20313771952287937), (4540, 0.06546941475223009), (4541, 0.2725185149993338), (4542, 0.23851631041435853), (4543, 0.35122079180599863), (4544, 0.11906219810740482), (4545, 0.20007881595607221), (4546, 0.17110873863607684), (4547, 0.06112737555546659), (4548, 0.1291022907116734), (4549, 0.4216079420760586), (4550, 0.05696860045781088), (4551, 0.072882010124431), (4552, 0.24563654679494878), (4553, 0.0), (4554, 0.18845225593001036), (4555, 0.2986274721927616), (4556, 0.08668173367366147), (4557, 0.055695303809364105), (4558, 0.19753646730254654), (4559, 0.1217850654396144), (4560, 0.2294445488912903), (4561, 0.1823584939495057), (4562, 0.0), (4563, 0.27048620716367494), (4564, 0.056947233759209376), (4565, 0.09818749313195865), (4566, 0.0), (4567, 0.08160634989212755), (4568, 0.2999351359785363), (4569, 0.1223679508241523), (4570, 0.2530260552125426), (4571, 0.0009024976071562147), (4572, 0.07134677262243473), (4573, 0.27983473005324183), (4574, 0.07363546461381225), (4575, 0.17367431165792319), (4576, 0.3515458748343501), (4577, 0.18355963180179335), (4578, 0.18708958545454407), (4579, 0.29046312716869155), (4580, 0.2969913743085868), (4581, 0.05425345009312726), (4582, 0.14877955601577592), (4583, 0.0), (4584, 0.1197559950634827), (4585, 0.2690977079625391), (4586, 0.2915310879254075), (4587, 0.26580170634356975), (4588, 0.326171787693899), (4589, 0.0), (4590, 0.07078461697435791), (4591, 0.1956836994070116), (4592, 0.308218660534171), (4593, 0.05523770825734852), (4594, 0.21646141148971124), (4595, 0.2464917724562483), (4596, 0.2623411214800063), (4597, 0.11636587322040567), (4598, 0.12880978382644095), (4599, 0.3403349006764967), (4600, 0.06414069620381027), (4601, 0.2861235832289041), (4602, 0.2964011494379633), (4603, 0.1535532651650841), (4604, 0.25354101416119224), (4605, 0.2913004387974141), (4606, 0.15753436524932368), (4607, 0.06643350979196315), (4608, 0.2207688841131275), (4609, 0.17973232530889793), (4610, 0.27574180160643236), (4611, 0.0634362895844415), (4612, 0.13842928031430293), (4613, 0.3077451449655203), (4614, 0.0803890420025994), (4615, 0.25471133745041946), (4616, 0.11631273201215424), (4617, 0.049467583879781084), (4618, 0.300007931656211), (4619, 0.12315767997524268), (4620, 0.08815578629071061), (4621, 0.07053034048751643), (4622, 0.17362094775028342), (4623, 0.24189077440367013), (4624, 0.12440664672198636), (4625, 0.04763756298574303), (4626, 0.19394103161083634), (4627, 0.1973217202379936), (4628, 0.237237394257342), (4629, 0.15125357419966473), (4630, 0.16493632515070783), (4631, 0.2405925685023394), (4632, 0.0797398419830006), (4633, 0.0), (4634, 0.06237421942592163), (4635, 0.043267736353018185), (4636, 0.09147401694268542), (4637, 0.11406944641368845), (4638, 0.004748609342375107), (4639, 0.42002546625481746), (4640, 0.17836409692761507), (4641, 0.07245966659027063), (4642, 0.27836793314682506), (4643, 0.17962656927344064), (4644, 0.0), (4645, 0.23912003020864206), (4646, 0.09111132707694374), (4647, 0.371268602858415), (4648, 0.09372565267865904), (4649, 0.29362961757105127), (4650, 0.35454837769514214), (4651, 0.07100887686796782), (4652, 0.2420704017073156), (4653, 0.0688428757199242), (4654, 0.11945667032959661), (4655, 0.23941362685084294), (4656, 0.16247114116940453), (4657, 0.0), (4658, 0.050210306762866364), (4659, 0.23531578662037), (4660, 0.14294605046929562), (4661, 0.24924625793009958), (4662, 0.0), (4663, 0.06666195275990056), (4664, 0.3343469078619876), (4665, 0.12692338182987098), (4666, 0.08705515667983026), (4667, 0.09646820808045334), (4668, 0.046811348904979656), (4669, 0.26906632061546426), (4670, 0.32331037001702984), (4671, 0.32271621852215426), (4672, 0.3492089489451945), (4673, 0.15482331208013939), (4674, 0.0), (4675, 0.0924610768041188), (4676, 0.19883620206825353), (4677, 0.08728110343318231), (4678, 0.11103855716072808), (4679, 0.061936874868170025), (4680, 0.06561099142282079), (4681, 0.07506349380394707), (4682, 0.10324360568732213), (4683, 0.18734059941000006), (4684, 0.08331415766969619), (4685, 0.053881288047245485), (4686, 0.22984293343900158), (4687, 0.2767940503565154), (4688, 0.24807333500944478), (4689, 0.09133594480068358), (4690, 0.08940293258636349), (4691, 0.11471578580458017), (4692, 0.10170199429836073), (4693, 0.1137655356456002), (4694, 0.13534279517507555), (4695, 0.06459352180898506), (4696, 0.09405789260612442), (4697, 0.2501590871785293), (4698, 0.15200685167749142), (4699, 0.18838275246473418), (4700, 0.3639397003548744), (4701, 0.12837557597454763), (4702, 0.05638583103332136), (4703, 0.30403132519628545), (4704, 0.265630641395908), (4705, 0.09385633328804845), (4706, 0.0662570128100163), (4707, 0.2654814100421562), (4708, 0.11545178894486245), (4709, 0.09628613026055574), (4710, 0.047935339315115316), (4711, 0.2552311304782491), (4712, 0.08315072660004318), (4713, 0.11401751003034176), (4714, 0.0496030848124735), (4715, 0.11088127353978787), (4716, 0.002387069367710878), (4717, 0.20412761896345044), (4718, 0.28577111034933783), (4719, 0.2922444542024104), (4720, 0.34201268363545473), (4721, 0.06775207200621645), (4722, 0.08210218861730081), (4723, 0.1898403929704261), (4724, 0.1579168443096557), (4725, 0.11342938455981526), (4726, 0.19868296511236458), (4727, 0.06897425126327604), (4728, 0.079660028695302), (4729, 0.18052807285003825), (4730, 0.3261130930780174), (4731, 0.10847850332296861), (4732, 0.32661336207911695), (4733, 0.1784635163598195), (4734, 0.2424076313745928), (4735, 0.07960082886743046), (4736, 0.12978958069598887), (4737, 0.04466434263581661), (4738, 0.2572520580336573), (4739, 0.0660795360495277), (4740, 0.18017047205376777), (4741, 0.1370858548441476), (4742, 0.18470631408111687), (4743, 0.12504468296186338), (4744, 0.14117773897549302), (4745, 0.25876857847851603), (4746, 0.10128156946797924), (4747, 0.12064888169285003), (4748, 0.3740637501607072), (4749, 0.1710819556243876), (4750, 0.19484296203364343), (4751, 0.1708389787754604), (4752, 0.2454918459092717), (4753, 0.07104140242493737), (4754, 0.08296171337779758), (4755, 0.05969703275518206), (4756, 0.11635546568332349), (4757, 0.15576796856233419), (4758, 0.4500729210283995), (4759, 0.27754701544156746), (4760, 0.22187939897751247), (4761, 0.061644218119813826), (4762, 0.30384137661155325), (4763, 0.0713493575183035), (4764, 0.1688813094117758), (4765, 0.0489412204333624), (4766, 0.3212041324065647), (4767, 0.21401839563995684), (4768, 0.2093048822826013), (4769, 0.07322678164944077), (4770, 0.07669264447008864), (4771, 0.06478608891486504), (4772, 0.10774802286693982), (4773, 0.21618860812429286), (4774, 0.1453247838025795), (4775, 0.10933576553426101), (4776, 0.20804253655688448), (4777, 0.08596444891823041), (4778, 0.2847919252120321), (4779, 0.08568483673964614), (4780, 0.13188405103696627), (4781, 0.11891279890551756), (4782, 0.21957435399351694), (4783, 0.4124924231974678), (4784, 0.11452789746784814), (4785, 0.17880517662735737), (4786, 0.1641756056437894), (4787, 0.09085193954801726), (4788, 0.1553178695154976), (4789, 0.07157329428346916), (4790, 0.08337526801269073), (4791, 0.12275643713386883), (4792, 0.06680926023858161), (4793, 0.11347123160412333), (4794, 0.10945365156242148), (4795, 0.1699967243256793), (4796, 0.10407812889370986), (4797, 0.08309772329902186), (4798, 0.2180638709545369), (4799, 0.20698406121715832), (4800, 0.28582960817503905), (4801, 0.07823407209766504), (4802, 0.18166719898918768)]\n"
          ]
        }
      ]
    },
    {
      "cell_type": "code",
      "source": [
        "movies=np.array(movies)\n",
        "movies"
      ],
      "metadata": {
        "colab": {
          "base_uri": "https://localhost:8080/"
        },
        "id": "KgguJqU4U6_S",
        "outputId": "772473dd-b28f-46e9-c623-4d96ba08e775"
      },
      "execution_count": null,
      "outputs": [
        {
          "output_type": "execute_result",
          "data": {
            "text/plain": [
              "array([[0.00000000e+00, 4.93236626e-01],\n",
              "       [1.00000000e+00, 4.21310012e-01],\n",
              "       [2.00000000e+00, 5.13381713e-01],\n",
              "       ...,\n",
              "       [4.80000000e+03, 2.85829608e-01],\n",
              "       [4.80100000e+03, 7.82340721e-02],\n",
              "       [4.80200000e+03, 1.81667199e-01]])"
            ]
          },
          "metadata": {},
          "execution_count": 57
        }
      ]
    },
    {
      "cell_type": "code",
      "source": [
        "recommended_movies=movies[movies[:,1].argsort()]\n",
        "print(recommended_movies)"
      ],
      "metadata": {
        "colab": {
          "base_uri": "https://localhost:8080/"
        },
        "id": "-FdaTgu9VWAT",
        "outputId": "f9cd361c-0b5c-45f8-dfc8-c3f988613d01"
      },
      "execution_count": null,
      "outputs": [
        {
          "output_type": "stream",
          "name": "stdout",
          "text": [
            "[[3.66100000e+03 0.00000000e+00]\n",
            " [4.12300000e+03 0.00000000e+00]\n",
            " [3.97700000e+03 0.00000000e+00]\n",
            " ...\n",
            " [1.82000000e+02 5.46325637e-01]\n",
            " [7.90000000e+01 6.04437417e-01]\n",
            " [6.80000000e+01 1.00000000e+00]]\n"
          ]
        }
      ]
    },
    {
      "cell_type": "code",
      "source": [
        "recommended_movies.shape"
      ],
      "metadata": {
        "colab": {
          "base_uri": "https://localhost:8080/"
        },
        "id": "CpL-GvdSOs2Z",
        "outputId": "80fa2816-f4bb-43f0-cc51-23306aeb847b"
      },
      "execution_count": null,
      "outputs": [
        {
          "output_type": "execute_result",
          "data": {
            "text/plain": [
              "(4803, 2)"
            ]
          },
          "metadata": {},
          "execution_count": 63
        }
      ]
    },
    {
      "cell_type": "code",
      "source": [
        "movie_ids=[]\n",
        "for i in range(4802,-1,-1):\n",
        "  movie_ids.append(recommended_movies[i,0])\n",
        "movie_ids=np.array(movie_ids)\n"
      ],
      "metadata": {
        "id": "mzmoSE9dXBf2"
      },
      "execution_count": null,
      "outputs": []
    },
    {
      "cell_type": "code",
      "source": [
        "movie_ids"
      ],
      "metadata": {
        "colab": {
          "base_uri": "https://localhost:8080/"
        },
        "id": "xeRb6opPQz4s",
        "outputId": "dcc41a65-f261-46c5-deb1-74d6044de89e"
      },
      "execution_count": null,
      "outputs": [
        {
          "output_type": "execute_result",
          "data": {
            "text/plain": [
              "array([  68.,   79.,  182., ..., 3977., 4123., 3661.])"
            ]
          },
          "metadata": {},
          "execution_count": 75
        }
      ]
    },
    {
      "cell_type": "code",
      "source": [
        "movie_recommendations=[]\n",
        "for i in range(0,30):\n",
        "  movie_recommendations.append(list(dataset['title'].values[dataset['index']==movie_ids[i]]))"
      ],
      "metadata": {
        "id": "A_K1puIhXbNu"
      },
      "execution_count": null,
      "outputs": []
    },
    {
      "cell_type": "code",
      "source": [
        "print(movie_recommendations)"
      ],
      "metadata": {
        "colab": {
          "base_uri": "https://localhost:8080/"
        },
        "id": "0GcvcEYySE2w",
        "outputId": "1ef5e717-be12-4438-9ee1-b96e35a68bef"
      },
      "execution_count": null,
      "outputs": [
        {
          "output_type": "stream",
          "name": "stdout",
          "text": [
            "[['Iron Man'], ['Iron Man 2'], ['Ant-Man'], ['Hulk'], ['Blade: Trinity'], ['Spider-Man'], ['Captain America: Civil War'], ['Terminator 3: Rise of the Machines'], ['Spider-Man 2'], ['Alexander'], ['Catwoman'], ['The Core'], ['Elektra'], ['Blade II'], ['Blade'], ['Bad Boys II'], ['Cursed'], ['Avengers: Age of Ultron'], ['The Chronicles of Riddick'], ['The Punisher'], ['The Aviator'], ['The Avengers'], ['Batman v Superman: Dawn of Justice'], ['Scary Movie 2'], ['Master and Commander: The Far Side of the World'], ['Scary Movie 3'], ['The Day After Tomorrow'], ['Minority Report'], ['Contact'], ['Fantastic Four']]\n"
          ]
        }
      ]
    }
  ]
}